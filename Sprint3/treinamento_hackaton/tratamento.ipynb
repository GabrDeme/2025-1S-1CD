{
 "cells": [
  {
   "cell_type": "markdown",
   "metadata": {},
   "source": [
    "## Despesas"
   ]
  },
  {
   "cell_type": "code",
   "execution_count": 83,
   "metadata": {},
   "outputs": [],
   "source": [
    "import pandas as pd\n",
    "\n",
    "df = pd.read_excel('despesas.xlsx')"
   ]
  },
  {
   "cell_type": "code",
   "execution_count": 84,
   "metadata": {},
   "outputs": [],
   "source": [
    "# Ajuste do formato da 'data'\n",
    "df['data'] = pd.to_datetime(df['data'], unit='ms').dt.strftime('%d-%m-%Y')"
   ]
  },
  {
   "cell_type": "code",
   "execution_count": 85,
   "metadata": {},
   "outputs": [
    {
     "name": "stderr",
     "output_type": "stream",
     "text": [
      "C:\\Users\\53144094889\\AppData\\Local\\Temp\\ipykernel_11384\\787198718.py:2: FutureWarning: A value is trying to be set on a copy of a DataFrame or Series through chained assignment using an inplace method.\n",
      "The behavior will change in pandas 3.0. This inplace method will never work because the intermediate object on which we are setting values always behaves as a copy.\n",
      "\n",
      "For example, when doing 'df[col].method(value, inplace=True)', try using 'df.method({col: value}, inplace=True)' or df[col] = df[col].method(value) instead, to perform the operation inplace on the original object.\n",
      "\n",
      "\n",
      "  df['valor'].fillna(df['valor'].mean(), inplace=True)\n"
     ]
    }
   ],
   "source": [
    "# Preenche os valores vazios da coluna 'valor' com a média\n",
    "df['valor'].fillna(df['valor'].mean(), inplace=True)\n",
    "df['valor'] = df['valor'].round(2)"
   ]
  },
  {
   "cell_type": "code",
   "execution_count": 86,
   "metadata": {},
   "outputs": [
    {
     "name": "stderr",
     "output_type": "stream",
     "text": [
      "C:\\Users\\53144094889\\AppData\\Local\\Temp\\ipykernel_11384\\2243495094.py:2: FutureWarning: A value is trying to be set on a copy of a DataFrame or Series through chained assignment using an inplace method.\n",
      "The behavior will change in pandas 3.0. This inplace method will never work because the intermediate object on which we are setting values always behaves as a copy.\n",
      "\n",
      "For example, when doing 'df[col].method(value, inplace=True)', try using 'df.method({col: value}, inplace=True)' or df[col] = df[col].method(value) instead, to perform the operation inplace on the original object.\n",
      "\n",
      "\n",
      "  df['fornecedor'].fillna('Desconhecido', inplace=True)\n"
     ]
    }
   ],
   "source": [
    "# Preenche os valores vazios da coluna 'fornecedor' com 'Desconhecido'\n",
    "df['fornecedor'].fillna('Desconhecido', inplace=True)"
   ]
  },
  {
   "cell_type": "code",
   "execution_count": 88,
   "metadata": {},
   "outputs": [
    {
     "data": {
      "text/plain": [
       "0             TEIXEIRA\n",
       "1                NUNES\n",
       "2                MOURA\n",
       "3               BARROS\n",
       "4               MENDES\n",
       "5      DA ROCHA VARGAS\n",
       "6                   SÁ\n",
       "7                JESUS\n",
       "8            RODRIGUES\n",
       "9               CIRINO\n",
       "10           RODRIGUES\n",
       "11                DIAS\n",
       "12                  SÁ\n",
       "13            CASSIANO\n",
       "14      ANDRADE VIEIRA\n",
       "15        DESCONHECIDO\n",
       "16        DESCONHECIDO\n",
       "17               VIANA\n",
       "18             CARDOSO\n",
       "19              NOVAES\n",
       "20    MACHADO CARVALHO\n",
       "21    ANDRADE E FILHOS\n",
       "22              BORGES\n",
       "23           RODRIGUES\n",
       "24         VASCONCELOS\n",
       "25             PIMENTA\n",
       "26             CAMARGO\n",
       "27                DIAS\n",
       "28      NOGUEIRA SILVA\n",
       "29            CALDEIRA\n",
       "30     VIEIRA E FILHOS\n",
       "31             DA MATA\n",
       "32            FERREIRA\n",
       "33    DA ROCHA PIMENTA\n",
       "34             DA ROSA\n",
       "35             FREITAS\n",
       "36              PASTOR\n",
       "37            NOGUEIRA\n",
       "38    ALMEIDA CASSIANO\n",
       "39             CARDOSO\n",
       "40         VIEIRA MELO\n",
       "41               RAMOS\n",
       "42         ALBUQUERQUE\n",
       "43          MONTENEGRO\n",
       "44               NUNES\n",
       "45        DESCONHECIDO\n",
       "46             DA CRUZ\n",
       "47      MACEDO CARDOSO\n",
       "48        DESCONHECIDO\n",
       "49               JESUS\n",
       "Name: fornecedor, dtype: object"
      ]
     },
     "execution_count": 88,
     "metadata": {},
     "output_type": "execute_result"
    }
   ],
   "source": [
    "df['fornecedor'] = df['fornecedor'].str.upper()\n",
    "\n",
    "# Remove siglas dos nomes das empresas\n",
    "siglas_para_remover = r'\\b(S/A|S\\.A\\.|S\\.A|S A|S\\.A\\.\\s?|ME|MEI|EIRELI|EI|LTDA|Ltda\\.|Ltda|EIRELI|EIRELI\\.| - | / |CNPJ|FUNDO|ASSOC|S\\.R\\.L|S.R.L|SA|EI| - |CNPJ|&|\\.|:|,|º|,|º)\\b'\n",
    "\n",
    "df['fornecedor'] = df['fornecedor'].str.replace(siglas_para_remover, '', regex=True)\n",
    "df['fornecedor'] = df['fornecedor'].str.strip('.')\n",
    "df['fornecedor'] = df['fornecedor'].str.strip()\n",
    "\n",
    "df['fornecedor'].head(50)"
   ]
  },
  {
   "cell_type": "code",
   "execution_count": 89,
   "metadata": {},
   "outputs": [],
   "source": [
    "df.to_excel('despesas_limpo.xlsx', index=False) "
   ]
  },
  {
   "cell_type": "markdown",
   "metadata": {},
   "source": [
    "## Orçamento"
   ]
  },
  {
   "cell_type": "code",
   "execution_count": 36,
   "metadata": {},
   "outputs": [],
   "source": [
    "df_orcamento = pd.read_excel('orcamento.xlsx')"
   ]
  },
  {
   "cell_type": "code",
   "execution_count": 40,
   "metadata": {},
   "outputs": [],
   "source": [
    "# Padronizando números após a vírgula\n",
    "df_orcamento['valor_previsto'] = df_orcamento['valor_previsto'].round(2)\n",
    "df_orcamento['valor_realizado'] = df_orcamento['valor_realizado'].round(2)\n",
    "\n",
    "# df_orcamento['valor_previsto'].head(11)\n",
    "# df_orcamento['valor_realizado'].head()"
   ]
  },
  {
   "cell_type": "code",
   "execution_count": 41,
   "metadata": {},
   "outputs": [],
   "source": [
    "df_orcamento.to_excel('orcamentos_limpo.xlsx', index=False) "
   ]
  }
 ],
 "metadata": {
  "kernelspec": {
   "display_name": "Python 3",
   "language": "python",
   "name": "python3"
  },
  "language_info": {
   "codemirror_mode": {
    "name": "ipython",
    "version": 3
   },
   "file_extension": ".py",
   "mimetype": "text/x-python",
   "name": "python",
   "nbconvert_exporter": "python",
   "pygments_lexer": "ipython3",
   "version": "3.12.1"
  }
 },
 "nbformat": 4,
 "nbformat_minor": 2
}
