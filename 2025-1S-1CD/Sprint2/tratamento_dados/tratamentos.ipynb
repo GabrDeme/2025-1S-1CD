{
 "cells": [
  {
   "cell_type": "code",
   "execution_count": 3,
   "metadata": {},
   "outputs": [],
   "source": [
    "import pandas as pd\n",
    "\n",
    "df = pd.read_excel('dados_ausentes.xlsx')"
   ]
  },
  {
   "cell_type": "code",
   "execution_count": 4,
   "metadata": {},
   "outputs": [
    {
     "name": "stdout",
     "output_type": "stream",
     "text": [
      "       Nome  Idade          Cidade  Salário\n",
      "0       Ana   28.0       São Paulo   3500.0\n",
      "1    Carlos    NaN  Rio De Janeiro   5000.0\n",
      "2  Fernanda   22.0             NaN      NaN\n",
      "3      João   41.0    Porto Alegre   4500.0\n",
      "4   Mariana    NaN        Curitiba   4000.0\n",
      "5       Ana   28.0       São Paulo   3500.0\n",
      "6       Ana   28.0       São Paulo   3500.0\n",
      "7  Fernanda   22.0       São Paulo      NaN\n"
     ]
    }
   ],
   "source": [
    "# Corrigindo erros de formatação\n",
    "df['Cidade'] = df['Cidade'].str.title()\n",
    "print(df)"
   ]
  },
  {
   "cell_type": "code",
   "execution_count": 7,
   "metadata": {},
   "outputs": [
    {
     "name": "stdout",
     "output_type": "stream",
     "text": [
      "       Nome  Idade          Cidade  Salário\n",
      "0       Ana   28.0       São Paulo   3500.0\n",
      "1    Carlos    NaN  Rio De Janeiro   5000.0\n",
      "2  Fernanda   22.0             NaN      NaN\n",
      "3      João   41.0    Porto Alegre   4500.0\n",
      "4   Mariana    NaN        Curitiba   4000.0\n",
      "5       Ana   28.0       São Paulo   3500.0\n",
      "6       Ana   28.0       São Paulo   3500.0\n",
      "7  Fernanda   22.0       São Paulo      NaN\n"
     ]
    }
   ],
   "source": [
    "# Substituindo valores categóricos\n",
    "df['Cidade'].str.lower().replace({'São Paulo': 'SP', 'rio de janeiro': 'RJ', 'rj': 'RJ'})\n",
    "print(df)"
   ]
  },
  {
   "cell_type": "code",
   "execution_count": 8,
   "metadata": {},
   "outputs": [
    {
     "name": "stdout",
     "output_type": "stream",
     "text": [
      "['Nome', 'Cidade']\n"
     ]
    }
   ],
   "source": [
    "# Identificando os tipos de dados das colunas\n",
    "coluna_string = df.select_dtypes(include=['string', 'object']).columns.to_list()\n",
    "print(coluna_string)"
   ]
  },
  {
   "cell_type": "code",
   "execution_count": 9,
   "metadata": {},
   "outputs": [
    {
     "name": "stdout",
     "output_type": "stream",
     "text": [
      "['Idade', 'Salário']\n"
     ]
    }
   ],
   "source": [
    "coluna_float = df.select_dtypes(include=['float']).columns.to_list()\n",
    "print(coluna_float)"
   ]
  },
  {
   "cell_type": "code",
   "execution_count": 10,
   "metadata": {},
   "outputs": [
    {
     "name": "stdout",
     "output_type": "stream",
     "text": [
      "       Nome      Idade          Cidade  Salário\n",
      "0       Ana  28.000000       São Paulo   3500.0\n",
      "1    Carlos  28.166667  Rio De Janeiro   5000.0\n",
      "2  Fernanda  22.000000             NaN      NaN\n",
      "3      João  41.000000    Porto Alegre   4500.0\n",
      "4   Mariana  28.166667        Curitiba   4000.0\n",
      "5       Ana  28.000000       São Paulo   3500.0\n",
      "6       Ana  28.000000       São Paulo   3500.0\n",
      "7  Fernanda  22.000000       São Paulo      NaN\n"
     ]
    },
    {
     "name": "stderr",
     "output_type": "stream",
     "text": [
      "C:\\Users\\53144094889\\AppData\\Local\\Temp\\ipykernel_39852\\37509742.py:1: FutureWarning: A value is trying to be set on a copy of a DataFrame or Series through chained assignment using an inplace method.\n",
      "The behavior will change in pandas 3.0. This inplace method will never work because the intermediate object on which we are setting values always behaves as a copy.\n",
      "\n",
      "For example, when doing 'df[col].method(value, inplace=True)', try using 'df.method({col: value}, inplace=True)' or df[col] = df[col].method(value) instead, to perform the operation inplace on the original object.\n",
      "\n",
      "\n",
      "  df['Idade'].fillna(df['Idade'].mean(), inplace=True)\n"
     ]
    }
   ],
   "source": [
    "# Substituição de dados ausentes para média\n",
    "df['Idade'].fillna(df['Idade'].mean(), inplace=True)\n",
    "print(df)"
   ]
  },
  {
   "cell_type": "code",
   "execution_count": 13,
   "metadata": {},
   "outputs": [
    {
     "name": "stdout",
     "output_type": "stream",
     "text": [
      "       Nome  Idade          Cidade  Salário\n",
      "0       Ana     28       São Paulo   3500.0\n",
      "1    Carlos     28  Rio De Janeiro   5000.0\n",
      "2  Fernanda     22             NaN      NaN\n",
      "3      João     41    Porto Alegre   4500.0\n",
      "4   Mariana     28        Curitiba   4000.0\n",
      "5       Ana     28       São Paulo   3500.0\n",
      "6       Ana     28       São Paulo   3500.0\n",
      "7  Fernanda     22       São Paulo      NaN\n"
     ]
    }
   ],
   "source": [
    "# Converção de dados\n",
    "df['Idade'] = df['Idade'].astype(int)\n",
    "print(df)"
   ]
  },
  {
   "cell_type": "code",
   "execution_count": 16,
   "metadata": {},
   "outputs": [],
   "source": [
    "# Valor de cima\n",
    "df['Idade'] = df['Idade'].ffill()\n",
    "\n",
    "# Valor de baixo\n",
    "df['Idade'] = df['Idade'].bfill()"
   ]
  },
  {
   "cell_type": "code",
   "execution_count": 17,
   "metadata": {},
   "outputs": [
    {
     "name": "stdout",
     "output_type": "stream",
     "text": [
      "       Nome  Idade          Cidade  Salário Faixa Etária\n",
      "0       Ana     28       São Paulo   3500.0       Adulto\n",
      "1    Carlos     28  Rio De Janeiro   5000.0       Adulto\n",
      "2  Fernanda     22             NaN      NaN       Adulto\n",
      "3      João     41    Porto Alegre   4500.0   Meia-Idade\n",
      "4   Mariana     28        Curitiba   4000.0       Adulto\n",
      "5       Ana     28       São Paulo   3500.0       Adulto\n",
      "6       Ana     28       São Paulo   3500.0       Adulto\n",
      "7  Fernanda     22       São Paulo      NaN       Adulto\n"
     ]
    }
   ],
   "source": [
    "# Criando uma nova coluna\n",
    "df['Faixa Etária'] = pd.cut(df['Idade'], bins=[0, 18, 30, 50, 100], labels=['Jovem', 'Adulto', 'Meia-Idade', 'Idoso'])\n",
    "print(df)"
   ]
  },
  {
   "cell_type": "code",
   "execution_count": 18,
   "metadata": {},
   "outputs": [
    {
     "name": "stdout",
     "output_type": "stream",
     "text": [
      "       Nome  Idade          Cidade  Salário Faixa Etária\n",
      "0       Ana     28       São Paulo   3500.0       Adulto\n",
      "1    Carlos     28  Rio De Janeiro   5000.0       Adulto\n",
      "2  Fernanda     22             NaN      NaN       Adulto\n",
      "3      João     41    Porto Alegre   4500.0   Meia-Idade\n",
      "4   Mariana     28        Curitiba   4000.0       Adulto\n"
     ]
    }
   ],
   "source": [
    "# Remover duplicatas\n",
    "df = df.drop_duplicates(subset='Nome')\n",
    "print(df)"
   ]
  }
 ],
 "metadata": {
  "kernelspec": {
   "display_name": "Python 3",
   "language": "python",
   "name": "python3"
  },
  "language_info": {
   "codemirror_mode": {
    "name": "ipython",
    "version": 3
   },
   "file_extension": ".py",
   "mimetype": "text/x-python",
   "name": "python",
   "nbconvert_exporter": "python",
   "pygments_lexer": "ipython3",
   "version": "3.12.1"
  }
 },
 "nbformat": 4,
 "nbformat_minor": 2
}
