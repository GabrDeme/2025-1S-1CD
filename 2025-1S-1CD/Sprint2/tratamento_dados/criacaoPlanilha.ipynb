{
 "cells": [
  {
   "cell_type": "code",
   "execution_count": 1,
   "metadata": {},
   "outputs": [
    {
     "name": "stdout",
     "output_type": "stream",
     "text": [
      "       Nome  Idade          Cidade  Salário\n",
      "0       Ana   28.0       São Paulo   3500.0\n",
      "1    Carlos    NaN  Rio de Janeiro   5000.0\n",
      "2  Fernanda   22.0             NaN      NaN\n",
      "3      João   41.0    Porto Alegre   4500.0\n",
      "4   Mariana    NaN        Curitiba   4000.0\n"
     ]
    }
   ],
   "source": [
    "import pandas as pd\n",
    "import numpy as np\n",
    "\n",
    "# Criar um dataframe com alguns dados faltando\n",
    "data = {\n",
    "    \"Nome\": [\"Ana\", \"Carlos\", \"Fernanda\", \"João\", \"Mariana\"],\n",
    "    \"Idade\": [28, np.nan, 22, 41, np.nan],\n",
    "    \"Cidade\": [\"São Paulo\", \"Rio de Janeiro\", np.nan, \"Porto Alegre\", \"Curitiba\"],\n",
    "    \"Salário\": [3500, 5000, np.nan, 4500, 4000]\n",
    "}\n",
    "\n",
    "df = pd.DataFrame(data)\n",
    "\n",
    "print(df)"
   ]
  },
  {
   "cell_type": "code",
   "execution_count": null,
   "metadata": {},
   "outputs": [],
   "source": []
  }
 ],
 "metadata": {
  "kernelspec": {
   "display_name": "Python 3",
   "language": "python",
   "name": "python3"
  },
  "language_info": {
   "codemirror_mode": {
    "name": "ipython",
    "version": 3
   },
   "file_extension": ".py",
   "mimetype": "text/x-python",
   "name": "python",
   "nbconvert_exporter": "python",
   "pygments_lexer": "ipython3",
   "version": "3.12.1"
  }
 },
 "nbformat": 4,
 "nbformat_minor": 2
}
