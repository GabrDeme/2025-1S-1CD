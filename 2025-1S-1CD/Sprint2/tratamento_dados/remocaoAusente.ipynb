{
 "cells": [
  {
   "cell_type": "code",
   "execution_count": 1,
   "metadata": {},
   "outputs": [
    {
     "name": "stdout",
     "output_type": "stream",
     "text": [
      "       Nome  Idade          Cidade  Salário\n",
      "0       Ana   28.0       São Paulo   3500.0\n",
      "1    Carlos    NaN  Rio de Janeiro   5000.0\n",
      "2  Fernanda   22.0             NaN      NaN\n",
      "3      João   41.0    Porto Alegre   4500.0\n",
      "4   Mariana    NaN        Curitiba   4000.0\n"
     ]
    }
   ],
   "source": [
    "import pandas as pd\n",
    "\n",
    "# Acesso do arquivo para ler os seus dados\n",
    "df = pd.read_excel('dados_ausentes.xlsx') \n",
    "print(df)"
   ]
  },
  {
   "cell_type": "code",
   "execution_count": 2,
   "metadata": {},
   "outputs": [
    {
     "name": "stdout",
     "output_type": "stream",
     "text": [
      "    Nome  Idade  Cidade  Salário\n",
      "0  False  False   False    False\n",
      "1  False   True   False    False\n",
      "2  False  False    True     True\n",
      "3  False  False   False    False\n",
      "4  False   True   False    False\n"
     ]
    }
   ],
   "source": [
    "# Verificação de existência dos dados faltantes\n",
    "print(df.isnull())"
   ]
  },
  {
   "cell_type": "code",
   "execution_count": 3,
   "metadata": {},
   "outputs": [
    {
     "name": "stdout",
     "output_type": "stream",
     "text": [
      "Nome       0\n",
      "Idade      2\n",
      "Cidade     1\n",
      "Salário    1\n",
      "dtype: int64\n"
     ]
    }
   ],
   "source": [
    "# Contagem de valores ausentes\n",
    "print(df.isnull().sum())"
   ]
  },
  {
   "cell_type": "code",
   "execution_count": 5,
   "metadata": {},
   "outputs": [
    {
     "name": "stdout",
     "output_type": "stream",
     "text": [
      "   Nome  Idade        Cidade  Salário\n",
      "0   Ana   28.0     São Paulo   3500.0\n",
      "3  João   41.0  Porto Alegre   4500.0\n"
     ]
    }
   ],
   "source": [
    "# Exclusão de linhas com dados ausentes\n",
    "df_sem_nulos = df.dropna()\n",
    "print(df_sem_nulos)"
   ]
  },
  {
   "cell_type": "code",
   "execution_count": 9,
   "metadata": {},
   "outputs": [
    {
     "name": "stdout",
     "output_type": "stream",
     "text": [
      "       Nome  Idade          Cidade  Salário\n",
      "0       Ana   28.0       São Paulo   3500.0\n",
      "1    Carlos    NaN  Rio de Janeiro   5000.0\n",
      "2  Fernanda   22.0    Desconhecido      0.0\n",
      "3      João   41.0    Porto Alegre   4500.0\n",
      "4   Mariana    NaN        Curitiba   4000.0\n"
     ]
    }
   ],
   "source": [
    "# Substituição de dados ausentes\n",
    "# Cidades - Desconhecido\n",
    "\n",
    "df['Cidade'].fillna('Desconhecido', inplace=True)\n",
    "print(df)"
   ]
  },
  {
   "cell_type": "code",
   "execution_count": 10,
   "metadata": {},
   "outputs": [
    {
     "name": "stdout",
     "output_type": "stream",
     "text": [
      "       Nome  Idade          Cidade  Salário\n",
      "0       Ana   28.0       São Paulo   3500.0\n",
      "1    Carlos    NaN  Rio de Janeiro   5000.0\n",
      "2  Fernanda   22.0    Desconhecido      0.0\n",
      "3      João   41.0    Porto Alegre   4500.0\n",
      "4   Mariana    NaN        Curitiba   4000.0\n"
     ]
    },
    {
     "name": "stderr",
     "output_type": "stream",
     "text": [
      "C:\\Users\\53144094889\\AppData\\Local\\Temp\\ipykernel_15708\\2530573626.py:3: FutureWarning: A value is trying to be set on a copy of a DataFrame or Series through chained assignment using an inplace method.\n",
      "The behavior will change in pandas 3.0. This inplace method will never work because the intermediate object on which we are setting values always behaves as a copy.\n",
      "\n",
      "For example, when doing 'df[col].method(value, inplace=True)', try using 'df.method({col: value}, inplace=True)' or df[col] = df[col].method(value) instead, to perform the operation inplace on the original object.\n",
      "\n",
      "\n",
      "  df['Salário'].fillna(0, inplace=True)\n"
     ]
    }
   ],
   "source": [
    "# Salário - 0 R$\n",
    "\n",
    "df['Salário'].fillna(0, inplace=True)\n",
    "print(df)"
   ]
  },
  {
   "cell_type": "code",
   "execution_count": 11,
   "metadata": {},
   "outputs": [
    {
     "name": "stdout",
     "output_type": "stream",
     "text": [
      "       Nome      Idade          Cidade  Salário\n",
      "0       Ana  28.000000       São Paulo   3500.0\n",
      "1    Carlos  30.333333  Rio de Janeiro   5000.0\n",
      "2  Fernanda  22.000000    Desconhecido      0.0\n",
      "3      João  41.000000    Porto Alegre   4500.0\n",
      "4   Mariana  30.333333        Curitiba   4000.0\n"
     ]
    },
    {
     "name": "stderr",
     "output_type": "stream",
     "text": [
      "C:\\Users\\53144094889\\AppData\\Local\\Temp\\ipykernel_15708\\414499110.py:2: FutureWarning: A value is trying to be set on a copy of a DataFrame or Series through chained assignment using an inplace method.\n",
      "The behavior will change in pandas 3.0. This inplace method will never work because the intermediate object on which we are setting values always behaves as a copy.\n",
      "\n",
      "For example, when doing 'df[col].method(value, inplace=True)', try using 'df.method({col: value}, inplace=True)' or df[col] = df[col].method(value) instead, to perform the operation inplace on the original object.\n",
      "\n",
      "\n",
      "  df['Idade'].fillna(df['Idade'].mean(), inplace=True)\n"
     ]
    }
   ],
   "source": [
    "# Idade - Idade média\n",
    "df['Idade'].fillna(df['Idade'].mean(), inplace=True)\n",
    "print(df)"
   ]
  }
 ],
 "metadata": {
  "kernelspec": {
   "display_name": "Python 3",
   "language": "python",
   "name": "python3"
  },
  "language_info": {
   "codemirror_mode": {
    "name": "ipython",
    "version": 3
   },
   "file_extension": ".py",
   "mimetype": "text/x-python",
   "name": "python",
   "nbconvert_exporter": "python",
   "pygments_lexer": "ipython3",
   "version": "3.12.1"
  }
 },
 "nbformat": 4,
 "nbformat_minor": 2
}
