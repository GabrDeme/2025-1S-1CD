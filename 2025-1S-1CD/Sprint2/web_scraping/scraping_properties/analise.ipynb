{
 "cells": [
  {
   "cell_type": "code",
   "execution_count": null,
   "metadata": {},
   "outputs": [],
   "source": [
    "import pandas as pd\n",
    "import numpy as np\n",
    "import matplotlib.pyplot as plt\n",
    "from sklearn.linear_model import LinearRegression\n",
    "df = pd.read_excel('')"
   ]
  },
  {
   "cell_type": "markdown",
   "metadata": {},
   "source": [
    "a. Qual é a média do tamanho dos imóveis (metros)?"
   ]
  },
  {
   "cell_type": "code",
   "execution_count": null,
   "metadata": {},
   "outputs": [],
   "source": [
    "media_metragem = df['metragem'].mean()\n",
    "print(media_metragem)"
   ]
  },
  {
   "cell_type": "code",
   "execution_count": null,
   "metadata": {},
   "outputs": [],
   "source": [
    "# Gráfico de Linha, mesmo que o lá de baixo\n",
    "\n",
    "plt.figure(figsize=(10, 4))\n",
    "plt.plot(df['metragem'], color='blue', label='Metragem')\n",
    "plt.title('Metragem dos Imóveis')\n",
    "plt.xlabel('Índice do Imóvel')\n",
    "plt.ylabel('Área (m²)')\n",
    "plt.legend()\n",
    "plt.grid(True)\n",
    "plt.show()"
   ]
  },
  {
   "cell_type": "markdown",
   "metadata": {},
   "source": [
    "b. Qual a média do número de quartos, banheiros e vagas?"
   ]
  },
  {
   "cell_type": "code",
   "execution_count": null,
   "metadata": {},
   "outputs": [],
   "source": [
    "media_quartos = df['quartos'].mean()\n",
    "media_banheiros = df['banheiros'].mean()\n",
    "media_vagas = df['vagas'].mean()\n",
    "print(f'o valor medio de banheiros é {media_banheiros}, de quartos são {media_quartos} e de vagas {media_vagas}.')"
   ]
  },
  {
   "cell_type": "code",
   "execution_count": null,
   "metadata": {},
   "outputs": [],
   "source": [
    "# Gráfico de barra\n",
    "\n",
    "medias = {\n",
    "    'Quartos': media_quartos,\n",
    "    'Banheiros': media_banheiros,\n",
    "    'Vagas': media_vagas\n",
    "}\n",
    "\n",
    "plt.figure(figsize=(8, 6))\n",
    "plt.bar(medias.keys(), medias.values(), color=['blue', 'green', 'orange'])\n",
    "\n",
    "plt.title('Média do Número de Quartos, Banheiros e Vagas', fontsize=14)\n",
    "plt.xlabel('Categoria', fontsize=12)\n",
    "plt.ylabel('Média', fontsize=12)\n",
    "\n",
    "plt.show()"
   ]
  },
  {
   "cell_type": "markdown",
   "metadata": {},
   "source": [
    "c. Qual é o valor médio do IPTU e do condomínio?"
   ]
  },
  {
   "cell_type": "code",
   "execution_count": null,
   "metadata": {},
   "outputs": [],
   "source": [
    "media_iptu = df['valor_iptu'].mean()\n",
    "media_cond = df['valor_condominio'].mean()\n",
    "print(f'O valor medio do iptu é {media_iptu} e dos condominios é de {media_cond}')"
   ]
  },
  {
   "cell_type": "markdown",
   "metadata": {},
   "source": [
    "IPTU"
   ]
  },
  {
   "cell_type": "code",
   "execution_count": null,
   "metadata": {},
   "outputs": [],
   "source": [
    "# Gráfico de linha\n",
    "\n",
    "plt.figure(figsize=(10, 4))\n",
    "plt.plot(df['iptu'], color='purple', label='IPTU')\n",
    "plt.title('Valores do IPTU')\n",
    "plt.xlabel('Índice do IPTU')\n",
    "plt.ylabel('Valores')\n",
    "plt.legend()\n",
    "plt.grid(True)\n",
    "plt.show()"
   ]
  },
  {
   "cell_type": "markdown",
   "metadata": {},
   "source": [
    "Condomínio"
   ]
  },
  {
   "cell_type": "code",
   "execution_count": null,
   "metadata": {},
   "outputs": [],
   "source": [
    "# Gráfico de linha\n",
    "\n",
    "plt.figure(figsize=(10, 4))\n",
    "plt.plot(df['iptu'], color='green', label='IPTU')\n",
    "plt.title('Valores do Condomínio')\n",
    "plt.xlabel('Índice do Condomínio')\n",
    "plt.ylabel('Valores')\n",
    "plt.legend()\n",
    "plt.grid(True)\n",
    "plt.show()"
   ]
  },
  {
   "cell_type": "markdown",
   "metadata": {},
   "source": [
    "d. Existe alguma correlação entre o valor do imóvel e o tamanho em metros\n",
    "quadrados?"
   ]
  },
  {
   "cell_type": "code",
   "execution_count": null,
   "metadata": {},
   "outputs": [],
   "source": [
    "valor_e_metragem = df.corr(df['valor','metragem'])\n",
    "\n",
    "print(f'{valor_e_metragem}')"
   ]
  },
  {
   "cell_type": "code",
   "execution_count": null,
   "metadata": {},
   "outputs": [],
   "source": [
    "# Gráfico boxplot\n",
    "df['faixa_metragem'] = pd.cut(df['metragem'], bins=5)\n",
    "\n",
    "plt.figure(figsize =(11, 6))\n",
    "\n",
    "bplots = plt.boxplot(x='faixa_metragem', y='valor', data=df, palette='Set3')\n",
    "\n",
    "plt.title(\"Boxplot da base de dados Íris\", fontsize=14)\n",
    "plt.xlabel(\"Faixa de Metragem(m²)\")\n",
    "plt.ylabel(\"Valor do Imóvel\")\n",
    "plt.show()"
   ]
  },
  {
   "cell_type": "markdown",
   "metadata": {},
   "source": [
    "e. Imóveis maiores têm um IPTU mais alto?"
   ]
  },
  {
   "cell_type": "code",
   "execution_count": null,
   "metadata": {},
   "outputs": [],
   "source": [
    "metragem_e_iptu = df.groupby(df['metragem'])['iptu'].sum()"
   ]
  },
  {
   "cell_type": "code",
   "execution_count": null,
   "metadata": {},
   "outputs": [],
   "source": [
    "# Gráfico de dispersão\n",
    "\n",
    "X = df[['metragem']]\n",
    "y = df['iptu']\n",
    "\n",
    "model = LinearRegression()\n",
    "model.fit[X, y]\n",
    "\n",
    "plt.scatter(X, y, color='blue')\n",
    "plt.plot(X, model.predict(X), color='red')\n",
    "plt.xlabel(\"Metragem do imóvel (m²)\")\n",
    "plt.ylabel(\"Valor do IPTU\")\n",
    "plt.tile(\"Relação entre Valor do IPTU e Metragem do Imóvel\")\n",
    "plt.show()\n",
    "\n",
    "previsao_metragem = 80\n",
    "iptu_previsto = model.predict([[previsao_metragem]])\n",
    "print(f\"Valor do IPTU previsto para o imóvel com {previsao_metragem} m²: R$ {iptu_previsto[0]:,.2f}\")"
   ]
  },
  {
   "cell_type": "markdown",
   "metadata": {},
   "source": [
    "f. A quantidade de vagas de garagem está relacionada ao preço do imóvel?"
   ]
  },
  {
   "cell_type": "code",
   "execution_count": null,
   "metadata": {},
   "outputs": [],
   "source": [
    "correlacao = df['vagas'].corr(df['valor'])\n",
    "print(f\"Correlação entre vagas de garagem e preço do imóvel: {correlacao:.2f}\")"
   ]
  },
  {
   "cell_type": "code",
   "execution_count": null,
   "metadata": {},
   "outputs": [],
   "source": [
    "# Gráfico de dispersão\n",
    "\n",
    "X = df[['vagas']]\n",
    "y = df['valor']\n",
    "\n",
    "model = LinearRegression()\n",
    "model.fit(X, y)\n",
    "\n",
    "plt.scatter(X, y, color='blue')\n",
    "plt.plot(X, model.predict(X), color='red')\n",
    "plt.xlabel(\"Vagas de Garagem\")\n",
    "plt.ylabel(\"Preço do Imóvel (R$)\")\n",
    "plt.title(\"Relação entre Vagas de Garagem e Preço do Imóvel\")\n",
    "plt.show()\n",
    "\n",
    "previsao_vagas = 4\n",
    "valor_previsto = model.predict([[previsao_vagas]])\n",
    "print(f\"Preço previsto para um imóvel com {previsao_vagas} vagas: R$ {valor_previsto[0]:,.2f}\")\n"
   ]
  },
  {
   "cell_type": "markdown",
   "metadata": {},
   "source": [
    "g. Existem imóveis com valores de metros ou preço muito acima ou abaixo da média?"
   ]
  },
  {
   "cell_type": "markdown",
   "metadata": {},
   "source": [
    "Metros"
   ]
  },
  {
   "cell_type": "code",
   "execution_count": 1,
   "metadata": {},
   "outputs": [
    {
     "ename": "NameError",
     "evalue": "name 'plt' is not defined",
     "output_type": "error",
     "traceback": [
      "\u001b[31m---------------------------------------------------------------------------\u001b[39m",
      "\u001b[31mNameError\u001b[39m                                 Traceback (most recent call last)",
      "\u001b[36mCell\u001b[39m\u001b[36m \u001b[39m\u001b[32mIn[1]\u001b[39m\u001b[32m, line 1\u001b[39m\n\u001b[32m----> \u001b[39m\u001b[32m1\u001b[39m \u001b[43mplt\u001b[49m.figure(figsize=(\u001b[32m10\u001b[39m, \u001b[32m4\u001b[39m))\n\u001b[32m      2\u001b[39m plt.plot(df[\u001b[33m'\u001b[39m\u001b[33mmetragem\u001b[39m\u001b[33m'\u001b[39m], color=\u001b[33m'\u001b[39m\u001b[33mblue\u001b[39m\u001b[33m'\u001b[39m, label=\u001b[33m'\u001b[39m\u001b[33mMetragem\u001b[39m\u001b[33m'\u001b[39m)\n\u001b[32m      3\u001b[39m plt.title(\u001b[33m'\u001b[39m\u001b[33mMetragem dos Imóveis\u001b[39m\u001b[33m'\u001b[39m)\n",
      "\u001b[31mNameError\u001b[39m: name 'plt' is not defined"
     ]
    }
   ],
   "source": [
    "# Gráfico de linha\n",
    "\n",
    "plt.figure(figsize=(10, 4))\n",
    "plt.plot(df['metragem'], color='blue', label='Metragem')\n",
    "plt.title('Metragem dos Imóveis')\n",
    "plt.xlabel('Índice do Imóvel')\n",
    "plt.ylabel('Área (m²)')\n",
    "plt.legend()\n",
    "plt.grid(True)\n",
    "plt.show()"
   ]
  },
  {
   "cell_type": "markdown",
   "metadata": {},
   "source": [
    "Valor"
   ]
  },
  {
   "cell_type": "code",
   "execution_count": null,
   "metadata": {},
   "outputs": [],
   "source": [
    "# Gráfico de linha\n",
    "\n",
    "plt.figure(figsize=(10, 4))\n",
    "plt.plot(df['valor_m2'], color='green', label='Valor por m²')\n",
    "plt.title('Valor por Metro Quadrado dos Imóveis')\n",
    "plt.xlabel('Índice do Imóvel')\n",
    "plt.ylabel('R$ por m²')\n",
    "plt.legend()\n",
    "plt.grid(True)\n",
    "plt.show()"
   ]
  },
  {
   "cell_type": "markdown",
   "metadata": {},
   "source": [
    "### Como interpretar o valor:\n",
    "\n",
    "+1.0 → Correlação perfeita positiva (mais vagas → preço sempre maior)\n",
    "\n",
    "0.0 → Nenhuma correlação linear\n",
    "\n",
    "–1.0 → Correlação perfeita negativa (mais vagas → preço sempre menor)\n",
    "\n",
    "#### Valores próximos de:\n",
    "\n",
    "0.7 ou mais → Forte correlação\n",
    "\n",
    "0.3 a 0.6 → Moderada\n",
    "\n",
    "0.1 a 0.3 → Fraca\n",
    "\n",
    "Menos de 0.1 → Quase nenhuma"
   ]
  }
 ],
 "metadata": {
  "kernelspec": {
   "display_name": "Python 3",
   "language": "python",
   "name": "python3"
  },
  "language_info": {
   "codemirror_mode": {
    "name": "ipython",
    "version": 3
   },
   "file_extension": ".py",
   "mimetype": "text/x-python",
   "name": "python",
   "nbconvert_exporter": "python",
   "pygments_lexer": "ipython3",
   "version": "3.12.1"
  }
 },
 "nbformat": 4,
 "nbformat_minor": 2
}
