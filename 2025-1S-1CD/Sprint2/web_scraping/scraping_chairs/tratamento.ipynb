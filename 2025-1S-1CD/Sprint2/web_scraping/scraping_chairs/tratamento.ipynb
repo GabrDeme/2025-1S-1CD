{
 "cells": [
  {
   "cell_type": "code",
   "execution_count": 2,
   "metadata": {},
   "outputs": [],
   "source": [
    "import pandas as pd\n",
    "\n",
    "df = pd.read_excel('cadeiras.xlsx')"
   ]
  },
  {
   "cell_type": "code",
   "execution_count": 3,
   "metadata": {},
   "outputs": [],
   "source": [
    "df['marca'] = df['marca'].str.capitalize()\n",
    "\n",
    "cores = {\n",
    "    \"Amarela\", \"Azul\", \"Bege\", \"Branca\", \"Branco\", \"Café\", \"Cinza\", \"Geada\", \"Laranja\", \"Marrom\", \"Preta\", \"Preto\", \"Prata\", \"Rosa\", \"Roxo\", \"Uva\", \"Verde\", \"Vermelha\", \"Vermelho\",\n",
    "    \"Black\", \"Blue\", \"Cyan\", \"Navy Blue\", \"Off White\", \"Orange\", \"Pink\", \"Red\", \"White\", \"Yellow\"\n",
    "}"
   ]
  },
  {
   "cell_type": "code",
   "execution_count": null,
   "metadata": {},
   "outputs": [],
   "source": [
    "def extrair_cor(texto):\n",
    "    texto = texto.capitalize()\n",
    "    for cor in cores:\n",
    "        if cor in texto\n",
    "            return cor\n",
    "    return \"Desconhecido\"\n",
    "\n",
    "extrair_cor(df['marca'])"
   ]
  },
  {
   "cell_type": "code",
   "execution_count": null,
   "metadata": {},
   "outputs": [],
   "source": []
  }
 ],
 "metadata": {
  "kernelspec": {
   "display_name": "Python 3",
   "language": "python",
   "name": "python3"
  },
  "language_info": {
   "codemirror_mode": {
    "name": "ipython",
    "version": 3
   },
   "file_extension": ".py",
   "mimetype": "text/x-python",
   "name": "python",
   "nbconvert_exporter": "python",
   "pygments_lexer": "ipython3",
   "version": "3.12.1"
  }
 },
 "nbformat": 4,
 "nbformat_minor": 2
}
