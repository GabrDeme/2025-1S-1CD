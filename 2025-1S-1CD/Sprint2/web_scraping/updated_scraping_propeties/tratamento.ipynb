{
 "cells": [
  {
   "cell_type": "code",
   "execution_count": null,
   "metadata": {},
   "outputs": [],
   "source": [
    "import pandas as pd\n",
    "import numpy as np\n",
    "df = pd.read_excel('')"
   ]
  },
  {
   "cell_type": "code",
   "execution_count": null,
   "metadata": {},
   "outputs": [],
   "source": [
    "df['rua'] = df['rua'].astype(str)\n",
    "df['rua'] = df['rua'].str.strip()\n",
    "df['rua'] = df['rua'].str.capitalize()\n"
   ]
  },
  {
   "cell_type": "code",
   "execution_count": null,
   "metadata": {},
   "outputs": [],
   "source": [
    "df['metragem'] = df['metragem'].astype(str)\n",
    "\n",
    "df['metragem'] = df['metragem'].replace('m²','').str.strip()\n",
    "df['metragem'] = df['metragem'].replace('.','').str.strip()\n",
    "df['metragem'] = df['metragem'].replace(',','.').str.strip()\n",
    "\n",
    "df = pd.to_numeric(df['metragem'], errors='coerce')\n",
    "\n",
    "df['metragem'] = df['metragem'].astype(int)\n",
    "\n",
    "\n"
   ]
  },
  {
   "cell_type": "code",
   "execution_count": null,
   "metadata": {},
   "outputs": [],
   "source": [
    "df['banheiros'] = df['banheiros'].astype(str).str.strip()\n",
    "\n",
    "df['banheiros'] = pd.to_numeric(df['banheiros'], errors='coerce')\n",
    "\n",
    "df['banheiros'] = df['banheiros'].astype(int)"
   ]
  },
  {
   "cell_type": "code",
   "execution_count": null,
   "metadata": {},
   "outputs": [],
   "source": [
    "df['quartos'] = df['quartos'].astype(str).str.strip()\n",
    "\n",
    "df['quartos'] = pd.to_numeric(df['quartos'], errors='coerce')\n",
    "\n",
    "df['quartos'] = df['quartos'].astype(int)"
   ]
  },
  {
   "cell_type": "code",
   "execution_count": null,
   "metadata": {},
   "outputs": [],
   "source": [
    "df['vagas'] = df['vagas'].astype(str).str.strip()\n",
    "\n",
    "df['vagas'] = pd.to_numeric(df['vagas'], errors='coerce')\n",
    "\n",
    "df['vagas'] = df['vagas'].astype(int)"
   ]
  },
  {
   "cell_type": "code",
   "execution_count": null,
   "metadata": {},
   "outputs": [],
   "source": [
    "df['valor_iptu'] = df['valor_iptu'].astype(str)\n",
    "\n",
    "df['valor_iptu'] = df['valor_iptu'].replace('R$','').str.strip()\n",
    "df['valor_iptu'] = df['valor_iptu'].replace('.','').str.strip()\n",
    "df['valor_iptu'] = df['valor_iptu'].replace(',','.').str.strip()\n",
    "\n",
    "df = pd.to_numeric(df['valor_iptu'], errors='coerce')\n",
    "\n",
    "df['valor_iptu'] = df['valor_iptu'].astype(float)"
   ]
  },
  {
   "cell_type": "code",
   "execution_count": null,
   "metadata": {},
   "outputs": [],
   "source": [
    "df['valor_condominio'] = df['valor_condominio'].astype(str)\n",
    "\n",
    "df['valor_condominio'] = df['valor_condominio'].replace('R$','').str.strip()\n",
    "df['valor_condominio'] = df['valor_condominio'].replace('.','').str.strip()\n",
    "df['valor_condominio'] = df['valor_condominio'].replace(',','.').str.strip()\n",
    "\n",
    "df = pd.to_numeric(df['valor_condominio'], errors='coerce')\n",
    "\n",
    "df['valor_condominio'] = df['valor_condominio'].astype(float)"
   ]
  },
  {
   "cell_type": "code",
   "execution_count": null,
   "metadata": {},
   "outputs": [],
   "source": [
    "df['valor'] = df['valor'].astype(str)\n",
    "\n",
    "df['valor'] = df['valor'].replace('R$','').str.strip()\n",
    "df['valor'] = df['valor'].replace('.','').str.strip()\n",
    "df['valor'] = df['valor'].replace(',','.').str.strip()\n",
    "\n",
    "df = pd.to_numeric(df['valor'], errors='coerce')\n",
    "\n",
    "df['valor'] = df['valor'].astype(float)"
   ]
  }
 ],
 "metadata": {
  "kernelspec": {
   "display_name": "Python 3",
   "language": "python",
   "name": "python3"
  },
  "language_info": {
   "codemirror_mode": {
    "name": "ipython",
    "version": 3
   },
   "file_extension": ".py",
   "mimetype": "text/x-python",
   "name": "python",
   "nbconvert_exporter": "python",
   "pygments_lexer": "ipython3",
   "version": "3.12.1"
  }
 },
 "nbformat": 4,
 "nbformat_minor": 2
}
