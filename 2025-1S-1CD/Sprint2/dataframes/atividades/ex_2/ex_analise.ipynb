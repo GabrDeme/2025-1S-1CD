{
 "cells": [
  {
   "cell_type": "code",
   "execution_count": 2,
   "metadata": {},
   "outputs": [],
   "source": [
    "import pandas as pd\n",
    "import matplotlib.pyplot as plt\n",
    "\n",
    "df = pd.read_excel(\"faltas_treinamento_tratadas.xlsx\")"
   ]
  },
  {
   "cell_type": "markdown",
   "metadata": {},
   "source": [
    "Exercício 4 – Análise Descritiva Avançada<br/>\n",
    "a) Qual o número total de evasões por departamento?<br/>\n",
    "b) Qual é o percentual de evasão considerando apenas os que participaram do turno da tarde?<br/>\n",
    "c) Qual é o desvio padrão de faltas por turno?"
   ]
  },
  {
   "cell_type": "code",
   "execution_count": null,
   "metadata": {},
   "outputs": [],
   "source": [
    "# a) \n",
    "\n",
    "plt.figure(figsize=(10,5))\n",
    "vendas_loja = df.groupby('loja')['valor_venda'].sum()\n",
    "vendas_loja.plot(kind='bar', color='red')\n",
    "plt.title('Total de vendas')\n",
    "plt.xlabel('Loja')\n",
    "plt.ylabel('Vendas em R$')\n",
    "plt.grid(True) \n",
    "plt.xticks(rotation=45)\n",
    "plt.show()"
   ]
  },
  {
   "cell_type": "markdown",
   "metadata": {},
   "source": [
    "Exercício 5 – Análise Temporal<br/>\n",
    "a) Em qual mês ocorreu o maior número de faltas?<br/>\n",
    "b) Crie uma coluna Semana_Ultima_Falta e descubra qual semana teve maior concentração de\n",
    "ausências.<br/>\n",
    "c) Faça uma análise cruzando dia da semana e quantidade de evasões."
   ]
  },
  {
   "cell_type": "code",
   "execution_count": null,
   "metadata": {},
   "outputs": [],
   "source": []
  },
  {
   "cell_type": "markdown",
   "metadata": {},
   "source": [
    "Exercício 6 – Análise de Risco<br/>\n",
    "a) Crie a coluna Risco_Evasao com três categorias: \"Alto\", \"Moderado\", \"Baixo\".<br/>\n",
    "b) Gere uma tabela com a distribuição percentual de risco por departamento.<br/>\n",
    "c) Há relação entre risco alto e turno da tarde?"
   ]
  },
  {
   "cell_type": "code",
   "execution_count": null,
   "metadata": {},
   "outputs": [],
   "source": []
  },
  {
   "cell_type": "markdown",
   "metadata": {},
   "source": [
    "Exercício 7 – Visualizações Estratégicas<br/>\n",
    "a) Gráfico de barras: número de faltas por departamento.<br/>\n",
    "b) Gráfico de pizza: distribuição de risco de evasão.<br/>\n",
    "c) Heatmap cruzando Turno e Risco_Evasao."
   ]
  },
  {
   "cell_type": "code",
   "execution_count": null,
   "metadata": {},
   "outputs": [],
   "source": []
  }
 ],
 "metadata": {
  "kernelspec": {
   "display_name": "Python 3",
   "language": "python",
   "name": "python3"
  },
  "language_info": {
   "codemirror_mode": {
    "name": "ipython",
    "version": 3
   },
   "file_extension": ".py",
   "mimetype": "text/x-python",
   "name": "python",
   "nbconvert_exporter": "python",
   "pygments_lexer": "ipython3",
   "version": "3.12.1"
  }
 },
 "nbformat": 4,
 "nbformat_minor": 2
}
