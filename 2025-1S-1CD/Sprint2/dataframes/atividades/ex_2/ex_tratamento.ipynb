{
 "cells": [
  {
   "cell_type": "code",
   "execution_count": 1,
   "metadata": {},
   "outputs": [],
   "source": [
    "import pandas as pd\n",
    "import matplotlib.pyplot as plt\n",
    "\n",
    "df = pd.read_excel(\"faltas_treinamento_sujo.xlsx\")"
   ]
  },
  {
   "cell_type": "markdown",
   "metadata": {},
   "source": [
    "1. Higienização Básica<br/>\n",
    "    a. Verifique valores nulos e tipos incorretos<br/>\n",
    "    b. Corrija a coluna de datas inválidas<br/>\n",
    "    c. Normalize os nomes dos turnos e dias da semana"
   ]
  },
  {
   "cell_type": "code",
   "execution_count": null,
   "metadata": {},
   "outputs": [],
   "source": [
    "# a)\n",
    "print(df.isnull().sum())"
   ]
  },
  {
   "cell_type": "markdown",
   "metadata": {},
   "source": [
    "2. Remoção e Substituição<br/>\n",
    "    a. Remova os registros duplicados<br/>\n",
    "    b. Substitua os valores nulos da coluna Evadiu por “Desconhecido”<br/>\n",
    "    c. Substitua os valores nulos da coluna Data_Ultima_Falta pela data mais comum"
   ]
  },
  {
   "cell_type": "code",
   "execution_count": null,
   "metadata": {},
   "outputs": [],
   "source": []
  },
  {
   "cell_type": "markdown",
   "metadata": {},
   "source": [
    "3. Correções e Detecção de Outliers<br/>\n",
    "    a. Converta a coluna Faltas para tipo inteiro<br/>\n",
    "    b. Substitua outliers de faltas por np.nan e depois pela mediana<br/>\n",
    "    c. Crie um flag “Faltas_Suspeitas” para valores > 10   "
   ]
  },
  {
   "cell_type": "code",
   "execution_count": null,
   "metadata": {},
   "outputs": [],
   "source": []
  }
 ],
 "metadata": {
  "kernelspec": {
   "display_name": "Python 3",
   "language": "python",
   "name": "python3"
  },
  "language_info": {
   "codemirror_mode": {
    "name": "ipython",
    "version": 3
   },
   "file_extension": ".py",
   "mimetype": "text/x-python",
   "name": "python",
   "nbconvert_exporter": "python",
   "pygments_lexer": "ipython3",
   "version": "3.12.1"
  }
 },
 "nbformat": 4,
 "nbformat_minor": 2
}
