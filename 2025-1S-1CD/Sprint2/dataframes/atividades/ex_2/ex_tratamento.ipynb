{
 "cells": [
  {
   "cell_type": "code",
   "execution_count": 90,
   "metadata": {},
   "outputs": [],
   "source": [
    "import pandas as pd\n",
    "import matplotlib.pyplot as plt\n",
    "import numpy as np\n",
    "\n",
    "df = pd.read_excel(\"faltas_treinamento_sujo.xlsx\")"
   ]
  },
  {
   "cell_type": "markdown",
   "metadata": {},
   "source": [
    "1. Higienização Básica<br/>\n",
    "    a. Verifique valores nulos e tipos incorretos<br/>\n",
    "    b. Corrija a coluna de datas inválidas<br/>\n",
    "    c. Normalize os nomes dos turnos e dias da semana"
   ]
  },
  {
   "cell_type": "code",
   "execution_count": 91,
   "metadata": {},
   "outputs": [
    {
     "name": "stdout",
     "output_type": "stream",
     "text": [
      "Nome                           0\n",
      "Departamento                   0\n",
      "Turno                          0\n",
      "Faltas                         0\n",
      "Dia_da_Semana_Ultima_Falta     0\n",
      "Data_Ultima_Falta              0\n",
      "Evadiu                        14\n",
      "dtype: int64\n",
      "Nome                          object\n",
      "Departamento                  object\n",
      "Turno                         object\n",
      "Faltas                         int64\n",
      "Dia_da_Semana_Ultima_Falta    object\n",
      "Data_Ultima_Falta             object\n",
      "Evadiu                        object\n",
      "dtype: object\n",
      "\n",
      "Coluna: Nome\n",
      "Nome\n",
      "<class 'str'>    224\n",
      "Name: count, dtype: int64\n",
      "\n",
      "Coluna: Departamento\n",
      "Departamento\n",
      "<class 'str'>    224\n",
      "Name: count, dtype: int64\n",
      "\n",
      "Coluna: Turno\n",
      "Turno\n",
      "<class 'str'>    224\n",
      "Name: count, dtype: int64\n",
      "\n",
      "Coluna: Faltas\n",
      "Faltas\n",
      "<class 'int'>    224\n",
      "Name: count, dtype: int64\n",
      "\n",
      "Coluna: Dia_da_Semana_Ultima_Falta\n",
      "Dia_da_Semana_Ultima_Falta\n",
      "<class 'str'>    224\n",
      "Name: count, dtype: int64\n",
      "\n",
      "Coluna: Data_Ultima_Falta\n",
      "Data_Ultima_Falta\n",
      "<class 'str'>    224\n",
      "Name: count, dtype: int64\n",
      "\n",
      "Coluna: Evadiu\n",
      "Evadiu\n",
      "<class 'str'>      210\n",
      "<class 'float'>     14\n",
      "Name: count, dtype: int64\n",
      "0      Quinta-feira\n",
      "1               NaN\n",
      "2           Domingo\n",
      "3           Domingo\n",
      "4           Domingo\n",
      "           ...     \n",
      "219     Sexta-feira\n",
      "220    Quinta-feira\n",
      "221         Domingo\n",
      "222     Sexta-feira\n",
      "223     Terça-feira\n",
      "Name: Dia_da_Semana_Ultima_Falta, Length: 224, dtype: object\n"
     ]
    }
   ],
   "source": [
    "# a)\n",
    "\n",
    "print(df.isnull().sum())\n",
    "\n",
    "## Verifica tipos gerais da coluna\n",
    "print(df.dtypes)\n",
    "\n",
    "## Verifica tipos de todos os dados da coluna\n",
    "for coluna in df.columns:\n",
    "   tipos = df[coluna].map(type).value_counts()\n",
    "   print(f\"\\nColuna: {coluna}\")\n",
    "   print(tipos)\n",
    "\n",
    "\n",
    "# b)\n",
    "\n",
    "df['Data_Ultima_Falta'] = pd.to_datetime(df['Data_Ultima_Falta'], errors='coerce', format='%d/%m/%Y')\n",
    "\n",
    "# c)\n",
    "\n",
    "## Normalização de turnos\n",
    "df['Turno'] = df['Turno'].str.strip()\n",
    "df['Turno'] = df['Turno'].str.title()\n",
    "turnos_tratados = {'Manha': 'Manhã'}\n",
    "df['Turno'] = df['Turno'].replace(turnos_tratados)\n",
    "\n",
    "## Normalização de dias da semana\n",
    "df['Dia_da_Semana_Ultima_Falta'] = df['Data_Ultima_Falta'].dt.day_name()\n",
    "\n",
    "dias_semana = {\n",
    "    'Monday': 'Segunda-feira',\n",
    "    'Tuesday': 'Terça-feira',\n",
    "    'Wednesday': 'Quarta-feira',\n",
    "    'Thursday': 'Quinta-feira',\n",
    "    'Friday': 'Sexta-feira',\n",
    "    'Saturday': 'Sábado',\n",
    "    'Sunday': 'Domingo'\n",
    "}\n",
    "\n",
    "df['Dia_da_Semana_Ultima_Falta'] = df['Dia_da_Semana_Ultima_Falta'].map(dias_semana)\n",
    "\n",
    "print(df['Dia_da_Semana_Ultima_Falta'])\n"
   ]
  },
  {
   "cell_type": "markdown",
   "metadata": {},
   "source": [
    "2. Remoção e Substituição<br/>\n",
    "    a. Remova os registros duplicados<br/>\n",
    "    b. Substitua os valores nulos da coluna Evadiu por “Desconhecido”<br/>\n",
    "    c. Substitua os valores nulos da coluna Data_Ultima_Falta pela data mais comum"
   ]
  },
  {
   "cell_type": "code",
   "execution_count": 92,
   "metadata": {},
   "outputs": [
    {
     "name": "stderr",
     "output_type": "stream",
     "text": [
      "C:\\Users\\53144094889\\AppData\\Local\\Temp\\ipykernel_3736\\4088120017.py:7: FutureWarning: A value is trying to be set on a copy of a DataFrame or Series through chained assignment using an inplace method.\n",
      "The behavior will change in pandas 3.0. This inplace method will never work because the intermediate object on which we are setting values always behaves as a copy.\n",
      "\n",
      "For example, when doing 'df[col].method(value, inplace=True)', try using 'df.method({col: value}, inplace=True)' or df[col] = df[col].method(value) instead, to perform the operation inplace on the original object.\n",
      "\n",
      "\n",
      "  df['Evadiu'].fillna(\"Desconhecido\", inplace=True)\n",
      "C:\\Users\\53144094889\\AppData\\Local\\Temp\\ipykernel_3736\\4088120017.py:11: FutureWarning: A value is trying to be set on a copy of a DataFrame or Series through chained assignment using an inplace method.\n",
      "The behavior will change in pandas 3.0. This inplace method will never work because the intermediate object on which we are setting values always behaves as a copy.\n",
      "\n",
      "For example, when doing 'df[col].method(value, inplace=True)', try using 'df.method({col: value}, inplace=True)' or df[col] = df[col].method(value) instead, to perform the operation inplace on the original object.\n",
      "\n",
      "\n",
      "  df['Data_Ultima_Falta'].fillna(df['Data_Ultima_Falta'].mode(), inplace=True)\n",
      "C:\\Users\\53144094889\\AppData\\Local\\Temp\\ipykernel_3736\\4088120017.py:12: FutureWarning: A value is trying to be set on a copy of a DataFrame or Series through chained assignment using an inplace method.\n",
      "The behavior will change in pandas 3.0. This inplace method will never work because the intermediate object on which we are setting values always behaves as a copy.\n",
      "\n",
      "For example, when doing 'df[col].method(value, inplace=True)', try using 'df.method({col: value}, inplace=True)' or df[col] = df[col].method(value) instead, to perform the operation inplace on the original object.\n",
      "\n",
      "\n",
      "  df['Data_Ultima_Falta'].fillna(\"2024-03-24 00:00:00\", inplace=True)\n",
      "C:\\Users\\53144094889\\AppData\\Local\\Temp\\ipykernel_3736\\4088120017.py:13: FutureWarning: A value is trying to be set on a copy of a DataFrame or Series through chained assignment using an inplace method.\n",
      "The behavior will change in pandas 3.0. This inplace method will never work because the intermediate object on which we are setting values always behaves as a copy.\n",
      "\n",
      "For example, when doing 'df[col].method(value, inplace=True)', try using 'df.method({col: value}, inplace=True)' or df[col] = df[col].method(value) instead, to perform the operation inplace on the original object.\n",
      "\n",
      "\n",
      "  df['Dia_da_Semana_Ultima_Falta'].fillna(\"Domingo\", inplace=True)\n"
     ]
    }
   ],
   "source": [
    "# a)\n",
    "\n",
    "df = df.drop_duplicates()\n",
    "\n",
    "# b)\n",
    "\n",
    "df['Evadiu'].fillna(\"Desconhecido\", inplace=True)\n",
    "\n",
    "# c)\n",
    "\n",
    "df['Data_Ultima_Falta'].fillna(df['Data_Ultima_Falta'].mode(), inplace=True)\n",
    "df['Data_Ultima_Falta'].fillna(\"2024-03-24 00:00:00\", inplace=True)\n",
    "df['Dia_da_Semana_Ultima_Falta'].fillna(\"Domingo\", inplace=True)"
   ]
  },
  {
   "cell_type": "markdown",
   "metadata": {},
   "source": [
    "3. Correções e Detecção de Outliers<br/>\n",
    "    a. Converta a coluna Faltas para tipo inteiro<br/>\n",
    "    b. Substitua outliers de faltas por np.nan e depois pela mediana<br/>\n",
    "    c. Crie um flag “Faltas_Suspeitas” para valores > 10   "
   ]
  },
  {
   "cell_type": "code",
   "execution_count": 93,
   "metadata": {},
   "outputs": [
    {
     "name": "stderr",
     "output_type": "stream",
     "text": [
      "C:\\Users\\53144094889\\AppData\\Local\\Temp\\ipykernel_3736\\1147105453.py:17: FutureWarning: A value is trying to be set on a copy of a DataFrame or Series through chained assignment using an inplace method.\n",
      "The behavior will change in pandas 3.0. This inplace method will never work because the intermediate object on which we are setting values always behaves as a copy.\n",
      "\n",
      "For example, when doing 'df[col].method(value, inplace=True)', try using 'df.method({col: value}, inplace=True)' or df[col] = df[col].method(value) instead, to perform the operation inplace on the original object.\n",
      "\n",
      "\n",
      "  df['Faltas'].fillna(mediana_faltas, inplace=True)\n"
     ]
    }
   ],
   "source": [
    "# a)\n",
    "\n",
    "df['Faltas'] = df['Faltas'].astype(int)\n",
    "\n",
    "# b)\n",
    "\n",
    "Q1 = df['Faltas'].quantile(0.25)\n",
    "Q3 = df['Faltas'].quantile(0.75)\n",
    "IQR = Q3 - Q1\n",
    "\n",
    "limite_inferior = Q1 - 1.5 * IQR\n",
    "limite_superior = Q3 + 1.5 * IQR\n",
    "\n",
    "df['Faltas'] = df['Faltas'].apply(lambda x: np.nan if (x < limite_inferior or x > limite_superior) else x)\n",
    "\n",
    "mediana_faltas = df['Faltas'].median()\n",
    "df['Faltas'].fillna(mediana_faltas, inplace=True)\n",
    "\n",
    "# c)\n",
    "\n",
    "df['Faltas_Suspeitas'] = df['Faltas'].apply(lambda falta: \"Sim\" if falta > 10 else (\"Não\" if falta <= 10 else \"Desconhecido\"))\n"
   ]
  },
  {
   "cell_type": "code",
   "execution_count": 94,
   "metadata": {},
   "outputs": [],
   "source": [
    "df.to_excel('faltas_treinamento_tratadas.xlsx', index=False)"
   ]
  },
  {
   "cell_type": "code",
   "execution_count": null,
   "metadata": {},
   "outputs": [],
   "source": []
  }
 ],
 "metadata": {
  "kernelspec": {
   "display_name": "Python 3",
   "language": "python",
   "name": "python3"
  },
  "language_info": {
   "codemirror_mode": {
    "name": "ipython",
    "version": 3
   },
   "file_extension": ".py",
   "mimetype": "text/x-python",
   "name": "python",
   "nbconvert_exporter": "python",
   "pygments_lexer": "ipython3",
   "version": "3.12.1"
  }
 },
 "nbformat": 4,
 "nbformat_minor": 2
}
