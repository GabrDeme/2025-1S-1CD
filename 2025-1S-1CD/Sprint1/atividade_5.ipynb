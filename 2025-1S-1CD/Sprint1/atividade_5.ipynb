{
  "nbformat": 4,
  "nbformat_minor": 0,
  "metadata": {
    "colab": {
      "provenance": []
    },
    "kernelspec": {
      "name": "python3",
      "display_name": "Python 3"
    },
    "language_info": {
      "name": "python"
    }
  },
  "cells": [
    {
      "cell_type": "markdown",
      "source": [
        "Exercício 0"
      ],
      "metadata": {
        "id": "bFe-qkGZ4OxL"
      }
    },
    {
      "cell_type": "code",
      "execution_count": null,
      "metadata": {
        "colab": {
          "base_uri": "https://localhost:8080/"
        },
        "id": "CHeW1QpykSLJ",
        "outputId": "776f5571-37f1-4408-8920-eea42ba42c08"
      },
      "outputs": [
        {
          "output_type": "stream",
          "name": "stdout",
          "text": [
            "Informe quantos graus está fazendo em Cº: \n",
            "14\n",
            "Muito frio!\n"
          ]
        }
      ],
      "source": [
        "temperatura = float(input(\"Informe quantos graus está fazendo em Cº: \\n\"))\n",
        "\n",
        "if temperatura < 15:\n",
        "  print(\"Muito frio!\")\n",
        "elif temperatura <= 20:\n",
        "  print(\"Friozinho\")\n",
        "elif temperatura <= 26:\n",
        "  print(\"Agradável\")\n",
        "else:\n",
        "  print(\"Quente\")"
      ]
    },
    {
      "cell_type": "markdown",
      "source": [
        "Exercício 1"
      ],
      "metadata": {
        "id": "JMfgRlyr4SKS"
      }
    },
    {
      "cell_type": "code",
      "source": [
        "nota = int(input(\"\"\"Informe a nota do aluno\n",
        "A nota deve ser entre 1 e 100: \"\"\"))\n",
        "\n",
        "if nota >= 90:\n",
        "  print(\"Conceito A\")\n",
        "elif 90 > nota >= 80:\n",
        "  print(\"Conceito B\")\n",
        "elif 80 > nota >= 70:\n",
        "  print(\"Conceito C\")\n",
        "elif 70 > nota >= 60:\n",
        "  print(\"Conceito D\")\n",
        "elif nota > 100:\n",
        "  print(\"Nota inválida\")\n",
        "else:\n",
        "  print(\"Conceito F\")"
      ],
      "metadata": {
        "colab": {
          "base_uri": "https://localhost:8080/"
        },
        "id": "GyXbF_zjm_Ke",
        "outputId": "8847a96c-25b0-479b-8a50-e5a246bd8879"
      },
      "execution_count": null,
      "outputs": [
        {
          "output_type": "stream",
          "name": "stdout",
          "text": [
            "Informe a nota do aluno\n",
            "A nota deve ser entre 1 e 100: 90\n",
            "Conceito A\n"
          ]
        }
      ]
    },
    {
      "cell_type": "markdown",
      "source": [
        "Exercício 2"
      ],
      "metadata": {
        "id": "pIcfNFlo6NSu"
      }
    },
    {
      "cell_type": "code",
      "source": [
        "idade = int(input(\"Informe a sua idade: \"))\n",
        "\n",
        "if idade < 12:\n",
        "  print(\"Criança\")\n",
        "elif 18 > idade >= 12:\n",
        "  print(\"Adolescente\")\n",
        "elif 64 >= idade >= 18:\n",
        "  print(\"Adulto\")\n",
        "else:\n",
        "  print(\"Idoso\")\n"
      ],
      "metadata": {
        "colab": {
          "base_uri": "https://localhost:8080/"
        },
        "id": "RweTKZXh6Fcq",
        "outputId": "d9b93f41-55ec-40fc-c9c4-6db267947408"
      },
      "execution_count": null,
      "outputs": [
        {
          "output_type": "stream",
          "name": "stdout",
          "text": [
            "Informe a sua idade: 65\n",
            "Idoso\n"
          ]
        }
      ]
    },
    {
      "cell_type": "markdown",
      "source": [
        "Exercício 3"
      ],
      "metadata": {
        "id": "6YvtbByc8gF6"
      }
    },
    {
      "cell_type": "code",
      "source": [
        "peso = float(input(\"Informe a seu peso: \"))\n",
        "altura = float(input(\"\"\"Informe a sua altura\n",
        "Informe em número real: \"\"\"))\n",
        "\n",
        "imc = peso / (altura * altura)\n",
        "\n",
        "if imc < 18.5:\n",
        "    print(\"Abaixo do peso\")\n",
        "elif 18.5 <= imc < 25:\n",
        "    print(\"Peso normal\")\n",
        "elif 25 <= imc < 30:\n",
        "    print(\"Sobrepeso\")\n",
        "else:\n",
        "    print(\"Obesidade\")"
      ],
      "metadata": {
        "colab": {
          "base_uri": "https://localhost:8080/"
        },
        "id": "Bo0p8m2o75H4",
        "outputId": "868a5c6d-794c-4512-a1da-9357c20fd5fc"
      },
      "execution_count": null,
      "outputs": [
        {
          "output_type": "stream",
          "name": "stdout",
          "text": [
            "Informe a seu peso: 55\n",
            "Informe a sua altura\n",
            "Informe em número real: 1.60\n",
            "Peso normal\n"
          ]
        }
      ]
    },
    {
      "cell_type": "markdown",
      "source": [
        "Exercício 4"
      ],
      "metadata": {
        "id": "hS-tXgph-sgQ"
      }
    },
    {
      "cell_type": "code",
      "source": [
        "salario = float(input(\"Informe o salário do funcionário: \"))\n",
        "servico = float(input(\"Informe em anos o tempo de serviço: \"))\n",
        "\n",
        "if servico <= 1:\n",
        "  print(f\"O funcionário não tem direito a um bônus no salário, portanto o salário dele é de: R$ {salario:.2f}\")\n",
        "elif 1 < servico <= 3:\n",
        "  print(f\"O funcinário tem direito a 5% de bônus que se torna R$ {salario * 1.05:.2f}\")\n",
        "elif 3 < servico <= 5:\n",
        "  print(f\"O funcinário tem direito a 10% de bônus que se torna R$ {salario * 1.1:.2f}\")\n",
        "elif servico > 5:\n",
        "  print(f\"O funcinário tem direito a 15% de bônus que se torna R$ {salario * 1.15:.2f}\")"
      ],
      "metadata": {
        "colab": {
          "base_uri": "https://localhost:8080/"
        },
        "id": "W3jK3uhZ-IL2",
        "outputId": "a86a4e5f-cd91-477c-a012-3ef7f8e82e35"
      },
      "execution_count": null,
      "outputs": [
        {
          "output_type": "stream",
          "name": "stdout",
          "text": [
            "Informe o salário do funcionário: 1000\n",
            "Informe em anos o tempo de serviço: 6\n",
            "O funcinário tem direito a 15% de bônus que se torna R$ 1150.00\n"
          ]
        }
      ]
    },
    {
      "cell_type": "markdown",
      "source": [
        "Exercício 5"
      ],
      "metadata": {
        "id": "R1XgFgHFBO11"
      }
    },
    {
      "cell_type": "code",
      "source": [
        "velocidade = float(input(\"\"\"Qual seria a velocidade do veículo\n",
        "Informe em quilometros: \"\"\"))\n",
        "\n",
        "if velocidade < 40:\n",
        "    print(\"Baixa velocidade\")\n",
        "elif 40 <= velocidade < 81:\n",
        "    print(\"Velocidade moderada\")\n",
        "elif 81 <= velocidade < 121:\n",
        "    print(\"Velocidade alta\")\n",
        "else:\n",
        "    print(\"Velocidade muito alta\")"
      ],
      "metadata": {
        "colab": {
          "base_uri": "https://localhost:8080/"
        },
        "id": "PI86MeRiAcED",
        "outputId": "32036e70-3201-492a-a595-de6eac5ef896"
      },
      "execution_count": null,
      "outputs": [
        {
          "output_type": "stream",
          "name": "stdout",
          "text": [
            "Qual seria a velocidade do veículo\n",
            "Informe em quilometros: 140\n",
            "Velocidade muito alta\n"
          ]
        }
      ]
    },
    {
      "cell_type": "markdown",
      "source": [
        "Desafio"
      ],
      "metadata": {
        "id": "tUIzGFObDAWZ"
      }
    },
    {
      "cell_type": "code",
      "source": [
        "tipo = int(input(\"\"\"Use os seguintes números para informar a sua identificação\n",
        "1 - General\n",
        "2 - Soldado\n",
        "3 - Cientista\n",
        "4 - Civil\n",
        "5 - Hacker ético: \\n \"\"\"))\n",
        "\n",
        "if tipo == 1:\n",
        "  print(\"Acesso total\")\n",
        "elif tipo == 2:\n",
        "  acompanhado = input(\"\"\"Informe com (S/N)\n",
        "Você está acompanhado ou em uma missão especial? \"\"\").upper()\n",
        "  if acompanhado == \"S\":\n",
        "    print(\"Accesso autorizado\")\n",
        "  elif acompanhado == \"N\":\n",
        "    print(\"Accesso negado, necessário ser acompanhando de um oficial superior\")\n",
        "  else:\n",
        "    print(\"Resposta não válida\")\n",
        "elif tipo == 3:\n",
        "  nivel = int(input(\"\"\"Informe de 1 a 10\n",
        "Qual o seu nível de segurança? \"\"\"))\n",
        "  if nivel < 5:\n",
        "    print(\"Accesso negado, necessário ter nível 5 ou mais de segurança\")\n",
        "  elif 5 < nivel < 10:\n",
        "    print(\"Acesso autorizado\")\n",
        "  else:\n",
        "    print(\"Nível não válido para entrada\")\n",
        "elif tipo == 4:\n",
        "    parente = input(\"\"\"Informe com (S/N)\n",
        "Você é um parente direto de um militar de alta patente? \"\"\").upper()\n",
        "    dia = int(input(\"\"\"Informe o dia da semana com os valores a seguir\n",
        "    1 - Domingo\n",
        "    2 - Segunda-feira\n",
        "    3 - Terça-feira\n",
        "    4 - Quarta-feira\n",
        "    5 - Quinta-feira\n",
        "    6 - Sexta-feira\n",
        "    7 - Sábado \\n\"\"\"))\n",
        "    if parente == \"S\" and (dia == 2 or dia == 5):\n",
        "      print(\"Acesso autorizado\")\n",
        "    else:\n",
        "      print(\"Acesso não autorizado, necessário atender aos requisitos\")\n",
        "elif tipo == 5:\n",
        "  codigo = int(input(\"Informe o código para entrada: \"))\n",
        "  if codigo == 1234:\n",
        "    print(\"Acesso autorizado\")\n",
        "  else:\n",
        "    print(\"Acesso não autorizado\")\n",
        "    acompanhado = input(\"\"\"Informe com (S/N)\n",
        "Você está acompanhado de um militar de alta patente? \"\"\").upper()\n",
        "    if acompanhado == \"S\":\n",
        "      print(\"Accesso autorizado\")\n",
        "    elif acompanhado == \"N\":\n",
        "      print(\"Accesso negado, necessário ser acompanhando de um oficial superior\")\n",
        "    else:\n",
        "      print(\"Resposta não válida\")\n",
        "else:\n",
        "  print(\"Valor não válido\")"
      ],
      "metadata": {
        "colab": {
          "base_uri": "https://localhost:8080/"
        },
        "id": "wVyC_UYxCeqH",
        "outputId": "c02aed6f-ed2c-481a-b98a-5aab3b70377d"
      },
      "execution_count": null,
      "outputs": [
        {
          "output_type": "stream",
          "name": "stdout",
          "text": [
            "Use os seguintes números para informar a sua identificação\n",
            "1 - General\n",
            "2 - Soldado\n",
            "3 - Cientista\n",
            "4 - Civil\n",
            "5 - Hacker ético: \n",
            " 5\n",
            "Informe o código para entrada: 1\n",
            "Acesso não autorizado\n",
            "Informe com (S/N)\n",
            "Você está acompanhado de um militar de alta patente? N\n",
            "Accesso negado, necessário ser acompanhando de um oficial superior\n"
          ]
        }
      ]
    }
  ]
}