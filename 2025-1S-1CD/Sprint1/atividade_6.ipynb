{
  "nbformat": 4,
  "nbformat_minor": 0,
  "metadata": {
    "colab": {
      "provenance": []
    },
    "kernelspec": {
      "name": "python3",
      "display_name": "Python 3"
    },
    "language_info": {
      "name": "python"
    }
  },
  "cells": [
    {
      "cell_type": "markdown",
      "source": [
        "Exemplo"
      ],
      "metadata": {
        "id": "OSRaEi6aFLrK"
      }
    },
    {
      "cell_type": "code",
      "execution_count": null,
      "metadata": {
        "colab": {
          "base_uri": "https://localhost:8080/"
        },
        "id": "aT390BHaAUyT",
        "outputId": "e43bf38b-a899-46ca-fa64-e919389bebb4"
      },
      "outputs": [
        {
          "output_type": "stream",
          "name": "stdout",
          "text": [
            "Informe o dia da semana com os valores a seguir\n",
            "    1 - Sunday\n",
            "    2 - Monday\n",
            "    3 - Tuesday\n",
            "    4 - Wednesday\n",
            "    5 - Thursday\n",
            "    6 - Friday\n",
            "    7 - Satuday \n",
            "0\n",
            "What? You are on a differente earth\n"
          ]
        }
      ],
      "source": [
        "day = int(input(\"\"\"Informe o dia da semana com os valores a seguir\n",
        "    1 - Sunday\n",
        "    2 - Monday\n",
        "    3 - Tuesday\n",
        "    4 - Wednesday\n",
        "    5 - Thursday\n",
        "    6 - Friday\n",
        "    7 - Satuday \\n\"\"\"))\n",
        "\n",
        "match day:\n",
        "    case 1:\n",
        "        print(\"We are on Sunday!\")\n",
        "    case 2:\n",
        "        print(\"We are on Monday!\")\n",
        "    case 3:\n",
        "        print(\"We are on Tuesday!\")\n",
        "    case 4:\n",
        "        print(\"We are on Wednesday!\")\n",
        "    case 5:\n",
        "        print(\"We are on Thursday!\")\n",
        "    case 6:\n",
        "        print(\"We are on Friday!\")\n",
        "    case 7:\n",
        "        print(\"We are on Satuday!\")\n",
        "    case _:\n",
        "        print(\"What? You are on a differente earth\")"
      ]
    },
    {
      "cell_type": "markdown",
      "source": [
        "Exercicio 1"
      ],
      "metadata": {
        "id": "7oBv2llvFPN9"
      }
    },
    {
      "cell_type": "code",
      "source": [
        "print(\"Insira a seguir os lados do triângulo: \")\n",
        "\n",
        "lado1 = float(input(\"Primeiro Lado: \"))\n",
        "lado2 = float(input(\"Segundo Lado: \"))\n",
        "lado3 = float(input(\"Terceiro Lado: \"))\n",
        "\n",
        "match (lado1 == lado2, lado2 == lado3, lado1 == lado3):\n",
        "    case (True, True, True):\n",
        "        print(\"Equilátero.\")\n",
        "    case (True, False, False) | (False, True, False) | (False, False, True):\n",
        "        print(\"Isósceles.\")\n",
        "    case (False, False, False):\n",
        "        print(\"Escaleno.\")"
      ],
      "metadata": {
        "colab": {
          "base_uri": "https://localhost:8080/"
        },
        "id": "a4GCcHy2AtzT",
        "outputId": "e70ec46c-7505-4a9d-b8b8-3c214a649298"
      },
      "execution_count": null,
      "outputs": [
        {
          "output_type": "stream",
          "name": "stdout",
          "text": [
            "Insira a seguir os lados do triângulo: \n",
            "Primeiro Lado: 1\n",
            "Segundo Lado: 2\n",
            "Terceiro Lado: 3\n",
            "Escaleno.\n"
          ]
        }
      ]
    },
    {
      "cell_type": "markdown",
      "source": [
        "Exercício 2"
      ],
      "metadata": {
        "id": "YLjhzMvmbAno"
      }
    },
    {
      "cell_type": "code",
      "source": [
        "n1 = int(input(\"Informe o primeiro número: \"))\n",
        "o = input(\"\"\"Informe um operador:\n",
        "  + = Mais\n",
        "  - = Menos\n",
        "  * = Vezes\n",
        "  / = Divisão\n",
        "\"\"\")\n",
        "n2 = int(input(\"Informe o segundo número: \"))\n",
        "\n",
        "match o:\n",
        "  case \"+\":\n",
        "    print(f\"O resultado da sua soma é: {n1 + n2}\")\n",
        "  case \"-\":\n",
        "    print(f\"O resultado da sua subtração é: {n1 - n2}\")\n",
        "  case \"*\":\n",
        "    print(f\"O resultado da sua multiplicação é: {n1 * n2}\")\n",
        "  case \"/\":\n",
        "    print(f\"O resultado da sua divsão é: {n1 / n2}\")\n",
        "  case _:\n",
        "    print(\"Operação inválida\")"
      ],
      "metadata": {
        "colab": {
          "base_uri": "https://localhost:8080/"
        },
        "id": "_MhtdlrLFugE",
        "outputId": "0574ff24-80ef-4223-92d6-53f3b5e5bca3"
      },
      "execution_count": null,
      "outputs": [
        {
          "output_type": "stream",
          "name": "stdout",
          "text": [
            "Informe o primeiro número: 10\n",
            "Informe um operador: \n",
            "  + = Mais\n",
            "  - = Menos\n",
            "  * = Vezes\n",
            "  / = Divisão\n",
            "-\n",
            "Informe o segundo número: 1\n",
            "O resultado da sua subtração é: 9\n"
          ]
        }
      ]
    },
    {
      "cell_type": "markdown",
      "source": [
        "Atividade Estruturas Condicionais"
      ],
      "metadata": {
        "id": "FrRMSsXzin1B"
      }
    },
    {
      "cell_type": "markdown",
      "source": [
        "Exercício 1"
      ],
      "metadata": {
        "id": "J-Ua5mVnjcJu"
      }
    },
    {
      "cell_type": "code",
      "source": [
        "num1 = int(input(\"Informe o primeiro número: \"))\n",
        "num2 = int(input(\"Informe o segundo número: \"))\n",
        "\n",
        "resultado = num1 + num2\n",
        "\n",
        "if resultado > 15:\n",
        "  print(\"O resultado é maior que 15: \", resultado)\n",
        "else:\n",
        "  print(\"O resultado é menor que 15\")"
      ],
      "metadata": {
        "colab": {
          "base_uri": "https://localhost:8080/"
        },
        "id": "pY9q8lkecAWs",
        "outputId": "e8e86e2b-6fe4-471c-b4a6-05f30fbc0512"
      },
      "execution_count": null,
      "outputs": [
        {
          "output_type": "stream",
          "name": "stdout",
          "text": [
            "Informe o primeiro número: 16\n",
            "Informe o segundo número: 1\n",
            "O resultado é maior que 15:  17\n"
          ]
        }
      ]
    },
    {
      "cell_type": "markdown",
      "source": [
        "Exercício 2"
      ],
      "metadata": {
        "id": "VBx09OFLj_Y3"
      }
    },
    {
      "cell_type": "code",
      "source": [
        "inteiro = int(input(\"Informe um número, positivo, negativo ou neutro: \"))\n",
        "\n",
        "if inteiro > 0:\n",
        "  print(\"O número é positivo!\")\n",
        "elif inteiro == 0:\n",
        "  print(\"O número é neutro!\")\n",
        "else:\n",
        "  print(\"O número é negativo\")"
      ],
      "metadata": {
        "colab": {
          "base_uri": "https://localhost:8080/"
        },
        "id": "hnOnjDXLjqlg",
        "outputId": "d4dbafcf-afc2-43f5-89f5-471c2543be89"
      },
      "execution_count": null,
      "outputs": [
        {
          "output_type": "stream",
          "name": "stdout",
          "text": [
            "Informe um número, positivo, negativo ou neutro: 1\n",
            "O número é positivo!\n"
          ]
        }
      ]
    },
    {
      "cell_type": "markdown",
      "source": [
        "Exercício 3"
      ],
      "metadata": {
        "id": "Y1lt2LsIkix9"
      }
    },
    {
      "cell_type": "code",
      "source": [
        "idade = int(input(\"Quantos anos você tem? \"))\n",
        "\n",
        "if idade >= 18:\n",
        "  print(\"Você é maior de idade.\")\n",
        "else:\n",
        "  print(\"Você é menor de idade\")"
      ],
      "metadata": {
        "id": "8kWbFZ6ykgES"
      },
      "execution_count": null,
      "outputs": []
    },
    {
      "cell_type": "markdown",
      "source": [
        "Exercício 4"
      ],
      "metadata": {
        "id": "cRwgk1K8kr_x"
      }
    },
    {
      "cell_type": "code",
      "source": [
        "temperatura = float(input(\"Informe quantos graus está fazendo em Cº: \\n\"))\n",
        "\n",
        "if temperatura < 18:\n",
        "  print(\"Frio\")\n",
        "elif temperatura <= 26:\n",
        "  print(\"Agradável\")\n",
        "else:\n",
        "  print(\"Quente\")"
      ],
      "metadata": {
        "colab": {
          "base_uri": "https://localhost:8080/"
        },
        "id": "bMZYPmtVks7d",
        "outputId": "484f3f64-9fd6-4389-fef9-2d55f3390086"
      },
      "execution_count": null,
      "outputs": [
        {
          "output_type": "stream",
          "name": "stdout",
          "text": [
            "Informe quantos graus está fazendo em Cº: \n",
            "26\n",
            "Agradável\n"
          ]
        }
      ]
    },
    {
      "cell_type": "markdown",
      "source": [
        "Exercício 5"
      ],
      "metadata": {
        "id": "7JaKhK0vlNQi"
      }
    },
    {
      "cell_type": "code",
      "source": [
        "print(\"Digite dois números inteiros: \\n\")\n",
        "\n",
        "num3 = int(input(\"Número 1: \"))\n",
        "num4 = int(input(\"Número 2: \"))\n",
        "\n",
        "if num3 == num4:\n",
        "  print(\"Números iguais!\")\n",
        "else:\n",
        "  print(\"Números diferentes!\")"
      ],
      "metadata": {
        "colab": {
          "base_uri": "https://localhost:8080/"
        },
        "id": "k4iJLnDBlLaO",
        "outputId": "ea7b91d1-0405-461c-b189-74389b7fb53e"
      },
      "execution_count": null,
      "outputs": [
        {
          "output_type": "stream",
          "name": "stdout",
          "text": [
            "Digite dois números inteiros: \n",
            "\n",
            "Número 1: 1\n",
            "Número 2: 4\n",
            "Números diferentes!\n"
          ]
        }
      ]
    },
    {
      "cell_type": "markdown",
      "source": [
        "Exercício 6"
      ],
      "metadata": {
        "id": "KFSqLWpYmBjc"
      }
    },
    {
      "cell_type": "code",
      "source": [
        "senha = input(\"Informe o senha para entrada que tenha 4 caracteres: \")\n",
        "if senha == \"1234\":\n",
        "  print(\"Acesso permitido\")\n",
        "else:\n",
        "  print(\"Acesso negado\")"
      ],
      "metadata": {
        "colab": {
          "base_uri": "https://localhost:8080/"
        },
        "id": "Xm8bqMVwmAR3",
        "outputId": "a0257193-7b53-437b-ae27-de0dc184e52e"
      },
      "execution_count": null,
      "outputs": [
        {
          "output_type": "stream",
          "name": "stdout",
          "text": [
            "Informe o senha para entrada que tenha 4 caracteres: 1234\n",
            "Acesso permitido\n"
          ]
        }
      ]
    },
    {
      "cell_type": "markdown",
      "source": [
        "Exercício 7"
      ],
      "metadata": {
        "id": "O-NtDiOGIDvN"
      }
    },
    {
      "cell_type": "code",
      "source": [
        "nota1 = float(input(\"Qual seria a primeira nota do aluno: \"))\n",
        "nota2 = float(input(\"Qual seria a segunda nota do aluno: \"))\n",
        "final = (nota1 + nota2)/2\n",
        "\n",
        "if final >= 7:\n",
        "  print(f\"Aluno aprovado, pois tirou {final:.2f} em sua média final\")\n",
        "elif final > 5:\n",
        "  print(f\"Aluno está em exame, pois tirou {final:.2f} em sua média final\")\n",
        "else:\n",
        "  print(f\"Aluno reprovado! Pois tirou {final:.2f} em sua média final\")"
      ],
      "metadata": {
        "id": "bacrmkEmmkUp",
        "colab": {
          "base_uri": "https://localhost:8080/"
        },
        "outputId": "0555b42f-cb8e-42f9-d985-3f907aa3fc84"
      },
      "execution_count": null,
      "outputs": [
        {
          "output_type": "stream",
          "name": "stdout",
          "text": [
            "Qual seria a primeira nota do aluno: 7\n",
            "Qual seria a segunda nota do aluno: 7\n",
            "Aluno aprovado, pois tirou 7.00 em sua média final\n"
          ]
        }
      ]
    },
    {
      "cell_type": "markdown",
      "source": [
        "Exercício 8"
      ],
      "metadata": {
        "id": "sH9O-xwTK3xo"
      }
    },
    {
      "cell_type": "code",
      "source": [
        "print(\"Qual é o nome de cada um dos times? \")\n",
        "time1 = input(\"\\nPrimeiro Time: \")\n",
        "time2 = input(\"Segundo Time: \")\n",
        "gol1 = int(input(f\"Quantos gols o {time1} fez? \"))\n",
        "gol2 = int(input(f\"Quantos gols o {time2} fez? \"))\n",
        "\n",
        "match (gol1 == gol2, gol1 > gol2, gol1 < gol2):\n",
        "    case (True, False, False):\n",
        "        print(\"\\nHouve um empate entre os times.\")\n",
        "    case (False, True, False):\n",
        "        print(f\"\\nO {time1} ganhou a partida.\")\n",
        "    case (False, False, True):\n",
        "        print(f\"\\nO {time2} ganhou a partida.\")\n",
        "    case _:\n",
        "        print(\"Houve um erro no programa!\")"
      ],
      "metadata": {
        "colab": {
          "base_uri": "https://localhost:8080/"
        },
        "id": "lWfBV9EsI5dJ",
        "outputId": "54edeb17-e503-4e40-d609-3b15618f2598"
      },
      "execution_count": null,
      "outputs": [
        {
          "output_type": "stream",
          "name": "stdout",
          "text": [
            "Qual é o nome de cada um dos times? \n",
            "\n",
            "Primeiro Time: Flamengo\n",
            "Segundo Time: Botafogo\n",
            "Quantos gols o Flamengo fez? 1\n",
            "Quantos gols o Botafogo fez? 2\n",
            "\n",
            "O Botafogo ganhou a partida.\n"
          ]
        }
      ]
    },
    {
      "cell_type": "markdown",
      "source": [
        "Exercício 9"
      ],
      "metadata": {
        "id": "wZvrW7aHLokB"
      }
    },
    {
      "cell_type": "code",
      "source": [
        "periodo = input(\"\"\"Informe da seguinte maneira:\n",
        "M - Matutino\n",
        "V - Vespertino\n",
        "N - Noturno\n",
        "Em qual período você estuda? \"\"\").upper()\n",
        "\n",
        "match periodo:\n",
        "  case \"M\":\n",
        "    print(\"\\nBom dia!\")\n",
        "  case \"V\":\n",
        "    print(\"\\nBoa tarde!\")\n",
        "  case \"N\":\n",
        "    print(\"\\nBoa noite!\")\n",
        "  case _:\n",
        "    print(\"\\nValor Inválido!\")"
      ],
      "metadata": {
        "colab": {
          "base_uri": "https://localhost:8080/"
        },
        "id": "IyuN0Sj7J7A4",
        "outputId": "ee04971b-1f86-445f-913d-862de932572f"
      },
      "execution_count": null,
      "outputs": [
        {
          "output_type": "stream",
          "name": "stdout",
          "text": [
            "Informe da seguinte maneira:\n",
            "M - Matutino\n",
            "V - Vespertino\n",
            "N - Noturno\n",
            "Em qual período você estuda? M\n",
            "\n",
            "Bom dia!\n"
          ]
        }
      ]
    },
    {
      "cell_type": "markdown",
      "source": [
        "Exercício 10"
      ],
      "metadata": {
        "id": "r2-MWcF8Nnrf"
      }
    },
    {
      "cell_type": "code",
      "source": [
        "faixa_etaria = int(input(\"Informe a sua idade: \"))\n",
        "\n",
        "if faixa_etaria < 12:\n",
        "  print(\"Criança\")\n",
        "elif faixa_etaria < 19:\n",
        "  print(\"Adolescente\")\n",
        "elif faixa_etaria < 25:\n",
        "  print(\"Jovem\")\n",
        "elif faixa_etaria < 41:\n",
        "  print(\"Adulto\")\n",
        "elif faixa_etaria < 61:\n",
        "  print(\"Meia idade\")\n",
        "else:\n",
        "  print(\"Idoso\")"
      ],
      "metadata": {
        "colab": {
          "base_uri": "https://localhost:8080/"
        },
        "id": "iRF39UeDMmDm",
        "outputId": "c60a2f5a-2228-444e-de44-fb943561908c"
      },
      "execution_count": null,
      "outputs": [
        {
          "output_type": "stream",
          "name": "stdout",
          "text": [
            "Informe a sua idade: 60\n",
            "Meia idade\n"
          ]
        }
      ]
    },
    {
      "cell_type": "markdown",
      "source": [
        "Exercício 11"
      ],
      "metadata": {
        "id": "jPDnAC0fOf5n"
      }
    },
    {
      "cell_type": "code",
      "source": [
        "salario = float(input(\"Informe o salário do funcionário: \"))\n",
        "\n",
        "if salario < 280.01:\n",
        "  print(f\"O funcinário tem direito a 20% ou R$ {salario * 0.2:.2f} de bônus no salário que é R$ {salario:.2f} que se torna R$ {salario * 1.20:.2f}\")\n",
        "elif salario < 700.01:\n",
        "  print(f\"O funcinário tem direito a 15% ou R$ {salario * 0.15:.2f} de bônus no salário que é R$ {salario:.2f} que se torna R$ {salario * 1.15:.2f}\")\n",
        "elif salario < 1500.01:\n",
        "  print(f\"O funcinário tem direito a 10% ou R$ {salario * 0.1:.2f} de bônus no salário que é R$ {salario:.2f} que se torna R$ {salario * 1.1:.2f}\")\n",
        "else:\n",
        "  print(f\"O funcinário tem direito a 5% ou R$ {salario * 0.05:.2f} de bônus no salário que é R$ {salario:.2f} que se torna R$ {salario * 1.05:.2f}\")"
      ],
      "metadata": {
        "colab": {
          "base_uri": "https://localhost:8080/"
        },
        "id": "XJ-Luuj-OPJs",
        "outputId": "3fee6dc2-67e7-4977-8b5c-5ad414e3a58f"
      },
      "execution_count": null,
      "outputs": [
        {
          "output_type": "stream",
          "name": "stdout",
          "text": [
            "Informe o salário do funcionário: 1000\n",
            "O funcinário tem direito a 10% ou R$ 100.00 de bônus no salário que é R$ 1000.00 que se torna R$ 1100.00\n"
          ]
        }
      ]
    },
    {
      "cell_type": "markdown",
      "source": [
        "Exercício 12"
      ],
      "metadata": {
        "id": "hmtkOmmOReD3"
      }
    },
    {
      "cell_type": "code",
      "source": [
        "dia = int(input(\"\"\"Informe o dia da semana com os valores a seguir:\n",
        "    1 - Domingo\n",
        "    2 - Segunda-feira\n",
        "    3 - Terça-feira\n",
        "    4 - Quarta-feira\n",
        "    5 - Quinta-feira\n",
        "    6 - Sexta-feira\n",
        "    7 - Sábado \\n\"\"\"))\n",
        "\n",
        "match dia:\n",
        "    case 1:\n",
        "        print(\"Estamos no Domingo!\")\n",
        "    case 2:\n",
        "        print(\"Estamos na Segunda-feira!\")\n",
        "    case 3:\n",
        "        print(\"Estamos na Terça-feira!\")\n",
        "    case 4:\n",
        "        print(\"Estamos na Quarta-feira!\")\n",
        "    case 5:\n",
        "        print(\"Estamos na Quinta-feira!\")\n",
        "    case 6:\n",
        "        print(\"Estamos na Sexta-feira!\")\n",
        "    case 7:\n",
        "        print(\"Estamos no Sábado!\")\n",
        "    case _:\n",
        "        print(\"Data não válida!\")"
      ],
      "metadata": {
        "colab": {
          "base_uri": "https://localhost:8080/"
        },
        "id": "5gdY8-sYRX7r",
        "outputId": "7f02449c-2590-4f83-e846-d5523813c66d"
      },
      "execution_count": null,
      "outputs": [
        {
          "output_type": "stream",
          "name": "stdout",
          "text": [
            "Informe o dia da semana com os valores a seguir:\n",
            "    1 - Domingo\n",
            "    2 - Segunda-feira\n",
            "    3 - Terça-feira\n",
            "    4 - Quarta-feira\n",
            "    5 - Quinta-feira\n",
            "    6 - Sexta-feira\n",
            "    7 - Sábado \n",
            "1\n",
            "Estamos no Domingo!\n"
          ]
        }
      ]
    },
    {
      "cell_type": "markdown",
      "source": [
        "Exercício 13"
      ],
      "metadata": {
        "id": "vxBWDgdGa63Q"
      }
    },
    {
      "cell_type": "code",
      "source": [
        "print(\"\"\"Escolha a conversão desejada:\n",
        "1 - Fahrenheit para Celsius\n",
        "2 - Celsius para Fahrenheit\"\"\")\n",
        "\n",
        "opcao = int(input(\"Digite 1 ou 2: \"))\n",
        "\n",
        "if opcao == 1:\n",
        "    fahrenheit = float(input(\"Informe a temperatura em Fahrenheit: \"))\n",
        "    celsius = (fahrenheit - 32) * 5/9\n",
        "    print(f\"{fahrenheit}°F é igual a {celsius:.2f}°C.\")\n",
        "elif opcao == 2:\n",
        "    celsius = float(input(\"Informe a temperatura em Celsius: \"))\n",
        "    fahrenheit = (celsius * 9/5) + 32\n",
        "    print(f\"{celsius}°C é igual a {fahrenheit:.2f}°F.\")\n",
        "else:\n",
        "    print(\"Opção inválida! Por favor, escolha 1 ou 2.\")"
      ],
      "metadata": {
        "colab": {
          "base_uri": "https://localhost:8080/"
        },
        "id": "nSz5F33SaW6s",
        "outputId": "5e6b9b68-114f-44af-9285-62c2613616a2"
      },
      "execution_count": null,
      "outputs": [
        {
          "output_type": "stream",
          "name": "stdout",
          "text": [
            "Escolha a conversão desejada:\n",
            "1 - Fahrenheit para Celsius\n",
            "2 - Celsius para Fahrenheit\n",
            "Digite 1 ou 2: 1\n",
            "Informe a temperatura em Fahrenheit: 12\n",
            "12.0°F é igual a -11.11°C.\n"
          ]
        }
      ]
    },
    {
      "cell_type": "markdown",
      "source": [
        "Exercício 14"
      ],
      "metadata": {
        "id": "s6grShH9bPtv"
      }
    },
    {
      "cell_type": "code",
      "source": [
        "idade = int(input(\"Quantos anos você tem? \"))\n",
        "\n",
        "if idade < 16:\n",
        "  print(\"Proibido de votar\")\n",
        "elif idade < 18:\n",
        "  print(\"Voto facultativo\")\n",
        "elif idade < 65:\n",
        "  print(\"Voto obrigatório\")\n",
        "else:\n",
        "  print(\"Voto facultativo\")"
      ],
      "metadata": {
        "colab": {
          "base_uri": "https://localhost:8080/"
        },
        "id": "X0m3iGnEbHAT",
        "outputId": "e472ee48-374e-458d-ef07-3385a961e853"
      },
      "execution_count": null,
      "outputs": [
        {
          "output_type": "stream",
          "name": "stdout",
          "text": [
            "Quantos anos você tem? 17\n",
            "Voto facultativo\n"
          ]
        }
      ]
    },
    {
      "cell_type": "markdown",
      "source": [
        "Exercício 15"
      ],
      "metadata": {
        "id": "HKCabHCFc0Dg"
      }
    },
    {
      "cell_type": "code",
      "source": [
        "print(\"Responda tudo com S ou N\")\n",
        "\n",
        "telefonema = input(\"Telefonou para a vítima? \").upper()\n",
        "local = input(\"Esteve no local do crime? \").upper()\n",
        "moradia = input(\"Mora perto da vítima? \").upper()\n",
        "agitagem = input(\"Devia para a vítima? \").upper()\n",
        "trabalho = input(\"Já trabalhou com a vítima? \").upper()\n",
        "\n",
        "match (telefonema, local, moradia, agitagem, trabalho):\n",
        "    case (\"S\", \"N\", \"N\", \"N\", \"N\") | (\"N\", \"S\", \"N\", \"N\", \"N\") | (\"N\", \"N\", \"S\", \"N\", \"N\") | (\"N\", \"N\", \"N\", \"S\", \"N\") | (\"N\", \"N\", \"N\", \"N\", \"S\"):\n",
        "        print(\"Inocente\")\n",
        "    case (\"S\", \"S\", \"N\", \"N\", \"N\") | (\"S\", \"N\", \"S\", \"N\", \"N\") | (\"S\", \"N\", \"N\", \"S\", \"N\") | (\"S\", \"N\", \"N\", \"N\", \"S\") | (\"N\", \"S\", \"S\", \"N\", \"N\") | (\"N\", \"S\", \"N\", \"S\", \"N\") | (\"N\", \"S\", \"N\", \"N\", \"S\") | (\"N\", \"N\", \"S\", \"S\", \"N\") | (\"N\", \"N\", \"S\", \"N\", \"S\"):\n",
        "        print(\"Suspeito\")\n",
        "    case (\"S\", \"S\", \"S\", \"N\", \"N\") | (\"S\", \"S\", \"N\", \"S\", \"N\") | (\"S\", \"S\", \"N\", \"N\", \"S\") | (\"S\", \"N\", \"S\", \"S\", \"N\") | (\"S\", \"N\", \"S\", \"N\", \"S\") | (\"S\", \"N\", \"N\", \"S\", \"S\") | (\"N\", \"S\", \"S\", \"S\", \"N\") | (\"N\", \"S\", \"S\", \"N\", \"S\") | (\"N\", \"S\", \"N\", \"S\", \"S\") | (\"N\", \"N\", \"S\", \"S\", \"S\"):\n",
        "        print(\"Cúmplice\")\n",
        "    case (\"S\", \"S\", \"S\", \"S\", \"S\"):\n",
        "        print(\"Assassino\")\n",
        "    case _:\n",
        "        print(\"Resposta inválida!\")\n"
      ],
      "metadata": {
        "colab": {
          "base_uri": "https://localhost:8080/"
        },
        "id": "CCRx_OlLcv6h",
        "outputId": "31762380-22b0-481a-d2db-68fb85b090a6"
      },
      "execution_count": null,
      "outputs": [
        {
          "output_type": "stream",
          "name": "stdout",
          "text": [
            "Responda tudo com S ou N\n",
            "Telefonou para a vítima? n\n",
            "Esteve no local do crime? s\n",
            "Mora perto da vítima? n\n",
            "Devia para a vítima? n\n",
            "Já trabalhou com a vítima? n\n",
            "Inocente\n"
          ]
        }
      ]
    },
    {
      "cell_type": "markdown",
      "source": [
        "for é mais fácil"
      ],
      "metadata": {
        "id": "gQGdW1-ig7j8"
      }
    },
    {
      "cell_type": "code",
      "source": [
        "respostas_positivas = 0\n",
        "\n",
        "print(\"Responda as perguntas com 'S' para sim e 'N' para não.\")\n",
        "\n",
        "perguntas = [\n",
        "    \"Telefonou para a vítima? \",\n",
        "    \"Esteve no local do crime? \",\n",
        "    \"Mora perto da vítima? \",\n",
        "    \"Devia para a vítima? \",\n",
        "    \"Já trabalhou com a vítima? \"\n",
        "]\n",
        "\n",
        "for pergunta in perguntas:\n",
        "    resposta = input(pergunta).strip().upper()\n",
        "    if resposta == 'S':\n",
        "        respostas_positivas += 1\n",
        "\n",
        "if respostas_positivas == 2:\n",
        "    print(\"Suspeita\")\n",
        "elif 3 <= respostas_positivas <= 4:\n",
        "    print(\"Cúmplice\")\n",
        "elif respostas_positivas == 5:\n",
        "    print(\"Assassino\")\n",
        "else:\n",
        "    print(\"Inocente\")"
      ],
      "metadata": {
        "colab": {
          "base_uri": "https://localhost:8080/"
        },
        "id": "tuQ9hReae2HY",
        "outputId": "9b2af625-02ed-4d21-ae95-58dafc943bd4"
      },
      "execution_count": null,
      "outputs": [
        {
          "output_type": "stream",
          "name": "stdout",
          "text": [
            "Responda as perguntas com 'S' para sim e 'N' para não.\n",
            "Telefonou para a vítima? s\n",
            "Esteve no local do crime? n\n",
            "Mora perto da vítima? n\n",
            "Devia para a vítima? n\n",
            "Já trabalhou com a vítima? n\n",
            "Inocente\n"
          ]
        }
      ]
    },
    {
      "cell_type": "markdown",
      "source": [
        "Exercício 16"
      ],
      "metadata": {
        "id": "UUdFmtrHirQL"
      }
    },
    {
      "cell_type": "code",
      "source": [
        "print(\"Informe o valor de 3 produtos.\")\n",
        "p1 = float(input(\"\\nPrimeiro produto: \"))\n",
        "p2 = float(input(\"\\nSegundo produto: \"))\n",
        "p3 = float(input(\"\\nTerceiro produto: \"))\n",
        "\n",
        "if p1 < p2 < p3:\n",
        "  print(\"Você deve comprar o primeiro produto.\")\n",
        "elif p1 > p2 < p3:\n",
        "  print(\"Você deve comprar o segundo produto.\")\n",
        "else:\n",
        "  print(\"Você deve comprar o terceiro produto.\")"
      ],
      "metadata": {
        "colab": {
          "base_uri": "https://localhost:8080/"
        },
        "id": "7fxZa4U1hTLD",
        "outputId": "fca7aaec-9486-47a9-d5da-b6e208333444"
      },
      "execution_count": null,
      "outputs": [
        {
          "output_type": "stream",
          "name": "stdout",
          "text": [
            "Informe o valor de 3 produtos.\n",
            "\n",
            "Primeiro produto: 1\n",
            "\n",
            "Segundo produto: 2\n",
            "\n",
            "Terceiro produto: 3\n",
            "Você deve comprar o primeiro produto.\n"
          ]
        }
      ]
    }
  ]
}