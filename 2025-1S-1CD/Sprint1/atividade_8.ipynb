{
  "nbformat": 4,
  "nbformat_minor": 0,
  "metadata": {
    "colab": {
      "provenance": []
    },
    "kernelspec": {
      "name": "python3",
      "display_name": "Python 3"
    },
    "language_info": {
      "name": "python"
    }
  },
  "cells": [
    {
      "cell_type": "markdown",
      "source": [
        "Exercício 1"
      ],
      "metadata": {
        "id": "SXqk6Em9_ZQS"
      }
    },
    {
      "cell_type": "code",
      "execution_count": null,
      "metadata": {
        "colab": {
          "base_uri": "https://localhost:8080/"
        },
        "id": "sbXODsUM_PAI",
        "outputId": "e07034d0-441c-4918-df50-53fa9430561f"
      },
      "outputs": [
        {
          "output_type": "stream",
          "name": "stdout",
          "text": [
            "5\n",
            "10\n",
            "15\n",
            "20\n",
            "25\n",
            "30\n",
            "35\n",
            "40\n",
            "45\n",
            "50\n"
          ]
        }
      ],
      "source": [
        "for d in range(5,51,5):\n",
        "  print(d)"
      ]
    },
    {
      "cell_type": "markdown",
      "source": [
        "\n",
        "Exercício 2"
      ],
      "metadata": {
        "id": "lJIcR7p1_c-Z"
      }
    },
    {
      "cell_type": "code",
      "source": [
        "for p in range(2,51,2):\n",
        "  print(p)"
      ],
      "metadata": {
        "colab": {
          "base_uri": "https://localhost:8080/"
        },
        "id": "l3GJhfNK_dgP",
        "outputId": "d509ee38-63c7-4e7d-acd1-41910462f7e9"
      },
      "execution_count": null,
      "outputs": [
        {
          "output_type": "stream",
          "name": "stdout",
          "text": [
            "2\n",
            "4\n",
            "6\n",
            "8\n",
            "10\n",
            "12\n",
            "14\n",
            "16\n",
            "18\n",
            "20\n",
            "22\n",
            "24\n",
            "26\n",
            "28\n",
            "30\n",
            "32\n",
            "34\n",
            "36\n",
            "38\n",
            "40\n",
            "42\n",
            "44\n",
            "46\n",
            "48\n",
            "50\n"
          ]
        }
      ]
    },
    {
      "cell_type": "markdown",
      "source": [
        "\n",
        "Exercício 3"
      ],
      "metadata": {
        "id": "5fg7XP2L_dxI"
      }
    },
    {
      "cell_type": "code",
      "source": [
        "tabuada = int(input(\"Informe um número para exibir uma tabuada: \"))\n",
        "for t in range(1,11):\n",
        "  print(f\"{tabuada} x {t} = {t* tabuada}\")"
      ],
      "metadata": {
        "colab": {
          "base_uri": "https://localhost:8080/"
        },
        "id": "rA71Ta56_eU0",
        "outputId": "9d49758e-41f7-4fe5-cdee-68e0f6faf43f"
      },
      "execution_count": null,
      "outputs": [
        {
          "output_type": "stream",
          "name": "stdout",
          "text": [
            "Informe um número para exibir uma tabuada: 1\n",
            "1 x 1 = 1\n",
            "1 x 2 = 2\n",
            "1 x 3 = 3\n",
            "1 x 4 = 4\n",
            "1 x 5 = 5\n",
            "1 x 6 = 6\n",
            "1 x 7 = 7\n",
            "1 x 8 = 8\n",
            "1 x 9 = 9\n",
            "1 x 10 = 10\n"
          ]
        }
      ]
    },
    {
      "cell_type": "markdown",
      "source": [
        "\n",
        "Exercício 4"
      ],
      "metadata": {
        "id": "F_FpUtUY_enV"
      }
    },
    {
      "cell_type": "code",
      "source": [
        "soma = 0\n",
        "for i in range(1, 101):\n",
        "  soma += i\n",
        "print(soma)"
      ],
      "metadata": {
        "id": "fNsLvjvM_fdz",
        "colab": {
          "base_uri": "https://localhost:8080/"
        },
        "outputId": "22b26afa-e941-4824-989f-1f8d5ec18554"
      },
      "execution_count": null,
      "outputs": [
        {
          "output_type": "stream",
          "name": "stdout",
          "text": [
            "5050\n"
          ]
        }
      ]
    },
    {
      "cell_type": "markdown",
      "source": [
        "\n",
        "Exercício 5"
      ],
      "metadata": {
        "id": "48_XsmfO_frb"
      }
    },
    {
      "cell_type": "code",
      "source": [
        "soma = 0\n",
        "for i in range(5):\n",
        "    numero = int(input(f\"Digite o {i+1}º número: \"))\n",
        "    soma += numero\n",
        "\n",
        "print(f\"A média dos números é igual a {soma / 5:.2f}\")"
      ],
      "metadata": {
        "id": "52uVWbA1_gP5"
      },
      "execution_count": null,
      "outputs": []
    },
    {
      "cell_type": "markdown",
      "source": [
        "\n",
        "Exercício 6"
      ],
      "metadata": {
        "id": "__CDS9kz_gkv"
      }
    },
    {
      "cell_type": "code",
      "source": [
        "for t in range(3,31,3):\n",
        "  print(t)"
      ],
      "metadata": {
        "id": "8D-Mqw-D_hLU",
        "colab": {
          "base_uri": "https://localhost:8080/"
        },
        "outputId": "1eb4ded8-b3f5-4dac-cde7-fbde2d4f3fe7"
      },
      "execution_count": null,
      "outputs": [
        {
          "output_type": "stream",
          "name": "stdout",
          "text": [
            "3\n",
            "6\n",
            "9\n",
            "12\n",
            "15\n",
            "18\n",
            "21\n",
            "24\n",
            "27\n",
            "30\n"
          ]
        }
      ]
    },
    {
      "cell_type": "markdown",
      "source": [
        "\n",
        "Exercício 7"
      ],
      "metadata": {
        "id": "4SzUOuTW_hp8"
      }
    },
    {
      "cell_type": "code",
      "source": [
        "negativos = [-3,-2,-1,0,1,2,3]\n",
        "\n",
        "for n in negativos:\n",
        "  if n < 0:\n",
        "    print(n)"
      ],
      "metadata": {
        "id": "Oads2Syy_iUL",
        "colab": {
          "base_uri": "https://localhost:8080/"
        },
        "outputId": "a25533b8-169d-4e24-bdb8-ea921aa292e2"
      },
      "execution_count": null,
      "outputs": [
        {
          "output_type": "stream",
          "name": "stdout",
          "text": [
            "-3\n",
            "-2\n",
            "-1\n"
          ]
        }
      ]
    },
    {
      "cell_type": "markdown",
      "source": [
        "\n",
        "Exercício 8"
      ],
      "metadata": {
        "id": "1dpGkrNg_imZ"
      }
    },
    {
      "cell_type": "code",
      "source": [
        "piramide = int(input(\"Informe uma altura para a pirâmide: \"))\n",
        "asteristico = 0\n",
        "\n",
        "for p in range(1, piramide+1):\n",
        "  asteristico += 1\n",
        "  print(\"*\" * asteristico)"
      ],
      "metadata": {
        "id": "zvAm1qgV_jqP",
        "colab": {
          "base_uri": "https://localhost:8080/"
        },
        "outputId": "ad829082-c6d3-4831-dcb0-6a12e2c138c9"
      },
      "execution_count": null,
      "outputs": [
        {
          "output_type": "stream",
          "name": "stdout",
          "text": [
            "Informe uma altura para a pirâmide: 6\n",
            "*\n",
            "**\n",
            "***\n",
            "****\n",
            "*****\n",
            "******\n"
          ]
        }
      ]
    },
    {
      "cell_type": "markdown",
      "source": [
        "\n",
        "Exercício 9"
      ],
      "metadata": {
        "id": "BxT_HHFR_kAv"
      }
    },
    {
      "cell_type": "code",
      "source": [
        "for r in range(10, 0, -1):\n",
        "  print(r)\n",
        "print(\"FIM!\")"
      ],
      "metadata": {
        "id": "8l4brwEL_ksJ",
        "colab": {
          "base_uri": "https://localhost:8080/"
        },
        "outputId": "41095576-c7fd-4369-8994-902f5abf2afc"
      },
      "execution_count": null,
      "outputs": [
        {
          "output_type": "stream",
          "name": "stdout",
          "text": [
            "10\n",
            "9\n",
            "8\n",
            "7\n",
            "6\n",
            "5\n",
            "4\n",
            "3\n",
            "2\n",
            "1\n",
            "FIM!\n"
          ]
        }
      ]
    },
    {
      "cell_type": "markdown",
      "source": [
        "\n",
        "Exercício 10"
      ],
      "metadata": {
        "id": "IdAZdy47_lEd"
      }
    },
    {
      "cell_type": "code",
      "source": [
        "substituir = [-3,-2,-1,0,1,2,3]\n",
        "\n",
        "for i in range(len(substituir)):\n",
        "    if substituir[i] < 0:\n",
        "        substituir[i] = 0\n",
        "\n",
        "substituir"
      ],
      "metadata": {
        "id": "5SuWu3xI_l44",
        "colab": {
          "base_uri": "https://localhost:8080/"
        },
        "outputId": "c179c0ba-7123-4aaa-8585-1f326274f5f4"
      },
      "execution_count": null,
      "outputs": [
        {
          "output_type": "execute_result",
          "data": {
            "text/plain": [
              "[0, 0, 0, 0, 1, 2, 3]"
            ]
          },
          "metadata": {},
          "execution_count": 18
        }
      ]
    },
    {
      "cell_type": "markdown",
      "source": [
        "\n",
        "Exercício 11"
      ],
      "metadata": {
        "id": "FJkwI3Og_mMV"
      }
    },
    {
      "cell_type": "code",
      "source": [
        "multiplo = int(input(\"Informe um número: \"))\n",
        "\n",
        "for m in range(multiplo, multiplo*11, multiplo):\n",
        "  print(m)"
      ],
      "metadata": {
        "id": "2bWrUR7i_myU",
        "colab": {
          "base_uri": "https://localhost:8080/"
        },
        "outputId": "9e9cd65e-43d0-4ed8-dc69-06682194b535"
      },
      "execution_count": null,
      "outputs": [
        {
          "output_type": "stream",
          "name": "stdout",
          "text": [
            "Informe um número: 8\n",
            "8\n",
            "16\n",
            "24\n",
            "32\n",
            "40\n",
            "48\n",
            "56\n",
            "64\n",
            "72\n",
            "80\n"
          ]
        }
      ]
    },
    {
      "cell_type": "markdown",
      "source": [
        "\n",
        "Exercício 12"
      ],
      "metadata": {
        "id": "Tgj5K6Gc_nDD"
      }
    },
    {
      "cell_type": "code",
      "source": [
        "palavra = input(\"Digite uma palavra: \")\n",
        "vogais = \"aeiouáéíóúãẽõàâãêôõ\"\n",
        "contador = 0\n",
        "\n",
        "for p in palavra:\n",
        "    if p in vogais:\n",
        "        contador += 1\n",
        "\n",
        "print(\"Número de vogais na palavra:\", contador)"
      ],
      "metadata": {
        "id": "dOLYGoRh_ni2",
        "colab": {
          "base_uri": "https://localhost:8080/"
        },
        "outputId": "f62ed1f1-9506-4d72-d6b2-e4667f03898b"
      },
      "execution_count": null,
      "outputs": [
        {
          "output_type": "stream",
          "name": "stdout",
          "text": [
            "Digite uma palavra: cabelo\n",
            "Número de vogais na palavra: 3\n"
          ]
        }
      ]
    },
    {
      "cell_type": "markdown",
      "source": [
        "\n",
        "Exercício 13"
      ],
      "metadata": {
        "id": "WmsKvzAW_oK_"
      }
    },
    {
      "cell_type": "code",
      "source": [
        "for d in range(5,51,5):\n",
        "  print(d)"
      ],
      "metadata": {
        "id": "NOP7HLlh_omh",
        "colab": {
          "base_uri": "https://localhost:8080/"
        },
        "outputId": "9fec05f5-8d7f-4fa7-8d7e-a96ac68e1049"
      },
      "execution_count": null,
      "outputs": [
        {
          "output_type": "stream",
          "name": "stdout",
          "text": [
            "5\n",
            "10\n",
            "15\n",
            "20\n",
            "25\n",
            "30\n",
            "35\n",
            "40\n",
            "45\n",
            "50\n"
          ]
        }
      ]
    },
    {
      "cell_type": "markdown",
      "source": [
        "\n",
        "Exercício 14"
      ],
      "metadata": {
        "id": "xwComPke_o-m"
      }
    },
    {
      "cell_type": "code",
      "source": [
        "valores = [4, 15, 9, 6, 18, 11, 14, 12, 20, 13, 10]\n",
        "contador = 0\n",
        "\n",
        "for v in valores:\n",
        "  if v % 2 == 0:\n",
        "    contador += 1\n",
        "\n",
        "print(f\"Existem no total dessa lista {contador} números pares\")"
      ],
      "metadata": {
        "id": "J0ujrxFc_pfZ",
        "colab": {
          "base_uri": "https://localhost:8080/"
        },
        "outputId": "0c6c28de-7f61-40fb-c049-3f61aa27c2b1"
      },
      "execution_count": null,
      "outputs": [
        {
          "output_type": "stream",
          "name": "stdout",
          "text": [
            "Existem no total dessa lista 7 números pares\n"
          ]
        }
      ]
    },
    {
      "cell_type": "markdown",
      "source": [
        "\n",
        "Exercício 15"
      ],
      "metadata": {
        "id": "t5yHJLpt_pyJ"
      }
    },
    {
      "cell_type": "code",
      "source": [
        "palavra = input(\"Digite uma palavra: \")\n",
        "\n",
        "invertida = \"\"\n",
        "\n",
        "for i in range(len(palavra) - 1, -1, -1):\n",
        "    invertida += palavra[i]\n",
        "print(invertida)"
      ],
      "metadata": {
        "id": "uMll7hhn_qPF",
        "colab": {
          "base_uri": "https://localhost:8080/"
        },
        "outputId": "c645aae0-0e1e-413f-90c7-27a66c145846"
      },
      "execution_count": null,
      "outputs": [
        {
          "output_type": "stream",
          "name": "stdout",
          "text": [
            "Digite uma palavra: abuela\n",
            "aleuba\n"
          ]
        }
      ]
    },
    {
      "cell_type": "markdown",
      "source": [
        "Exercício 16"
      ],
      "metadata": {
        "id": "Je7L8FnW_qpx"
      }
    },
    {
      "cell_type": "code",
      "source": [
        "for im in range(1,21,2):\n",
        "  print(im)"
      ],
      "metadata": {
        "id": "dWQYTOPN_rVH",
        "colab": {
          "base_uri": "https://localhost:8080/"
        },
        "outputId": "fba49508-cdb7-4c25-989c-e8ff80899a68"
      },
      "execution_count": null,
      "outputs": [
        {
          "output_type": "stream",
          "name": "stdout",
          "text": [
            "1\n",
            "3\n",
            "5\n",
            "7\n",
            "9\n",
            "11\n",
            "13\n",
            "15\n",
            "17\n",
            "19\n"
          ]
        }
      ]
    },
    {
      "cell_type": "markdown",
      "source": [
        "\n",
        "Exercício 17"
      ],
      "metadata": {
        "id": "43m2MZAQ_rrX"
      }
    },
    {
      "cell_type": "code",
      "source": [
        "piramide = int(input(\"Informe uma altura para a pirâmide: \"))\n",
        "\n",
        "for p in range(1, piramide+1):\n",
        "  for q in range(1, p+1):\n",
        "    print(q, end=\" \")\n",
        "  print()"
      ],
      "metadata": {
        "id": "1Nc6inEA_sJc",
        "colab": {
          "base_uri": "https://localhost:8080/"
        },
        "outputId": "d6bea96d-10a2-4380-bfbf-684439a46732"
      },
      "execution_count": null,
      "outputs": [
        {
          "output_type": "stream",
          "name": "stdout",
          "text": [
            "Informe uma altura para a pirâmide: 6\n",
            "1 \n",
            "1 2 \n",
            "1 2 3 \n",
            "1 2 3 4 \n",
            "1 2 3 4 5 \n",
            "1 2 3 4 5 6 \n"
          ]
        }
      ]
    },
    {
      "cell_type": "markdown",
      "source": [
        "Exercício 18"
      ],
      "metadata": {
        "id": "W9HbvDaj_scT"
      }
    },
    {
      "cell_type": "code",
      "source": [
        "num = int(input(\"Digite um número para calcular o fatorial: \"))\n",
        "fatorial = 1\n",
        "conta = \"\"\n",
        "\n",
        "for i in range(num, 0, -1):\n",
        "    fatorial *= i\n",
        "    if i == num:\n",
        "        conta += f\"{i}\"\n",
        "    else:\n",
        "        conta += f\" x {i}\"\n",
        "\n",
        "print(f\"{num}! = {conta} = {fatorial}\")"
      ],
      "metadata": {
        "id": "Xw4-S-k4_s7x",
        "colab": {
          "base_uri": "https://localhost:8080/"
        },
        "outputId": "d7c6ddfd-c9cf-47ff-9834-8cdd4619f19b"
      },
      "execution_count": null,
      "outputs": [
        {
          "output_type": "stream",
          "name": "stdout",
          "text": [
            "Digite um número para calcular o fatorial: 7\n",
            "7! = 7 x 6 x 5 x 4 x 3 x 2 x 1 = 5040\n"
          ]
        }
      ]
    },
    {
      "cell_type": "markdown",
      "source": [
        "Exercício 19"
      ],
      "metadata": {
        "id": "Lw79G6SV_tbJ"
      }
    },
    {
      "cell_type": "code",
      "source": [
        "frase = input(\"Informe uma frase sem os seus acentos: \")\n",
        "letra = input(\"Agora informe uma letra que apareca algumas vezes na frase: \")\n",
        "contador = 0\n",
        "\n",
        "for l in frase:\n",
        "  if l == letra:\n",
        "    contador += 1\n",
        "print(f\"Existem {contador} {letra}'s dentro dessa frase\")"
      ],
      "metadata": {
        "id": "sVWUw6Ga_t6x",
        "colab": {
          "base_uri": "https://localhost:8080/"
        },
        "outputId": "06598951-65d4-467a-a1d4-f0e45491062f"
      },
      "execution_count": null,
      "outputs": [
        {
          "output_type": "stream",
          "name": "stdout",
          "text": [
            "Informe uma frase sem os seus acentos: Pneumoultramicroscopicossilicovulcanoconiotico\n",
            "Agora informe uma letra que apareca algumas vezes na frase: o\n",
            "Existem 9 o's dentro dessa frase\n"
          ]
        }
      ]
    }
  ]
}