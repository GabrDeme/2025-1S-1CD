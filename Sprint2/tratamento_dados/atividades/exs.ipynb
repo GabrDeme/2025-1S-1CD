{
 "cells": [
  {
   "cell_type": "code",
   "execution_count": null,
   "metadata": {},
   "outputs": [],
   "source": [
    "import pandas as pd"
   ]
  },
  {
   "cell_type": "code",
   "execution_count": 11,
   "metadata": {},
   "outputs": [
    {
     "name": "stdout",
     "output_type": "stream",
     "text": [
      "    Nome  Idade          Cidade  Salário\n",
      "0   João   28.0       São Paulo   3500.0\n",
      "1  Maria    NaN  Rio de Janeiro   4500.0\n",
      "2   José   35.0             NaN      NaN\n",
      "3    Ana   22.0        Salvador   5000.0\n",
      "4  Pedro    NaN    Porto Alegre   4800.0\n"
     ]
    }
   ],
   "source": [
    "# Carregar um arquivo e exibir as primeiras 5 linhas.\n",
    "\n",
    "data = pd.read_excel('exercicios.xlsx')\n",
    "print(data.head())"
   ]
  },
  {
   "cell_type": "code",
   "execution_count": 12,
   "metadata": {},
   "outputs": [
    {
     "name": "stdout",
     "output_type": "stream",
     "text": [
      "    Nome  Idade  Cidade  Salário\n",
      "0  False  False   False    False\n",
      "1  False   True   False    False\n",
      "2  False  False    True     True\n",
      "3  False  False   False    False\n",
      "4  False   True   False    False\n",
      "5  False  False   False    False\n",
      "6  False  False   False    False\n",
      "7  False  False   False    False\n"
     ]
    }
   ],
   "source": [
    "# Verificar se há valores NaN nas colunas do DataFrame.\n",
    "\n",
    "print(df.isnull())"
   ]
  },
  {
   "cell_type": "code",
   "execution_count": 15,
   "metadata": {},
   "outputs": [
    {
     "name": "stdout",
     "output_type": "stream",
     "text": [
      "      Nome  Idade          Cidade  Salário\n",
      "0     João   28.0       São Paulo   3500.0\n",
      "1    Maria    NaN  Rio de Janeiro   4500.0\n",
      "2     José   35.0             NaN      0.0\n",
      "3      Ana   22.0        Salvador   5000.0\n",
      "4    Pedro    NaN    Porto Alegre   4800.0\n",
      "5      Ana   22.0        Salvador   5000.0\n",
      "6  Jessica   20.0       São Paulo   3410.0\n",
      "7   Carlos   35.0    Porto Alegre   2500.0\n"
     ]
    },
    {
     "name": "stderr",
     "output_type": "stream",
     "text": [
      "C:\\Users\\53144094889\\AppData\\Local\\Temp\\ipykernel_36728\\1885995575.py:3: FutureWarning: A value is trying to be set on a copy of a DataFrame or Series through chained assignment using an inplace method.\n",
      "The behavior will change in pandas 3.0. This inplace method will never work because the intermediate object on which we are setting values always behaves as a copy.\n",
      "\n",
      "For example, when doing 'df[col].method(value, inplace=True)', try using 'df.method({col: value}, inplace=True)' or df[col] = df[col].method(value) instead, to perform the operation inplace on the original object.\n",
      "\n",
      "\n",
      "  df['Salário'].fillna(0, inplace=True)\n"
     ]
    }
   ],
   "source": [
    "# Substituir os valores NaN de uma coluna por 0.\n",
    "\n",
    "df['Salário'].fillna(0, inplace=True)\n",
    "print(df)"
   ]
  },
  {
   "cell_type": "code",
   "execution_count": 16,
   "metadata": {},
   "outputs": [
    {
     "name": "stdout",
     "output_type": "stream",
     "text": [
      "      Nome  Idade          Cidade  Salário\n",
      "0     João   28.0       São Paulo   3500.0\n",
      "1    Maria   27.0  Rio de Janeiro   4500.0\n",
      "2     José   35.0             NaN      0.0\n",
      "3      Ana   22.0        Salvador   5000.0\n",
      "4    Pedro   27.0    Porto Alegre   4800.0\n",
      "5      Ana   22.0        Salvador   5000.0\n",
      "6  Jessica   20.0       São Paulo   3410.0\n",
      "7   Carlos   35.0    Porto Alegre   2500.0\n"
     ]
    },
    {
     "name": "stderr",
     "output_type": "stream",
     "text": [
      "C:\\Users\\53144094889\\AppData\\Local\\Temp\\ipykernel_36728\\2003790309.py:4: FutureWarning: A value is trying to be set on a copy of a DataFrame or Series through chained assignment using an inplace method.\n",
      "The behavior will change in pandas 3.0. This inplace method will never work because the intermediate object on which we are setting values always behaves as a copy.\n",
      "\n",
      "For example, when doing 'df[col].method(value, inplace=True)', try using 'df.method({col: value}, inplace=True)' or df[col] = df[col].method(value) instead, to perform the operation inplace on the original object.\n",
      "\n",
      "\n",
      "  df['Idade'].fillna(df['Idade'].mean(), inplace=True)\n"
     ]
    }
   ],
   "source": [
    "# Substituir os valores NaN de uma coluna por um valor específico\n",
    "#  (por exemplo, a média).\n",
    "\n",
    "df['Idade'].fillna(df['Idade'].mean(), inplace=True)\n",
    "print(df)"
   ]
  },
  {
   "cell_type": "code",
   "execution_count": null,
   "metadata": {},
   "outputs": [],
   "source": [
    "# Remover todas as linhas que contêm valores NaN em qualquer coluna.\n",
    "\n",
    "data = data.dropna()"
   ]
  },
  {
   "cell_type": "code",
   "execution_count": null,
   "metadata": {},
   "outputs": [],
   "source": [
    "# Remover todas as linhas que contêm valores NaN em uma coluna específica.\n",
    "\n",
    "data = data.dropna(subset=['coluna'])"
   ]
  },
  {
   "cell_type": "code",
   "execution_count": null,
   "metadata": {},
   "outputs": [],
   "source": [
    "# Substituir valores NaN de uma coluna com a mediana dessa coluna.\n",
    "\n",
    "data['coluna'] = data['coluna'].fillna(data['coluna'].median())"
   ]
  },
  {
   "cell_type": "code",
   "execution_count": null,
   "metadata": {},
   "outputs": [],
   "source": [
    "# Substituir valores NaN de uma coluna com o valor de uma outra coluna.\n",
    "\n",
    "data['coluna1'] = data['coluna1'].fillna(data['coluna2'])"
   ]
  },
  {
   "cell_type": "code",
   "execution_count": null,
   "metadata": {},
   "outputs": [],
   "source": [
    "# Preencher valores NaN com o valor anterior (método de \"forwardfill\").\n",
    "\n",
    "data['coluna'] = data['coluna'].fillna(method='ffill')"
   ]
  },
  {
   "cell_type": "code",
   "execution_count": null,
   "metadata": {},
   "outputs": [],
   "source": [
    "# Exercício: Preencher valores NaN com o valor posterior (método de\n",
    "# \"backward fill\").\n",
    "\n",
    "data['coluna'] = data['coluna'].fillna(method='bfill')"
   ]
  },
  {
   "cell_type": "code",
   "execution_count": null,
   "metadata": {},
   "outputs": [],
   "source": [
    "# Alterar todos os valores de uma coluna para maiúsculas.\n",
    "\n",
    "data['coluna'] = data['coluna'].str.upper()"
   ]
  },
  {
   "cell_type": "code",
   "execution_count": null,
   "metadata": {},
   "outputs": [],
   "source": [
    "# Alterar todos os valores de uma coluna para minúsculas.\n",
    "\n",
    "data['coluna'] = data['coluna'].str.lower()"
   ]
  },
  {
   "cell_type": "code",
   "execution_count": null,
   "metadata": {},
   "outputs": [],
   "source": [
    "# Remover espaços em branco à esquerda e à direita em uma coluna.\n",
    "\n",
    "data['coluna'] = data['coluna'].str.strip()"
   ]
  },
  {
   "cell_type": "code",
   "execution_count": null,
   "metadata": {},
   "outputs": [],
   "source": [
    "# Substituir valores de uma coluna com base em um dicionário de\n",
    "# mapeamento (ex: \"São Paulo\" para \"SP\").\n",
    "\n",
    "mapeamento = {'São Paulo': 'SP', 'Rio de Janeiro': 'RJ'}\n",
    "data['coluna'] = data['coluna'].replace(mapeamento)"
   ]
  },
  {
   "cell_type": "code",
   "execution_count": null,
   "metadata": {},
   "outputs": [],
   "source": [
    "# Identificar e remover valores duplicados de um DataFrame.\n",
    "\n",
    "data = data.drop_duplicates()"
   ]
  }
 ],
 "metadata": {
  "kernelspec": {
   "display_name": "Python 3",
   "language": "python",
   "name": "python3"
  },
  "language_info": {
   "codemirror_mode": {
    "name": "ipython",
    "version": 3
   },
   "file_extension": ".py",
   "mimetype": "text/x-python",
   "name": "python",
   "nbconvert_exporter": "python",
   "pygments_lexer": "ipython3",
   "version": "3.12.1"
  }
 },
 "nbformat": 4,
 "nbformat_minor": 2
}
