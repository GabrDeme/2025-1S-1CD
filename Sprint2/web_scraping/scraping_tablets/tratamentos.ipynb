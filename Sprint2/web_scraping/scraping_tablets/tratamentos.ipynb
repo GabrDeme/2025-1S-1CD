{
 "cells": [
  {
   "cell_type": "code",
   "execution_count": null,
   "metadata": {},
   "outputs": [],
   "source": [
    "import pandas as pd\n",
    "\n",
    "df = pd.read_excel('tablets.xlsx')"
   ]
  },
  {
   "cell_type": "markdown",
   "metadata": {},
   "source": [
    "## Filtro"
   ]
  },
  {
   "cell_type": "code",
   "execution_count": null,
   "metadata": {},
   "outputs": [],
   "source": [
    "palavras_indesejadas = [\"capa\", \"mesa\", \"conector\", \"conversor\", \"película\", \"pelicula\", \"teclado\", \"suporte\", \"carregador\", \"ponta fina\", \"kit completo\", \"dock\", \"case\", \"proteção\", \"protetor\", \"adaptador\", \"caneta\", \"lousa\", \"celular\", \"iphone\", \"notebook\", \"mouse\", \"capinha\", \"\" \"keyboard\", \"pencil\", \"pen\", \"joystick\"]\n",
    "\n",
    "df[\"item_lower\"] = df[\"item\"].str.lower()\n",
    "\n",
    "# Cria um filtro para manter apenas os produtos que NÃO contêm palavras indesejadas\n",
    "filtro = ~df[\"item_lower\"].str.contains(\"|\".join(palavras_indesejadas))\n",
    "\n",
    "# Aplica o filtro\n",
    "df_filtrado = df[filtro].drop(columns=[\"item_lower\"])  # remove a coluna auxiliar\n",
    "\n",
    "# Salva apenas os produtos filtrados\n",
    "df_filtrado.to_excel(\"tablets_limpo.xlsx\", index=False)\n",
    "\n",
    "print(f\"Arquivo 'tablets.xlsx' salvo com sucesso! {len(df_filtrado)} produtos finais.\")"
   ]
  },
  {
   "cell_type": "markdown",
   "metadata": {},
   "source": [
    "## Marca"
   ]
  },
  {
   "cell_type": "code",
   "execution_count": 74,
   "metadata": {},
   "outputs": [
    {
     "name": "stdout",
     "output_type": "stream",
     "text": [
      "                                                  item        preco    marca\n",
      "0    Tablet Samsung A9 EE, 64GB, 4G, WiFi, Tela de ...    R$ 999,00  Samsung\n",
      "1    Tablet Samsung Galaxy Tab A9+, 64GB, 5G, Wi-Fi...  R$ 1.349,10  Samsung\n",
      "2    Kindle Amazon Modelo 2024 6\", 16GB, Tela Antir...    R$ 589,00   Amazon\n",
      "3    Tablet Samsung Galaxy Tab A9+, 64GB, 4GB RAM, ...  R$ 1.179,00  Samsung\n",
      "4    Tablet Samsung Galaxy Tab S9 Fe+ 128GB, Proces...  R$ 3.968,06  Samsung\n",
      "..                                                 ...          ...      ...\n",
      "282  Tablet Multi Peppa Pig Nb420 Quad-core, 64GB, ...    R$ 559,99    Multi\n",
      "283  Kindle 16gb Modelo2024, Tela Antirreflexo, Tro...    R$ 580,38   Kindle\n",
      "284  Tablet 8\" Kross Aric 32gb Wi-fi Preto Ke-tb815...    R$ 799,00    Kross\n",
      "285  Apple Ipad Air 5 Mme63ll/a 256gb / Tela 10.9\" ...  R$ 7.781,27    Apple\n",
      "286  Apple Ipad Air 5 Mm9d3ll/a 64gb / Tela 10.9\" -...  R$ 6.932,21    Apple\n",
      "\n",
      "[287 rows x 3 columns]\n"
     ]
    }
   ],
   "source": [
    "df = pd.read_excel('tablets_limpo.xlsx')\n",
    "\n",
    "marcas = [\"Samsung\", \"Samsun\", \"Apple\", \"Microsoft\", \"Lenovo\", \"Xiaomi\", \"Amazon\", \"Kindle\", \"Positivo\", \"Dell\", \"Intel\", \"Qualcomm\", \"Kross\", \"Multi\", \"TCL\", \"Zebra\", \"Redmi\", \"Ipad\", \"Galaxy\", \"P0c0\"]\n",
    "\n",
    "df[\"marca\"] = None\n",
    "\n",
    "for i, item in enumerate(df[\"item\"]):\n",
    "    for marca in marcas:\n",
    "        if marca.lower() in item.lower():\n",
    "            df.at[i, \"marca\"] = marca\n",
    "            break\n",
    "\n",
    "print(df)"
   ]
  },
  {
   "cell_type": "code",
   "execution_count": 75,
   "metadata": {},
   "outputs": [
    {
     "name": "stdout",
     "output_type": "stream",
     "text": [
      "0      Samsung\n",
      "1      Samsung\n",
      "2       Amazon\n",
      "3      Samsung\n",
      "4      Samsung\n",
      "        ...   \n",
      "282      Multi\n",
      "283     Kindle\n",
      "284      Kross\n",
      "285      Apple\n",
      "286      Apple\n",
      "Name: marca, Length: 287, dtype: object\n"
     ]
    }
   ],
   "source": [
    "df['marca'].str.capitalize().replace({'Samsun': 'Samsung', 'Kindle': 'Amazon', 'Ipad': 'Apple', 'Redmi': 'Xiomi', 'Galaxy': 'Samsung', 'P0c0': 'Xiomi', None: \"Não Infomado\"})\n",
    "print(df[\"marca\"])"
   ]
  },
  {
   "cell_type": "markdown",
   "metadata": {},
   "source": [
    "## Cor"
   ]
  },
  {
   "cell_type": "code",
   "execution_count": 76,
   "metadata": {},
   "outputs": [
    {
     "name": "stdout",
     "output_type": "stream",
     "text": [
      "                                                  item        preco    marca  \\\n",
      "0    Tablet Samsung A9 EE, 64GB, 4G, WiFi, Tela de ...    R$ 999,00  Samsung   \n",
      "1    Tablet Samsung Galaxy Tab A9+, 64GB, 5G, Wi-Fi...  R$ 1.349,10  Samsung   \n",
      "2    Kindle Amazon Modelo 2024 6\", 16GB, Tela Antir...    R$ 589,00   Amazon   \n",
      "3    Tablet Samsung Galaxy Tab A9+, 64GB, 4GB RAM, ...  R$ 1.179,00  Samsung   \n",
      "4    Tablet Samsung Galaxy Tab S9 Fe+ 128GB, Proces...  R$ 3.968,06  Samsung   \n",
      "..                                                 ...          ...      ...   \n",
      "282  Tablet Multi Peppa Pig Nb420 Quad-core, 64GB, ...    R$ 559,99    Multi   \n",
      "283  Kindle 16gb Modelo2024, Tela Antirreflexo, Tro...    R$ 580,38   Kindle   \n",
      "284  Tablet 8\" Kross Aric 32gb Wi-fi Preto Ke-tb815...    R$ 799,00    Kross   \n",
      "285  Apple Ipad Air 5 Mme63ll/a 256gb / Tela 10.9\" ...  R$ 7.781,27    Apple   \n",
      "286  Apple Ipad Air 5 Mm9d3ll/a 64gb / Tela 10.9\" -...  R$ 6.932,21    Apple   \n",
      "\n",
      "       cor  \n",
      "0     None  \n",
      "1     None  \n",
      "2    Preta  \n",
      "3     None  \n",
      "4    Cinza  \n",
      "..     ...  \n",
      "282  Verde  \n",
      "283  Preto  \n",
      "284  Preto  \n",
      "285   None  \n",
      "286   Rosa  \n",
      "\n",
      "[287 rows x 4 columns]\n"
     ]
    }
   ],
   "source": [
    "cores = {\n",
    "    \"Amarela\", \"Azul\", \"Bege\", \"Branca\", \"Branco\", \"Café\", \"Cinza\", \"Geada\", \"Laranja\", \"Marrom\", \"Preta\", \"Preto\", \"Prata\", \"Rosa\", \"Roxo\", \"Uva\", \"Verde\", \"Vermelha\", \"Vermelho\",\n",
    "    \"Black\", \"Blue\", \"Cyan\", \"Navy Blue\", \"Off White\", \"Orange\", \"Pink\", \"Red\", \"White\", \"Yellow\"\n",
    "}\n",
    "\n",
    "df['cor'] = None\n",
    "\n",
    "for i, item in enumerate(df[\"item\"]):\n",
    "    for cor in cores:\n",
    "        if cor.lower() in item.lower():\n",
    "            df.at[i, \"cor\"] = cor\n",
    "            break\n",
    "\n",
    "print(df)"
   ]
  },
  {
   "cell_type": "code",
   "execution_count": 77,
   "metadata": {},
   "outputs": [
    {
     "data": {
      "text/plain": [
       "0      Não Infomado\n",
       "1      Não Infomado\n",
       "2             Preta\n",
       "3      Não Infomado\n",
       "4             Cinza\n",
       "           ...     \n",
       "282           Verde\n",
       "283           Preto\n",
       "284           Preto\n",
       "285    Não Infomado\n",
       "286            Rosa\n",
       "Name: cor, Length: 287, dtype: object"
      ]
     },
     "execution_count": 77,
     "metadata": {},
     "output_type": "execute_result"
    }
   ],
   "source": [
    "df['cor'].str.capitalize().replace({ \"Black\": \"Preto\", \"Blue\": \"Azul\", \"Cyan\": \"Ciano\", \"Navy Blue\": \"Azul marinho\", \"Off White\": \"Branco gelo\", \"Orange\": \"Laranja\", \"Pink\": \"Rosa\", \"Red\": \"Vermelho\", \"White\": \"Branco\", \"Yellow\": \"Amarelo\", None: \"Não Infomado\"\n",
    "})"
   ]
  },
  {
   "cell_type": "markdown",
   "metadata": {},
   "source": [
    "## Polegadas"
   ]
  },
  {
   "cell_type": "code",
   "execution_count": 78,
   "metadata": {},
   "outputs": [
    {
     "name": "stdout",
     "output_type": "stream",
     "text": [
      "                                                  item        preco    marca  \\\n",
      "0    Tablet Samsung A9 EE, 64GB, 4G, WiFi, Tela de ...    R$ 999,00  Samsung   \n",
      "1    Tablet Samsung Galaxy Tab A9+, 64GB, 5G, Wi-Fi...  R$ 1.349,10  Samsung   \n",
      "2    Kindle Amazon Modelo 2024 6\", 16GB, Tela Antir...    R$ 589,00   Amazon   \n",
      "3    Tablet Samsung Galaxy Tab A9+, 64GB, 4GB RAM, ...  R$ 1.179,00  Samsung   \n",
      "4    Tablet Samsung Galaxy Tab S9 Fe+ 128GB, Proces...  R$ 3.968,06  Samsung   \n",
      "..                                                 ...          ...      ...   \n",
      "282  Tablet Multi Peppa Pig Nb420 Quad-core, 64GB, ...    R$ 559,99    Multi   \n",
      "283  Kindle 16gb Modelo2024, Tela Antirreflexo, Tro...    R$ 580,38   Kindle   \n",
      "284  Tablet 8\" Kross Aric 32gb Wi-fi Preto Ke-tb815...    R$ 799,00    Kross   \n",
      "285  Apple Ipad Air 5 Mme63ll/a 256gb / Tela 10.9\" ...  R$ 7.781,27    Apple   \n",
      "286  Apple Ipad Air 5 Mm9d3ll/a 64gb / Tela 10.9\" -...  R$ 6.932,21    Apple   \n",
      "\n",
      "       cor    polegadas  \n",
      "0     None           7\"  \n",
      "1     None          11\"  \n",
      "2    Preta           6\"  \n",
      "3     None          11\"  \n",
      "4    Cinza        12.4\"  \n",
      "..     ...          ...  \n",
      "282  Verde  7 polegadas  \n",
      "283  Preto         None  \n",
      "284  Preto         None  \n",
      "285   None           9\"  \n",
      "286   Rosa           9\"  \n",
      "\n",
      "[287 rows x 5 columns]\n"
     ]
    }
   ],
   "source": [
    "polegadas_ = [\n",
    "    '6\"', '6.8\"', '7\"', '7.0\"', '7.9\"', '8.0\"', '8.3\"', '8.4\"', '8.7\"', '8.9\"',\n",
    "    '9\"', '9.0\"', '9.7\"',\n",
    "    '10\"', '10.0\"', '10.1\"', '10.2\"', '10.3\"', '10.4\"', '10.5\"', '10.6\"', '10.61\"', '10.8\"', '10.9\"',\n",
    "    '11\"', '11.0\"', '11.2\"', '11.5\"', '11.6\"',\n",
    "    '12\"', '12.0\"', '12.3\"', '12.4\"', '12.6\"', '12.9\"',\n",
    "    '13\"', '13.0\"', '13.3\"',\n",
    "    '6,8\"', '7,0\"', '7,9\"', '8,0\"', '8,3\"', '8,4\"', '8,7\"', '8,9\"',\n",
    "    '9,0\"', '9,7\"',\n",
    "    '10,0\"', '10,1\"', '10,2\"', '10,3\"', '10,4\"', '10,5\"', '10,6\"', '10,8\"', '10,9\"',\n",
    "    '11,0\"', '11,2\"', '11,5\"', '11,6\"',\n",
    "    '12,0\"', '12,3\"', '12,4\"', '12,6\"', '12,9\"',\n",
    "    '13,0\"', '13,3\"',\n",
    "    '6 polegadas', '6.0 polegadas', '6.8 polegadas', '7 polegadas', '7.0 polegadas', '7.9 polegadas', '8 polegadas', '8.0 polegadas', '8.3 polegadas', '8.4 polegadas', '8.7 polegadas', '8.9 polegadas',\n",
    "    '9 polegadas','9.0 polegadas', '9.7 polegadas',\n",
    "    '10 polegadas', '10.0 polegadas', '10.1 polegadas', '10.2 polegadas', '10.3 polegadas', '10.4 polegadas', '10.5 polegadas', '10.6 polegadas', '10.8 polegadas', '10.9 polegadas',\n",
    "    '11 polegadas', '11.0 polegadas', '11.2 polegadas', '11.5 polegadas', '11.6 polegadas',\n",
    "    '12 polegadas', '12.0 polegadas', '12.3 polegadas', '12.4 polegadas', '12.6 polegadas', '12.9 polegadas',\n",
    "    '13 polegadas', '13.0 polegadas', '13.3 polegadas'\n",
    "]\n",
    "\n",
    "df['polegadas'] = None\n",
    "\n",
    "for i, item in enumerate(df[\"item\"]):\n",
    "    for polegadas in polegadas_:\n",
    "        if polegadas.lower() in item.lower():\n",
    "            df.at[i, \"polegadas\"] = polegadas\n",
    "            break\n",
    "\n",
    "print(df)"
   ]
  },
  {
   "cell_type": "code",
   "execution_count": 79,
   "metadata": {},
   "outputs": [],
   "source": [
    "df['polegadas'] = df['polegadas'].str.capitalize().replace({\n",
    "    '7 polegadas': '7\"', '8 polegadas': '8\"', '10.9 polegadas': '10.9\"',\n",
    "    '6,8\"': '6.8\"', '7,0\"': '7.0\"', '7,9\"': '7.9\"', '8,0\"': '8.0\"', \n",
    "    '8,3\"': '8.3\"', '8,4\"': '8.4\"', '8,7\"': '8.7\"', '8,9\"': '8.9\"',\n",
    "    '9,0\"': '9.0\"', '9,7\"': '9.7\"', '10,0\"': '10.0\"', '10,1\"': '10.1\"',\n",
    "    '10,2\"': '10.2\"', '10,3\"': '10.3\"', '10,4\"': '10.4\"', '10,5\"': '10.5\"',\n",
    "    '10,6\"': '10.6\"', '10,8\"': '10.8\"', '10,9\"': '10.9\"', '11,0\"': '11.0\"',\n",
    "    '11,2\"': '11.2\"', '11,5\"': '11.5\"', '11,6\"': '11.6\"',\n",
    "    '12,0\"': '12.0\"', '12,3\"': '12.3\"', '12,4\"': '12.4\"', '12,6\"': '12.6\"',\n",
    "    '12,9\"': '12.9\"', '13,0\"': '13.0\"', '13,3\"': '13.3\"', '10.61\"': '10.6\"', None: \"Não Infomado\"\n",
    "})\n"
   ]
  },
  {
   "cell_type": "markdown",
   "metadata": {},
   "source": [
    "## Armazenamento"
   ]
  },
  {
   "cell_type": "code",
   "execution_count": 80,
   "metadata": {},
   "outputs": [
    {
     "name": "stdout",
     "output_type": "stream",
     "text": [
      "                                                  item        preco    marca  \\\n",
      "0    Tablet Samsung A9 EE, 64GB, 4G, WiFi, Tela de ...    R$ 999,00  Samsung   \n",
      "1    Tablet Samsung Galaxy Tab A9+, 64GB, 5G, Wi-Fi...  R$ 1.349,10  Samsung   \n",
      "2    Kindle Amazon Modelo 2024 6\", 16GB, Tela Antir...    R$ 589,00   Amazon   \n",
      "3    Tablet Samsung Galaxy Tab A9+, 64GB, 4GB RAM, ...  R$ 1.179,00  Samsung   \n",
      "4    Tablet Samsung Galaxy Tab S9 Fe+ 128GB, Proces...  R$ 3.968,06  Samsung   \n",
      "..                                                 ...          ...      ...   \n",
      "282  Tablet Multi Peppa Pig Nb420 Quad-core, 64GB, ...    R$ 559,99    Multi   \n",
      "283  Kindle 16gb Modelo2024, Tela Antirreflexo, Tro...    R$ 580,38   Kindle   \n",
      "284  Tablet 8\" Kross Aric 32gb Wi-fi Preto Ke-tb815...    R$ 799,00    Kross   \n",
      "285  Apple Ipad Air 5 Mme63ll/a 256gb / Tela 10.9\" ...  R$ 7.781,27    Apple   \n",
      "286  Apple Ipad Air 5 Mm9d3ll/a 64gb / Tela 10.9\" -...  R$ 6.932,21    Apple   \n",
      "\n",
      "       cor     polegadas armazenamento  \n",
      "0     None            7\"          64GB  \n",
      "1     None           11\"          64GB  \n",
      "2    Preta            6\"          16GB  \n",
      "3     None           11\"          64GB  \n",
      "4    Cinza         12.4\"         128GB  \n",
      "..     ...           ...           ...  \n",
      "282  Verde            7\"          64GB  \n",
      "283  Preto  Não Infomado          16GB  \n",
      "284  Preto  Não Infomado          32GB  \n",
      "285   None            9\"         256GB  \n",
      "286   Rosa            9\"          64GB  \n",
      "\n",
      "[287 rows x 6 columns]\n"
     ]
    }
   ],
   "source": [
    "giga = [\n",
    "    '3TB', '2TB', '1TB', '512GB', '256GB', '128GB', \n",
    "    '64GB', '32GB', '16GB', '12GB', '8GB', '6GB', '4GB',\n",
    "    '3 TB', '2 TB', '1 TB', '512 GB', '256 GB', '128 GB', \n",
    "    '64 GB', '32 GB', '16 GB', '12 GB', '8 GB', '6 GB', '4 GB'\n",
    "]\n",
    "\n",
    "df['armazenamento'] = None\n",
    "\n",
    "for i, item in enumerate(df[\"item\"]):\n",
    "    for armazenamento in giga:\n",
    "        if armazenamento.lower() in item.lower():\n",
    "            df.at[i, \"armazenamento\"] = armazenamento\n",
    "            break\n",
    "\n",
    "print(df)"
   ]
  },
  {
   "cell_type": "code",
   "execution_count": 81,
   "metadata": {},
   "outputs": [
    {
     "data": {
      "text/plain": [
       "0       64GB\n",
       "1       64GB\n",
       "2       16GB\n",
       "3       64GB\n",
       "4      128GB\n",
       "       ...  \n",
       "282     64GB\n",
       "283     16GB\n",
       "284     32GB\n",
       "285    256GB\n",
       "286     64GB\n",
       "Name: armazenamento, Length: 287, dtype: object"
      ]
     },
     "execution_count": 81,
     "metadata": {},
     "output_type": "execute_result"
    }
   ],
   "source": [
    "df['armazenamento'].str.upper().replace({ '3 TB': '3TB', '2 TB': '2TB', '1 TB': '1TB', '512 GB': '512GB', '256 GB': '256GB', '128 GB': '128GB', \n",
    "    '64 GB': '64GB', '32 GB': '32GB', '16 GB': '16GB', '12 GB': '12GB', '8 GB': '8GB', '6 GB': '6GB', '4 GB': '4GB', None: \"Não Infomado\"})"
   ]
  },
  {
   "cell_type": "markdown",
   "metadata": {},
   "source": [
    "## RAM"
   ]
  },
  {
   "cell_type": "code",
   "execution_count": 82,
   "metadata": {},
   "outputs": [
    {
     "name": "stdout",
     "output_type": "stream",
     "text": [
      "                                                  item        preco    marca  \\\n",
      "0    Tablet Samsung A9 EE, 64GB, 4G, WiFi, Tela de ...    R$ 999,00  Samsung   \n",
      "1    Tablet Samsung Galaxy Tab A9+, 64GB, 5G, Wi-Fi...  R$ 1.349,10  Samsung   \n",
      "2    Kindle Amazon Modelo 2024 6\", 16GB, Tela Antir...    R$ 589,00   Amazon   \n",
      "3    Tablet Samsung Galaxy Tab A9+, 64GB, 4GB RAM, ...  R$ 1.179,00  Samsung   \n",
      "4    Tablet Samsung Galaxy Tab S9 Fe+ 128GB, Proces...  R$ 3.968,06  Samsung   \n",
      "..                                                 ...          ...      ...   \n",
      "282  Tablet Multi Peppa Pig Nb420 Quad-core, 64GB, ...    R$ 559,99    Multi   \n",
      "283  Kindle 16gb Modelo2024, Tela Antirreflexo, Tro...    R$ 580,38   Kindle   \n",
      "284  Tablet 8\" Kross Aric 32gb Wi-fi Preto Ke-tb815...    R$ 799,00    Kross   \n",
      "285  Apple Ipad Air 5 Mme63ll/a 256gb / Tela 10.9\" ...  R$ 7.781,27    Apple   \n",
      "286  Apple Ipad Air 5 Mm9d3ll/a 64gb / Tela 10.9\" -...  R$ 6.932,21    Apple   \n",
      "\n",
      "       cor     polegadas armazenamento      ram  \n",
      "0     None            7\"          64GB     None  \n",
      "1     None           11\"          64GB  4GB RAM  \n",
      "2    Preta            6\"          16GB     None  \n",
      "3     None           11\"          64GB  4GB RAM  \n",
      "4    Cinza         12.4\"         128GB     None  \n",
      "..     ...           ...           ...      ...  \n",
      "282  Verde            7\"          64GB  4GB RAM  \n",
      "283  Preto  Não Infomado          16GB     None  \n",
      "284  Preto  Não Infomado          32GB     None  \n",
      "285   None            9\"         256GB     None  \n",
      "286   Rosa            9\"          64GB     None  \n",
      "\n",
      "[287 rows x 7 columns]\n"
     ]
    }
   ],
   "source": [
    "ram_ = [\n",
    "    '32GB RAM', '16GB RAM', '12GB RAM', '8GB RAM', '6GB RAM', '4GB RAM',\n",
    "    '32 GB RAM', '16 GB RAM', '12 GB RAM', '8 GB RAM', '6 GB RAM', '4 GB RAM'\n",
    "]\n",
    "\n",
    "df['ram'] = None\n",
    "\n",
    "for i, item in enumerate(df[\"item\"]):\n",
    "    for ram in ram_:\n",
    "        if ram.lower() in item.lower():\n",
    "            df.at[i, \"ram\"] = ram\n",
    "            break\n",
    "\n",
    "print(df)"
   ]
  },
  {
   "cell_type": "code",
   "execution_count": 83,
   "metadata": {},
   "outputs": [
    {
     "data": {
      "text/plain": [
       "0      Não Infomado\n",
       "1           4GB RAM\n",
       "2      Não Infomado\n",
       "3           4GB RAM\n",
       "4      Não Infomado\n",
       "           ...     \n",
       "282         4GB RAM\n",
       "283    Não Infomado\n",
       "284    Não Infomado\n",
       "285    Não Infomado\n",
       "286    Não Infomado\n",
       "Name: ram, Length: 287, dtype: object"
      ]
     },
     "execution_count": 83,
     "metadata": {},
     "output_type": "execute_result"
    }
   ],
   "source": [
    "df['ram'].str.upper().replace({ '32 GB RAM': '32GB RAM', '16 GB RAM': '16GB RAM', '12 GB RAM': '12GB RAM', '8 GB RAM': '8GB RAM', '6 GB RAM': '6GB RAM', '4 GB RAM': '4GB RAM', None: \"Não Infomado\"})"
   ]
  },
  {
   "cell_type": "code",
   "execution_count": 84,
   "metadata": {},
   "outputs": [],
   "source": [
    "df.to_excel('tratado.xlsx', index=False)"
   ]
  }
 ],
 "metadata": {
  "kernelspec": {
   "display_name": "Python 3",
   "language": "python",
   "name": "python3"
  },
  "language_info": {
   "codemirror_mode": {
    "name": "ipython",
    "version": 3
   },
   "file_extension": ".py",
   "mimetype": "text/x-python",
   "name": "python",
   "nbconvert_exporter": "python",
   "pygments_lexer": "ipython3",
   "version": "3.12.1"
  }
 },
 "nbformat": 4,
 "nbformat_minor": 2
}
