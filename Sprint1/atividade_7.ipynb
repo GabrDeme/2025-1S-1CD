{
  "cells": [
    {
      "cell_type": "markdown",
      "metadata": {
        "id": "AdAA2hy6cgbh"
      },
      "source": [
        "Exercício 1"
      ]
    },
    {
      "cell_type": "code",
      "execution_count": null,
      "metadata": {
        "colab": {
          "base_uri": "https://localhost:8080/"
        },
        "id": "evmGAr9scYOy",
        "outputId": "d0314e1d-3948-40f3-eb33-d69c1e50dae3"
      },
      "outputs": [
        {
          "name": "stdout",
          "output_type": "stream",
          "text": [
            "Olá, Mundo!\n",
            "Olá, Mundo!\n",
            "Olá, Mundo!\n",
            "Olá, Mundo!\n",
            "Olá, Mundo!\n"
          ]
        }
      ],
      "source": [
        "for m in range(0,5):\n",
        "  print(\"Olá, Mundo!\")"
      ]
    },
    {
      "cell_type": "markdown",
      "metadata": {
        "id": "aQaYuCyjdYpO"
      },
      "source": [
        "Exercício 2"
      ]
    },
    {
      "cell_type": "code",
      "execution_count": null,
      "metadata": {
        "colab": {
          "base_uri": "https://localhost:8080/"
        },
        "id": "HswjKEMNdX2S",
        "outputId": "98f9de9d-c799-4739-f1a5-5fce3e09b2c8"
      },
      "outputs": [
        {
          "name": "stdout",
          "output_type": "stream",
          "text": [
            "1\n",
            "2\n",
            "3\n",
            "4\n",
            "5\n",
            "6\n",
            "7\n",
            "8\n",
            "9\n",
            "10\n",
            "11\n",
            "12\n",
            "13\n",
            "14\n",
            "15\n",
            "16\n",
            "17\n",
            "18\n",
            "19\n",
            "20\n",
            "21\n",
            "22\n",
            "23\n",
            "24\n",
            "25\n",
            "26\n",
            "27\n",
            "28\n",
            "29\n",
            "30\n",
            "31\n",
            "32\n",
            "33\n",
            "34\n",
            "35\n",
            "36\n",
            "37\n",
            "38\n",
            "39\n",
            "40\n",
            "41\n",
            "42\n",
            "43\n",
            "44\n",
            "45\n",
            "46\n",
            "47\n",
            "48\n",
            "49\n",
            "50\n"
          ]
        }
      ],
      "source": [
        "for n in range(1,51):\n",
        "  print(n)"
      ]
    },
    {
      "cell_type": "markdown",
      "metadata": {
        "id": "utQ7_AZ_dafR"
      },
      "source": [
        "Exercício 3"
      ]
    },
    {
      "cell_type": "code",
      "execution_count": null,
      "metadata": {
        "colab": {
          "base_uri": "https://localhost:8080/"
        },
        "id": "TFcbrhizdbd4",
        "outputId": "05affa6b-c556-4f00-cf7a-6b3ba9e30449"
      },
      "outputs": [
        {
          "name": "stdout",
          "output_type": "stream",
          "text": [
            "1\n",
            "3\n",
            "5\n",
            "7\n",
            "9\n",
            "11\n",
            "13\n",
            "15\n",
            "17\n",
            "19\n"
          ]
        }
      ],
      "source": [
        "for i in range(1,20,2):\n",
        "  print(i)"
      ]
    },
    {
      "cell_type": "markdown",
      "metadata": {
        "id": "RxvP6fVidb6f"
      },
      "source": [
        "Exercício 4"
      ]
    },
    {
      "cell_type": "code",
      "execution_count": null,
      "metadata": {
        "colab": {
          "base_uri": "https://localhost:8080/"
        },
        "id": "Kd4Pi9TOddML",
        "outputId": "4c418da6-80c9-49ca-8d34-89cb9f6554bb"
      },
      "outputs": [
        {
          "name": "stdout",
          "output_type": "stream",
          "text": [
            "2\n",
            "4\n",
            "6\n",
            "8\n",
            "10\n"
          ]
        }
      ],
      "source": [
        "lista_generica = [1, 2, 3, 4, 5]\n",
        "\n",
        "for l in lista_generica:\n",
        "  print(l*2)"
      ]
    },
    {
      "cell_type": "markdown",
      "metadata": {
        "id": "JLJ80psYddsg"
      },
      "source": [
        "Exercício 5"
      ]
    },
    {
      "cell_type": "code",
      "execution_count": null,
      "metadata": {
        "colab": {
          "base_uri": "https://localhost:8080/"
        },
        "id": "YcJpdaG-desS",
        "outputId": "0578766b-dbfb-4e1b-c241-043b5139a6e9"
      },
      "outputs": [
        {
          "name": "stdout",
          "output_type": "stream",
          "text": [
            "Digite uma palavra para ser soletrada: abc\n",
            "a\n",
            "b\n",
            "c\n"
          ]
        }
      ],
      "source": [
        "palavra = input(\"Digite uma palavra para ser soletrada: \")\n",
        "\n",
        "for p in palavra:\n",
        "  print(p)"
      ]
    },
    {
      "cell_type": "markdown",
      "metadata": {
        "id": "nO1m7UxXdfKy"
      },
      "source": [
        "Exercício 6"
      ]
    },
    {
      "cell_type": "code",
      "execution_count": null,
      "metadata": {
        "colab": {
          "background_save": true,
          "base_uri": "https://localhost:8080/"
        },
        "id": "B1jdC5ZieJ7K",
        "outputId": "d02c7ca9-04ca-4f66-9f46-6eefd6d8c288"
      },
      "outputs": [
        {
          "name": "stdout",
          "output_type": "stream",
          "text": [
            "10\n",
            "9\n",
            "8\n",
            "7\n",
            "6\n",
            "5\n",
            "4\n",
            "3\n",
            "2\n",
            "1\n"
          ]
        }
      ],
      "source": [
        "for r in range(10, 1, -1):\n",
        "  print(r)"
      ]
    },
    {
      "cell_type": "markdown",
      "metadata": {
        "id": "kG0ijqIXeKbx"
      },
      "source": [
        "Exercício 7"
      ]
    },
    {
      "cell_type": "code",
      "execution_count": 2,
      "metadata": {
        "id": "_Woetm6zeLw_",
        "colab": {
          "base_uri": "https://localhost:8080/"
        },
        "outputId": "be01b767-45a1-4a06-d365-e6fffbbec690"
      },
      "outputs": [
        {
          "output_type": "stream",
          "name": "stdout",
          "text": [
            "1\n",
            "3\n",
            "6\n",
            "10\n",
            "15\n",
            "21\n",
            "28\n",
            "36\n",
            "45\n",
            "55\n"
          ]
        }
      ],
      "source": [
        "soma=0\n",
        "for i in range(1, 11):\n",
        "  soma += i\n",
        "  print(soma)"
      ]
    },
    {
      "cell_type": "markdown",
      "source": [
        "Exercício 8"
      ],
      "metadata": {
        "id": "H3Sbg6WHdEl_"
      }
    },
    {
      "cell_type": "code",
      "source": [
        "numeros = []\n",
        "for i in range(5):\n",
        "  numero = int(input(f\"Digite o {i+1}º número: \"))\n",
        "  numeros.append(numero)\n",
        "print(\"\\nOs números digitados foram:\")\n",
        "for numero in numeros:\n",
        "  print(numero)"
      ],
      "metadata": {
        "colab": {
          "base_uri": "https://localhost:8080/"
        },
        "id": "SOxiErOSc9g2",
        "outputId": "4da485e3-472a-4084-bcf8-4b47fda01c74"
      },
      "execution_count": 5,
      "outputs": [
        {
          "output_type": "stream",
          "name": "stdout",
          "text": [
            "Digite o 1º número: 1\n",
            "Digite o 2º número: 2\n",
            "Digite o 3º número: 3\n",
            "Digite o 4º número: 4\n",
            "Digite o 5º número: 5\n",
            "\n",
            "Os números digitados foram:\n",
            "1\n",
            "2\n",
            "3\n",
            "4\n",
            "5\n"
          ]
        }
      ]
    },
    {
      "cell_type": "markdown",
      "source": [
        "Exercício 9"
      ],
      "metadata": {
        "id": "zpo16aMCdROv"
      }
    },
    {
      "cell_type": "code",
      "source": [
        "for sete in range(1,11):\n",
        "  print(f\"7 x {sete} = {sete*7}\")"
      ],
      "metadata": {
        "colab": {
          "base_uri": "https://localhost:8080/"
        },
        "id": "uBoZRZeXdF9D",
        "outputId": "b1c66cc4-c479-4cc3-c738-0a8d27d127c0"
      },
      "execution_count": 6,
      "outputs": [
        {
          "output_type": "stream",
          "name": "stdout",
          "text": [
            "7 x 1 = 7\n",
            "7 x 2 = 14\n",
            "7 x 3 = 21\n",
            "7 x 4 = 28\n",
            "7 x 5 = 35\n",
            "7 x 6 = 42\n",
            "7 x 7 = 49\n",
            "7 x 8 = 56\n",
            "7 x 9 = 63\n",
            "7 x 10 = 70\n"
          ]
        }
      ]
    }
  ],
  "metadata": {
    "colab": {
      "provenance": []
    },
    "kernelspec": {
      "display_name": "Python 3",
      "name": "python3"
    },
    "language_info": {
      "name": "python"
    }
  },
  "nbformat": 4,
  "nbformat_minor": 0
}