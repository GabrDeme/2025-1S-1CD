{
  "nbformat": 4,
  "nbformat_minor": 0,
  "metadata": {
    "colab": {
      "provenance": []
    },
    "kernelspec": {
      "name": "python3",
      "display_name": "Python 3"
    },
    "language_info": {
      "name": "python"
    }
  },
  "cells": [
    {
      "cell_type": "markdown",
      "source": [
        "Atividade 1"
      ],
      "metadata": {
        "id": "1zPa7t1zHiqm"
      }
    },
    {
      "cell_type": "code",
      "execution_count": null,
      "metadata": {
        "colab": {
          "base_uri": "https://localhost:8080/"
        },
        "id": "EREaujaz-y9M",
        "outputId": "c1419b45-7e77-40cf-b00c-618354c4e5b6"
      },
      "outputs": [
        {
          "output_type": "stream",
          "name": "stdout",
          "text": [
            "14\n"
          ]
        }
      ],
      "source": [
        "x = 6 + 4 * 2\n",
        "print(x)"
      ]
    },
    {
      "cell_type": "code",
      "source": [
        "x = (4 * 9 + 2)\n",
        "print(x)"
      ],
      "metadata": {
        "colab": {
          "base_uri": "https://localhost:8080/"
        },
        "id": "DknmlXBPBGU0",
        "outputId": "0e048c76-1384-4e11-eabb-9b2d5c7374c7"
      },
      "execution_count": null,
      "outputs": [
        {
          "output_type": "stream",
          "name": "stdout",
          "text": [
            "38\n"
          ]
        }
      ]
    },
    {
      "cell_type": "code",
      "source": [
        "x = ((6 + 7) * 9)\n",
        "print(x)"
      ],
      "metadata": {
        "colab": {
          "base_uri": "https://localhost:8080/"
        },
        "id": "HYdi0LPTBG5r",
        "outputId": "436e1b1b-930b-483a-b9ae-e301024a0a35"
      },
      "execution_count": null,
      "outputs": [
        {
          "output_type": "stream",
          "name": "stdout",
          "text": [
            "117\n"
          ]
        }
      ]
    },
    {
      "cell_type": "code",
      "source": [
        "x = (15 + 20 - 30)\n",
        "print(x)"
      ],
      "metadata": {
        "colab": {
          "base_uri": "https://localhost:8080/"
        },
        "id": "jo-zVS-nBG8f",
        "outputId": "33be6536-538a-4025-da3d-58287ea40b7a"
      },
      "execution_count": null,
      "outputs": [
        {
          "output_type": "stream",
          "name": "stdout",
          "text": [
            "5\n"
          ]
        }
      ]
    },
    {
      "cell_type": "code",
      "source": [
        "x = (6 + 5 ** 2)\n",
        "print(x)"
      ],
      "metadata": {
        "colab": {
          "base_uri": "https://localhost:8080/"
        },
        "id": "jlf26GiMBG_n",
        "outputId": "a5003ed7-28ba-4443-d15b-4044d09768c8"
      },
      "execution_count": null,
      "outputs": [
        {
          "output_type": "stream",
          "name": "stdout",
          "text": [
            "31\n"
          ]
        }
      ]
    },
    {
      "cell_type": "markdown",
      "source": [
        "Atividade 2"
      ],
      "metadata": {
        "id": "3kmHnKJkHs9f"
      }
    },
    {
      "cell_type": "code",
      "source": [
        "x = 12\n",
        "x += 6\n",
        "print(x)"
      ],
      "metadata": {
        "colab": {
          "base_uri": "https://localhost:8080/"
        },
        "id": "ourgUqjoDuTn",
        "outputId": "4f820658-cf3a-45ec-c55e-5943dc53efec"
      },
      "execution_count": null,
      "outputs": [
        {
          "output_type": "stream",
          "name": "stdout",
          "text": [
            "18\n"
          ]
        }
      ]
    },
    {
      "cell_type": "code",
      "source": [
        "x = 12\n",
        "x -= 7\n",
        "print(x)"
      ],
      "metadata": {
        "colab": {
          "base_uri": "https://localhost:8080/"
        },
        "id": "Qbkp_-33DxFk",
        "outputId": "c92cf4bb-19a3-4fc0-80a3-495498541d9e"
      },
      "execution_count": null,
      "outputs": [
        {
          "output_type": "stream",
          "name": "stdout",
          "text": [
            "5\n"
          ]
        }
      ]
    },
    {
      "cell_type": "code",
      "source": [
        "x = 12\n",
        "x *= 35\n",
        "print(x)"
      ],
      "metadata": {
        "colab": {
          "base_uri": "https://localhost:8080/"
        },
        "id": "cuSPOlI0EgZP",
        "outputId": "d3d1c824-c610-4b16-cc6f-30125d136974"
      },
      "execution_count": null,
      "outputs": [
        {
          "output_type": "stream",
          "name": "stdout",
          "text": [
            "420\n"
          ]
        }
      ]
    },
    {
      "cell_type": "code",
      "source": [
        "x = 12\n",
        "x /= 2\n",
        "print(x)"
      ],
      "metadata": {
        "colab": {
          "base_uri": "https://localhost:8080/"
        },
        "id": "XxKOwb2KEkjo",
        "outputId": "de1825a8-da55-433f-94a8-bcb563fad5c1"
      },
      "execution_count": null,
      "outputs": [
        {
          "output_type": "stream",
          "name": "stdout",
          "text": [
            "6.0\n"
          ]
        }
      ]
    },
    {
      "cell_type": "markdown",
      "source": [
        "Atividade 3"
      ],
      "metadata": {
        "id": "WAcYqycBHy0r"
      }
    },
    {
      "cell_type": "code",
      "source": [
        "x = 51\n",
        "x1 =98"
      ],
      "metadata": {
        "id": "ErTK1mrnEnkn"
      },
      "execution_count": null,
      "outputs": []
    },
    {
      "cell_type": "code",
      "source": [
        "xresult = x < x1\n",
        "print(xresult)"
      ],
      "metadata": {
        "colab": {
          "base_uri": "https://localhost:8080/"
        },
        "id": "Wt8XK-oEH5_A",
        "outputId": "3a19c6a6-0d00-4d0f-cf94-bf04cd8f1fdd"
      },
      "execution_count": null,
      "outputs": [
        {
          "output_type": "stream",
          "name": "stdout",
          "text": [
            "True\n"
          ]
        }
      ]
    },
    {
      "cell_type": "code",
      "source": [
        "xresult = x == x1\n",
        "print(xresult)"
      ],
      "metadata": {
        "colab": {
          "base_uri": "https://localhost:8080/"
        },
        "id": "N3dec5M7H_wU",
        "outputId": "ab4095e4-8594-40c8-b435-1c5d93e83e4c"
      },
      "execution_count": null,
      "outputs": [
        {
          "output_type": "stream",
          "name": "stdout",
          "text": [
            "False\n"
          ]
        }
      ]
    },
    {
      "cell_type": "code",
      "source": [
        "xresult = x >= x1\n",
        "print(xresult)"
      ],
      "metadata": {
        "colab": {
          "base_uri": "https://localhost:8080/"
        },
        "id": "7vsseM48IGuF",
        "outputId": "a2dee0af-f5e1-4abe-df47-7bc20f7f715c"
      },
      "execution_count": null,
      "outputs": [
        {
          "output_type": "stream",
          "name": "stdout",
          "text": [
            "False\n"
          ]
        }
      ]
    },
    {
      "cell_type": "code",
      "source": [
        "xresult = x != x1\n",
        "print(xresult)"
      ],
      "metadata": {
        "colab": {
          "base_uri": "https://localhost:8080/"
        },
        "id": "9QyeXBQBILTK",
        "outputId": "1b2eddad-d6e7-4605-962e-7ee7d518abdc"
      },
      "execution_count": null,
      "outputs": [
        {
          "output_type": "stream",
          "name": "stdout",
          "text": [
            "True\n"
          ]
        }
      ]
    },
    {
      "cell_type": "markdown",
      "source": [
        "Atividade 4"
      ],
      "metadata": {
        "id": "oiFxcvNiJNOx"
      }
    },
    {
      "cell_type": "code",
      "source": [
        "x = \"botafogo\"\n",
        "x1 = \"flamengo\"\n",
        "x2 = \"botafogo\""
      ],
      "metadata": {
        "id": "7LLLXZXJIMpE"
      },
      "execution_count": null,
      "outputs": []
    },
    {
      "cell_type": "code",
      "source": [
        "xresult = x is x2\n",
        "print(xresult)\n",
        "xresult = x is not x1\n",
        "print(xresult)\n",
        "xresult = x is x1\n",
        "print(xresult)\n",
        "xresult = x1 is not x2\n",
        "print(xresult)"
      ],
      "metadata": {
        "colab": {
          "base_uri": "https://localhost:8080/"
        },
        "id": "NY5li0PrMchu",
        "outputId": "01a6b6db-579b-4f6f-c0d7-5581b7b16e3c"
      },
      "execution_count": null,
      "outputs": [
        {
          "output_type": "stream",
          "name": "stdout",
          "text": [
            "True\n",
            "True\n",
            "False\n",
            "True\n"
          ]
        }
      ]
    },
    {
      "cell_type": "markdown",
      "source": [
        "Atividade 5"
      ],
      "metadata": {
        "id": "k_JxDJVEJPL9"
      }
    },
    {
      "cell_type": "code",
      "source": [
        "frutas = [\"banana\",\"laranja\",\"uva\",\"ameixa\"]\n",
        "\n",
        "x1 = \"banana\"\n",
        "x2 = \"laranja\"\n",
        "x3 = \"abacaxi\""
      ],
      "metadata": {
        "id": "xSiKNnKIMo9y"
      },
      "execution_count": null,
      "outputs": []
    },
    {
      "cell_type": "code",
      "source": [
        "xresult = x1 in frutas\n",
        "print(xresult)\n",
        "xresult = x1 not in frutas\n",
        "print(xresult)\n",
        "xresult = x2 not in frutas\n",
        "print(xresult)\n",
        "xresult = x3 in frutas\n",
        "print(xresult)"
      ],
      "metadata": {
        "colab": {
          "base_uri": "https://localhost:8080/"
        },
        "id": "FnNBGqxDQoD4",
        "outputId": "229cb9a4-8e17-4e2c-95ea-5d8761d15488"
      },
      "execution_count": null,
      "outputs": [
        {
          "output_type": "stream",
          "name": "stdout",
          "text": [
            "True\n",
            "False\n",
            "False\n",
            "False\n"
          ]
        }
      ]
    },
    {
      "cell_type": "markdown",
      "source": [
        "Atividade 6"
      ],
      "metadata": {
        "id": "IuKwlU_TRWMv"
      }
    },
    {
      "cell_type": "code",
      "source": [
        "x = 4\n",
        "x1 = 9\n",
        "x2 = 5\n",
        "\n",
        "xresult = (((2 + 5) * 3) + x + 5) < x1\n",
        "print(xresult)\n",
        "xresult = (((2 + 5) * 3) + (x + 5 < x1) == (x == 6 + x2 * 2))\n",
        "print(xresult)\n",
        "xresult = (((3 * 6) + x - 3) < x2)\n",
        "print(xresult)\n",
        "xresult = (((7 * 8) > (x + 4 > x1) < (x != 2 + x2 * 9)))\n",
        "print(xresult)"
      ],
      "metadata": {
        "colab": {
          "base_uri": "https://localhost:8080/"
        },
        "id": "rtGRQL1iQ6Rc",
        "outputId": "58307cea-fcd2-4a1b-945b-5e32b184fee2"
      },
      "execution_count": null,
      "outputs": [
        {
          "output_type": "stream",
          "name": "stdout",
          "text": [
            "False\n",
            "False\n",
            "False\n",
            "True\n"
          ]
        }
      ]
    }
  ]
}