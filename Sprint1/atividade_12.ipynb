{
  "nbformat": 4,
  "nbformat_minor": 0,
  "metadata": {
    "colab": {
      "provenance": []
    },
    "kernelspec": {
      "name": "python3",
      "display_name": "Python 3"
    },
    "language_info": {
      "name": "python"
    }
  },
  "cells": [
    {
      "cell_type": "code",
      "execution_count": null,
      "metadata": {
        "colab": {
          "base_uri": "https://localhost:8080/"
        },
        "id": "xqgOJZ0zSG4p",
        "outputId": "52213f29-a7b8-48c8-de6a-a4b19e0ad850"
      },
      "outputs": [
        {
          "output_type": "stream",
          "name": "stdout",
          "text": [
            "Jonas\n",
            "Jessica\n"
          ]
        }
      ],
      "source": [
        "lista = [\"Jonas\",\"Jessica\",\"Alberto\",\"Umberto\"]\n",
        "\n",
        "for n in lista:\n",
        "  if n.startswith(\"J\"):\n",
        "    print(n)"
      ]
    },
    {
      "cell_type": "markdown",
      "source": [
        "Exercício 1"
      ],
      "metadata": {
        "id": "ql-x1s_JwRZ7"
      }
    },
    {
      "cell_type": "code",
      "source": [
        "num = [1, 2, 3, 4, 5, 6, 7, 8, 9, 10]\n",
        "\n",
        "soma = sum(num)\n",
        "soma"
      ],
      "metadata": {
        "colab": {
          "base_uri": "https://localhost:8080/"
        },
        "id": "bGX8IwA5Y4l3",
        "outputId": "4570da35-4c57-466d-c91e-7c2380cba40d"
      },
      "execution_count": null,
      "outputs": [
        {
          "output_type": "execute_result",
          "data": {
            "text/plain": [
              "55"
            ]
          },
          "metadata": {},
          "execution_count": 2
        }
      ]
    },
    {
      "cell_type": "markdown",
      "source": [
        "Exercício 2"
      ],
      "metadata": {
        "id": "ZEFQxuZZwTSF"
      }
    },
    {
      "cell_type": "code",
      "source": [
        "num = [1, 2, 3, 4]\n",
        "\n",
        "num.append(5)\n",
        "num"
      ],
      "metadata": {
        "colab": {
          "base_uri": "https://localhost:8080/"
        },
        "id": "MXWjuB_vv1vd",
        "outputId": "d6561933-3977-4cfb-b2ee-e614b858529a"
      },
      "execution_count": null,
      "outputs": [
        {
          "output_type": "execute_result",
          "data": {
            "text/plain": [
              "[1, 2, 3, 4, 5]"
            ]
          },
          "metadata": {},
          "execution_count": 3
        }
      ]
    },
    {
      "cell_type": "markdown",
      "source": [
        "Exercício 3"
      ],
      "metadata": {
        "id": "HmJc7gyWwUcL"
      }
    },
    {
      "cell_type": "code",
      "source": [
        "num = [1, 2, 3, 4]\n",
        "\n",
        "num.pop(-1)\n",
        "num"
      ],
      "metadata": {
        "colab": {
          "base_uri": "https://localhost:8080/"
        },
        "id": "24BlcRm_wBhV",
        "outputId": "bd97df9d-972c-4dfc-8a54-2ae72efdac7a"
      },
      "execution_count": null,
      "outputs": [
        {
          "output_type": "execute_result",
          "data": {
            "text/plain": [
              "[1, 2, 3]"
            ]
          },
          "metadata": {},
          "execution_count": 5
        }
      ]
    },
    {
      "cell_type": "markdown",
      "source": [
        "Exercício 4"
      ],
      "metadata": {
        "id": "qZaAZd5OwVZI"
      }
    },
    {
      "cell_type": "code",
      "source": [
        "num = [1, 2, 3, 4]\n",
        "\n",
        "if 4 in num:\n",
        "  print(\"O número 4 está presente\")"
      ],
      "metadata": {
        "colab": {
          "base_uri": "https://localhost:8080/"
        },
        "id": "ulXmEjZUwOQ9",
        "outputId": "e71fb071-38dc-4a22-e158-7f2ce9fa998e"
      },
      "execution_count": null,
      "outputs": [
        {
          "output_type": "stream",
          "name": "stdout",
          "text": [
            "O número 4 está presente\n"
          ]
        }
      ]
    },
    {
      "cell_type": "markdown",
      "source": [
        "Exercício 5"
      ],
      "metadata": {
        "id": "m3-D_Ay6wXzF"
      }
    },
    {
      "cell_type": "code",
      "source": [
        "num = [1, 2, 3, 4, 5, 6, 7, 8, 9, 10]\n",
        "pares = []\n",
        "\n",
        "for n in num:\n",
        "  if n % 2 == 0:\n",
        "    pares.append(n)\n",
        "pares"
      ],
      "metadata": {
        "colab": {
          "base_uri": "https://localhost:8080/"
        },
        "id": "_kwiu-hjwYwa",
        "outputId": "c2197bb1-9934-4ba1-eb70-21bea16963b2"
      },
      "execution_count": null,
      "outputs": [
        {
          "output_type": "execute_result",
          "data": {
            "text/plain": [
              "[2, 4, 6, 8, 10]"
            ]
          },
          "metadata": {},
          "execution_count": 8
        }
      ]
    },
    {
      "cell_type": "markdown",
      "source": [
        "Exercício 6"
      ],
      "metadata": {
        "id": "e7wPNihyw4AE"
      }
    },
    {
      "cell_type": "code",
      "source": [
        "nomes = [\"Ana\", \"Alex\", \"Beni\", \"Ben\", \"Caio\"]\n",
        "\n",
        "for n in nomes:\n",
        "  print(n)"
      ],
      "metadata": {
        "colab": {
          "base_uri": "https://localhost:8080/"
        },
        "id": "QxRrKJBuwzyy",
        "outputId": "fb8e8d91-7256-4a4a-d3e9-32a46b018536"
      },
      "execution_count": null,
      "outputs": [
        {
          "output_type": "stream",
          "name": "stdout",
          "text": [
            "Ana\n",
            "Alex\n",
            "Beni\n",
            "Ben\n",
            "Caio\n"
          ]
        }
      ]
    },
    {
      "cell_type": "markdown",
      "source": [
        "Exercício 7"
      ],
      "metadata": {
        "id": "gbVROYypw5UU"
      }
    },
    {
      "cell_type": "code",
      "source": [
        "strings = [\"gato\", \"cachorro\", \"gato\", \"pato\", \"cachorro\", \"coelho\", \"gato\"]\n",
        "contador = 0\n",
        "\n",
        "for s in strings:\n",
        "    if s == \"gato\":\n",
        "      contador += 1\n",
        "print(f'A palavra \"gato\" apareceu {contador} na lista')"
      ],
      "metadata": {
        "colab": {
          "base_uri": "https://localhost:8080/"
        },
        "id": "SYrpEotgw5_W",
        "outputId": "80ee7d80-7f73-4947-a464-bb578868816c"
      },
      "execution_count": null,
      "outputs": [
        {
          "output_type": "stream",
          "name": "stdout",
          "text": [
            "A palavra \"gato\" apareceu 3 na lista\n"
          ]
        }
      ]
    },
    {
      "cell_type": "markdown",
      "source": [
        "Exercício 8"
      ],
      "metadata": {
        "id": "lP3K5SBYw6XT"
      }
    },
    {
      "cell_type": "code",
      "source": [
        "num = [1, 2, 3, 4, 5]\n",
        "\n",
        "maximo = max(num)\n",
        "maximo"
      ],
      "metadata": {
        "colab": {
          "base_uri": "https://localhost:8080/"
        },
        "id": "Nu5gW16Lw6-O",
        "outputId": "66d23446-d446-446f-9634-fa41a2439999"
      },
      "execution_count": null,
      "outputs": [
        {
          "output_type": "execute_result",
          "data": {
            "text/plain": [
              "5"
            ]
          },
          "metadata": {},
          "execution_count": 11
        }
      ]
    },
    {
      "cell_type": "markdown",
      "source": [
        "Exercício 9"
      ],
      "metadata": {
        "id": "2k7iVYgKw7St"
      }
    },
    {
      "cell_type": "code",
      "source": [
        "num = [1, 2, 3, 4, 5]\n",
        "\n",
        "num.clear()\n",
        "num"
      ],
      "metadata": {
        "colab": {
          "base_uri": "https://localhost:8080/"
        },
        "id": "-n2KfE3Lw71k",
        "outputId": "47f04ff2-d78b-40da-8c45-8bc5324b8a52"
      },
      "execution_count": null,
      "outputs": [
        {
          "output_type": "execute_result",
          "data": {
            "text/plain": [
              "[]"
            ]
          },
          "metadata": {},
          "execution_count": 13
        }
      ]
    },
    {
      "cell_type": "markdown",
      "source": [
        "Exercício 10"
      ],
      "metadata": {
        "id": "oM-KDcVQw8Gb"
      }
    },
    {
      "cell_type": "code",
      "source": [
        "num = [3, 7, 1, 8, 2, 9, 6, 4, 10, 5]\n",
        "\n",
        "num.sort()\n",
        "num"
      ],
      "metadata": {
        "colab": {
          "base_uri": "https://localhost:8080/"
        },
        "id": "rfmBIGXPw9Mo",
        "outputId": "c159a181-6ad8-40e0-e023-3a334594d9df"
      },
      "execution_count": null,
      "outputs": [
        {
          "output_type": "execute_result",
          "data": {
            "text/plain": [
              "[1, 2, 3, 4, 5, 6, 7, 8, 9, 10]"
            ]
          },
          "metadata": {},
          "execution_count": 14
        }
      ]
    },
    {
      "cell_type": "markdown",
      "source": [
        "Exercício 11"
      ],
      "metadata": {
        "id": "6mSHTiMfw9fG"
      }
    },
    {
      "cell_type": "code",
      "source": [
        "num = [1, 2, 3, 4, 5]\n",
        "\n",
        "num[1] = 100\n",
        "num"
      ],
      "metadata": {
        "colab": {
          "base_uri": "https://localhost:8080/"
        },
        "id": "laMW9EEnw-gs",
        "outputId": "733bf448-8cb1-47bd-ca24-120b7f71e6f8"
      },
      "execution_count": null,
      "outputs": [
        {
          "output_type": "execute_result",
          "data": {
            "text/plain": [
              "[1, 100, 3, 4, 5]"
            ]
          },
          "metadata": {},
          "execution_count": 15
        }
      ]
    },
    {
      "cell_type": "markdown",
      "source": [
        "Exercício 12"
      ],
      "metadata": {
        "id": "GXJRNwWuw-yF"
      }
    },
    {
      "cell_type": "code",
      "source": [
        "num = [1, 2, 3, 4, 5]\n",
        "\n",
        "num[::-1]"
      ],
      "metadata": {
        "colab": {
          "base_uri": "https://localhost:8080/"
        },
        "id": "HgcL6KOLw_X5",
        "outputId": "65683855-c174-407b-9de4-05a2305e42f0"
      },
      "execution_count": null,
      "outputs": [
        {
          "output_type": "execute_result",
          "data": {
            "text/plain": [
              "[5, 4, 3, 2, 1]"
            ]
          },
          "metadata": {},
          "execution_count": 16
        }
      ]
    },
    {
      "cell_type": "markdown",
      "source": [
        "Exercício 13"
      ],
      "metadata": {
        "id": "w3A8W5HSw_vO"
      }
    },
    {
      "cell_type": "code",
      "source": [
        "num = [1, 2, 3, 4, 5, 6, 7, 8, 9, 10]\n",
        "impares = []\n",
        "\n",
        "for n in num:\n",
        "  if n % 2 == 1:\n",
        "    impares.append(n)\n",
        "impares"
      ],
      "metadata": {
        "colab": {
          "base_uri": "https://localhost:8080/"
        },
        "id": "ow9DPdAPxAW7",
        "outputId": "f34b103e-929f-4b0f-d8a9-532db49a91e5"
      },
      "execution_count": null,
      "outputs": [
        {
          "output_type": "execute_result",
          "data": {
            "text/plain": [
              "[1, 3, 5, 7, 9]"
            ]
          },
          "metadata": {},
          "execution_count": 17
        }
      ]
    },
    {
      "cell_type": "markdown",
      "source": [
        "Exercício 14"
      ],
      "metadata": {
        "id": "IzFUCfzkxAnB"
      }
    },
    {
      "cell_type": "code",
      "source": [
        "lista1 = [1, 2, 3]\n",
        "lista2 = [4, 5, 6]\n",
        "\n",
        "resultado = lista1 + lista2\n",
        "\n",
        "print(resultado)"
      ],
      "metadata": {
        "id": "aMNAgEBnxBSE"
      },
      "execution_count": null,
      "outputs": []
    },
    {
      "cell_type": "markdown",
      "source": [
        "Exercício 15"
      ],
      "metadata": {
        "id": "nRboz-m9xBoa"
      }
    },
    {
      "cell_type": "code",
      "source": [
        "dias = [\"domingo\", \"segunda-feira\", \"terça-feira\", \"quarta-feira\", \"quinta-feira\", \"sexta-feira\", \"sábado\"]\n",
        "\n",
        "dias[2]"
      ],
      "metadata": {
        "colab": {
          "base_uri": "https://localhost:8080/",
          "height": 36
        },
        "id": "rC26ccoazJBX",
        "outputId": "c677e34c-0b26-4901-c9c9-9ef75e42eed6"
      },
      "execution_count": null,
      "outputs": [
        {
          "output_type": "execute_result",
          "data": {
            "text/plain": [
              "'terça-feira'"
            ],
            "application/vnd.google.colaboratory.intrinsic+json": {
              "type": "string"
            }
          },
          "metadata": {},
          "execution_count": 19
        }
      ]
    },
    {
      "cell_type": "markdown",
      "source": [
        "Exercício 16"
      ],
      "metadata": {
        "id": "rYbSrpKtzJH0"
      }
    },
    {
      "cell_type": "code",
      "source": [
        "nomes = [\"Ana\", \"Alex\", \"Beni\", \"Ben\", \"Caio\"]\n",
        "\n",
        "for n in nomes:\n",
        "  if n.startswith(\"A\"):\n",
        "    print(n)"
      ],
      "metadata": {
        "colab": {
          "base_uri": "https://localhost:8080/"
        },
        "id": "QjkCJTCuz0La",
        "outputId": "979f8895-94ba-49c9-e1da-50bb9507ed47"
      },
      "execution_count": null,
      "outputs": [
        {
          "output_type": "stream",
          "name": "stdout",
          "text": [
            "Ana\n",
            "Alex\n"
          ]
        }
      ]
    },
    {
      "cell_type": "markdown",
      "source": [
        "Exercício 17"
      ],
      "metadata": {
        "id": "kDMW-XslzMJ-"
      }
    },
    {
      "cell_type": "code",
      "source": [
        "num = [1, 2, 3, 4, 5]\n",
        "multiplicado = []\n",
        "\n",
        "for n in num:\n",
        "  multiplicado.append(n*3)\n",
        "multiplicado"
      ],
      "metadata": {
        "colab": {
          "base_uri": "https://localhost:8080/"
        },
        "id": "9pQ_krpYzL4F",
        "outputId": "ca454038-a74f-44d2-c28c-bfb0ef48f494"
      },
      "execution_count": null,
      "outputs": [
        {
          "output_type": "execute_result",
          "data": {
            "text/plain": [
              "[3, 6, 9, 12, 15]"
            ]
          },
          "metadata": {},
          "execution_count": 23
        }
      ]
    },
    {
      "cell_type": "markdown",
      "source": [
        "Exercício 18"
      ],
      "metadata": {
        "id": "VXjvKZEczM5C"
      }
    },
    {
      "cell_type": "code",
      "source": [
        "cores = [\"vermelho\", \"azul\", \"verde\", \"amarelo\"]\n",
        "\n",
        "cores[-1]"
      ],
      "metadata": {
        "colab": {
          "base_uri": "https://localhost:8080/",
          "height": 36
        },
        "id": "HJu3z77QzNX3",
        "outputId": "95778162-ad8c-4b26-f5d9-72c01f8d7393"
      },
      "execution_count": null,
      "outputs": [
        {
          "output_type": "execute_result",
          "data": {
            "text/plain": [
              "'amarelo'"
            ],
            "application/vnd.google.colaboratory.intrinsic+json": {
              "type": "string"
            }
          },
          "metadata": {},
          "execution_count": 24
        }
      ]
    },
    {
      "cell_type": "markdown",
      "source": [
        "Exercício 19"
      ],
      "metadata": {
        "id": "BWIzO-zNzNnw"
      }
    },
    {
      "cell_type": "code",
      "source": [
        "num = [1, 2, 3]\n",
        "\n",
        "num.remove(3)\n",
        "num"
      ],
      "metadata": {
        "colab": {
          "base_uri": "https://localhost:8080/"
        },
        "id": "-vPj3lZ5zOD1",
        "outputId": "1ca1a054-e28c-42d8-c736-0865eac338ea"
      },
      "execution_count": null,
      "outputs": [
        {
          "output_type": "execute_result",
          "data": {
            "text/plain": [
              "[1, 2]"
            ]
          },
          "metadata": {},
          "execution_count": 25
        }
      ]
    },
    {
      "cell_type": "markdown",
      "source": [
        "Exercício 20"
      ],
      "metadata": {
        "id": "DO2r4BsSzOYO"
      }
    },
    {
      "cell_type": "code",
      "source": [
        "num = [1, 2, 3, 4, 5]\n",
        "\n",
        "maximo = max(num)\n",
        "minimo = min(num)\n",
        "\n",
        "print(f\"Máximo: {maximo}, Mínimo: {minimo}\")"
      ],
      "metadata": {
        "colab": {
          "base_uri": "https://localhost:8080/"
        },
        "id": "UXmGQqZAzPF9",
        "outputId": "5a4b07cb-a90a-4d7c-c4c1-61388dbfb0a8"
      },
      "execution_count": null,
      "outputs": [
        {
          "output_type": "stream",
          "name": "stdout",
          "text": [
            "Máximo: 5, Mínimo: 1\n"
          ]
        }
      ]
    },
    {
      "cell_type": "markdown",
      "source": [
        "Exercício 21"
      ],
      "metadata": {
        "id": "kInHsuUozPZy"
      }
    },
    {
      "cell_type": "code",
      "source": [
        "num = [1, 2, 3]\n",
        "copia = []\n",
        "\n",
        "copia = num.copy()\n",
        "copia"
      ],
      "metadata": {
        "colab": {
          "base_uri": "https://localhost:8080/"
        },
        "id": "S0y0c-8czQEk",
        "outputId": "fc6155d5-3c5d-486e-96e6-d330f15fb398"
      },
      "execution_count": null,
      "outputs": [
        {
          "output_type": "execute_result",
          "data": {
            "text/plain": [
              "[1, 2, 3]"
            ]
          },
          "metadata": {},
          "execution_count": 32
        }
      ]
    },
    {
      "cell_type": "markdown",
      "source": [
        "Exercício 22"
      ],
      "metadata": {
        "id": "Kf3sluqxzQYM"
      }
    },
    {
      "cell_type": "code",
      "source": [
        "frutas = [\"maçã\", \"banana\", \"laranja\", \"manga\", \"morango\", \"uva\", \"abacaxi\"]\n",
        "\n",
        "if \"banana\" in frutas:\n",
        "  print(\"Banana está presente na lista\")"
      ],
      "metadata": {
        "colab": {
          "base_uri": "https://localhost:8080/"
        },
        "id": "uFJgGNjizRQJ",
        "outputId": "70bacc02-be72-4af0-fcaf-31a259b11c10"
      },
      "execution_count": null,
      "outputs": [
        {
          "output_type": "stream",
          "name": "stdout",
          "text": [
            "Banana está presente na lista\n"
          ]
        }
      ]
    },
    {
      "cell_type": "markdown",
      "source": [
        "Exercício 23"
      ],
      "metadata": {
        "id": "U2aCdqOB1Wv7"
      }
    },
    {
      "cell_type": "code",
      "source": [
        "num = [1, 2, 3, 4, 5]\n",
        "\n",
        "media = (sum(num))/5\n",
        "media"
      ],
      "metadata": {
        "id": "KsIsfvWs1V2J",
        "colab": {
          "base_uri": "https://localhost:8080/",
          "height": 0
        },
        "outputId": "c967b875-ae2a-499a-d110-c2412d37e9c6"
      },
      "execution_count": 1,
      "outputs": [
        {
          "output_type": "execute_result",
          "data": {
            "text/plain": [
              "3.0"
            ]
          },
          "metadata": {},
          "execution_count": 1
        }
      ]
    },
    {
      "cell_type": "markdown",
      "source": [
        "Exercício 24"
      ],
      "metadata": {
        "id": "b1iU19M-1Z6V"
      }
    },
    {
      "cell_type": "code",
      "source": [
        "num_1 = [10, 20, 21]\n",
        "num_2 = [10, 20, 21]\n",
        "\n",
        "if len(num_1) == len(num_2):\n",
        "  print(\"As listas tem a mesma quantidade de itens!\")\n",
        "\n",
        "for n in range(3):\n",
        "    # print(num_1[n])\n",
        "    # print(num_2[n])\n",
        "    if num_1[n] == num_2[n]:\n",
        "      print(\"Os valores são iguais!\")\n",
        "    else:\n",
        "      print(\"Os valores são diferentes!\")"
      ],
      "metadata": {
        "id": "H92G2_4W1aiE",
        "colab": {
          "base_uri": "https://localhost:8080/",
          "height": 0
        },
        "outputId": "48f6ab5f-7945-4f2e-e7b8-816ed337dedc"
      },
      "execution_count": 13,
      "outputs": [
        {
          "output_type": "stream",
          "name": "stdout",
          "text": [
            "As listas tem a mesma quantidade de itens!\n",
            "10\n",
            "10\n",
            "Os valores são iguais!\n",
            "20\n",
            "20\n",
            "Os valores são iguais!\n",
            "21\n",
            "21\n",
            "Os valores são iguais!\n"
          ]
        }
      ]
    },
    {
      "cell_type": "markdown",
      "source": [
        "Exercício 25"
      ],
      "metadata": {
        "id": "a2r7edmr1ax5"
      }
    },
    {
      "cell_type": "code",
      "source": [
        "num = [1, 2, 3, 4, 5]\n",
        "\n",
        "escolhido = float(input(\"Qual número você acha q está na lista? \"))\n",
        "\n",
        "if escolhido in num:\n",
        "  print(\"O número está presente na lista\")\n",
        "else:\n",
        "  print(\"O número não está presente na lista\")"
      ],
      "metadata": {
        "id": "A_ZcnvVP1bUG",
        "colab": {
          "base_uri": "https://localhost:8080/",
          "height": 0
        },
        "outputId": "ed888a06-e192-4b07-dd60-ce9b0fbd8143"
      },
      "execution_count": 6,
      "outputs": [
        {
          "output_type": "stream",
          "name": "stdout",
          "text": [
            "Qual número você acha q está na lista? 12\n",
            "O número não está presente na lista\n"
          ]
        }
      ]
    },
    {
      "cell_type": "markdown",
      "source": [
        "Exercício 26"
      ],
      "metadata": {
        "id": "mam0tUvB1br5"
      }
    },
    {
      "cell_type": "code",
      "source": [
        "num = [1, 2, 3, 4, 5]\n",
        "\n",
        "primeiro = num[0]\n",
        "ultimo = num[-1]\n",
        "\n",
        "print(f\"\"\"\n",
        "Primeiro valor da lita: {primeiro}\n",
        "Último valor da lita: {ultimo}\n",
        "\"\"\")"
      ],
      "metadata": {
        "id": "sGqKZjFf1cjh",
        "colab": {
          "base_uri": "https://localhost:8080/",
          "height": 0
        },
        "outputId": "1d65029a-413b-4450-d0fd-60d7cc49eb57"
      },
      "execution_count": 8,
      "outputs": [
        {
          "output_type": "stream",
          "name": "stdout",
          "text": [
            "\n",
            "Primeiro valor da lita: 1\n",
            "Último valor da lita: 5\n",
            "\n"
          ]
        }
      ]
    },
    {
      "cell_type": "markdown",
      "source": [
        "Exercício 27"
      ],
      "metadata": {
        "id": "eW-Nfusi1c-O"
      }
    },
    {
      "cell_type": "code",
      "source": [
        "nomes = ['Ana', 'Marcos', 'Maria', 'Pedro', 'João']\n",
        "\n",
        "quantidade = len(nomes)\n",
        "print(f\"Existem {quantidade} elementos dentro da lista nomes\")"
      ],
      "metadata": {
        "id": "v7Do_iUf1dpi",
        "colab": {
          "base_uri": "https://localhost:8080/",
          "height": 0
        },
        "outputId": "b61f0604-a2ec-49de-8e0c-7bc9f9202fba"
      },
      "execution_count": 9,
      "outputs": [
        {
          "output_type": "stream",
          "name": "stdout",
          "text": [
            "Existem 5 elementos dentro da lista nomes\n"
          ]
        }
      ]
    },
    {
      "cell_type": "markdown",
      "source": [
        "Exercício 28"
      ],
      "metadata": {
        "id": "NQwUme6h1eDK"
      }
    },
    {
      "cell_type": "code",
      "source": [
        "lista = []\n",
        "\n",
        "for l in range(3):\n",
        "  oque = input(\"O que deve ser adicionado a lista? \")\n",
        "  lista.append(oque)\n",
        "lista"
      ],
      "metadata": {
        "id": "-8ofLoJQ1eqR",
        "colab": {
          "base_uri": "https://localhost:8080/",
          "height": 0
        },
        "outputId": "a7b50dc9-b11f-4aad-9074-45c838e64a9d"
      },
      "execution_count": 11,
      "outputs": [
        {
          "name": "stdout",
          "output_type": "stream",
          "text": [
            "O que deve ser adicionado a lista? 15\n",
            "O que deve ser adicionado a lista? luciano hulk\n",
            "O que deve ser adicionado a lista? pneumoultramicroscopicosilicovulcanoconiotico\n"
          ]
        },
        {
          "output_type": "execute_result",
          "data": {
            "text/plain": [
              "['15', 'luciano hulk', 'pneumoultramicroscopicosilicovulcanoconiotico']"
            ]
          },
          "metadata": {},
          "execution_count": 11
        }
      ]
    }
  ]
}