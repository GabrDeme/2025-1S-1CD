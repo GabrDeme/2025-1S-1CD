{
  "nbformat": 4,
  "nbformat_minor": 0,
  "metadata": {
    "colab": {
      "provenance": []
    },
    "kernelspec": {
      "name": "python3",
      "display_name": "Python 3"
    },
    "language_info": {
      "name": "python"
    }
  },
  "cells": [
    {
      "cell_type": "markdown",
      "source": [
        "Exercício 1"
      ],
      "metadata": {
        "id": "ZTvtiiMYT5mE"
      }
    },
    {
      "cell_type": "code",
      "execution_count": null,
      "metadata": {
        "colab": {
          "base_uri": "https://localhost:8080/"
        },
        "id": "6VnPqb-OTy39",
        "outputId": "75b71998-b464-4405-a57e-88e4b51e79cd"
      },
      "outputs": [
        {
          "name": "stdout",
          "output_type": "stream",
          "text": [
            "Escolha um número: -1\n"
          ]
        }
      ],
      "source": [
        "num = int(input(\"Escolha um número: \"))\n",
        "\n",
        "if num > 0:\n",
        "  print(\"O número escolhido é positivo.\")"
      ]
    },
    {
      "cell_type": "markdown",
      "source": [
        "Exercício 2"
      ],
      "metadata": {
        "id": "7voTc2fSUisN"
      }
    },
    {
      "cell_type": "code",
      "source": [
        "idade = int(input(\"Quantos anos você tem? \"))\n",
        "\n",
        "if idade >= 18:\n",
        "  print(\"Maior de idade.\")"
      ],
      "metadata": {
        "colab": {
          "base_uri": "https://localhost:8080/"
        },
        "id": "QYk4kKTYUhqR",
        "outputId": "ca75421f-8244-4764-b134-1e85f11f8086"
      },
      "execution_count": null,
      "outputs": [
        {
          "output_type": "stream",
          "name": "stdout",
          "text": [
            "Quantos anos você tem? 18\n",
            "Maior de idade.\n"
          ]
        }
      ]
    },
    {
      "cell_type": "markdown",
      "source": [
        "Exercício 3"
      ],
      "metadata": {
        "id": "s0YCn-rSVRG9"
      }
    },
    {
      "cell_type": "code",
      "source": [
        "num_par = int(input(\"Escolha um número: \"))\n",
        "\n",
        "if num_par % 2 == 0:\n",
        "  print(\"Número par.\")"
      ],
      "metadata": {
        "colab": {
          "base_uri": "https://localhost:8080/"
        },
        "id": "moJJw_YgVOxi",
        "outputId": "ee49386a-6b92-4e8c-e199-de20fba6b609"
      },
      "execution_count": null,
      "outputs": [
        {
          "name": "stdout",
          "output_type": "stream",
          "text": [
            "Escolha um número: 3\n"
          ]
        }
      ]
    },
    {
      "cell_type": "markdown",
      "source": [
        "Exercício 4"
      ],
      "metadata": {
        "id": "HLx3wYLhV7f6"
      }
    },
    {
      "cell_type": "code",
      "source": [
        "temperatura = float(input(\"Informe em Cº quantos graus está fazendo: \"))\n",
        "\n",
        "if temperatura > 30:\n",
        "  print(\"Está quente!\")"
      ],
      "metadata": {
        "colab": {
          "base_uri": "https://localhost:8080/"
        },
        "id": "z_ssCwsLVhmP",
        "outputId": "bb9a88e4-da7a-472f-df2b-a4db9c646bc7"
      },
      "execution_count": null,
      "outputs": [
        {
          "output_type": "stream",
          "name": "stdout",
          "text": [
            "Informe em Cº quantos graus está fazendo: 31\n",
            "Está quente!\n"
          ]
        }
      ]
    },
    {
      "cell_type": "markdown",
      "source": [
        "Exercício 5"
      ],
      "metadata": {
        "id": "crf2-w3eXd1h"
      }
    },
    {
      "cell_type": "code",
      "source": [
        "nota = int(input(\"Qual é a nota do aluno? \"))\n",
        "\n",
        "if nota >= 6:\n",
        "  print(\"Aprovado\")"
      ],
      "metadata": {
        "colab": {
          "base_uri": "https://localhost:8080/"
        },
        "id": "OEoM1bBrXKpu",
        "outputId": "ed8a998a-130a-4c46-a337-45f387017a9a"
      },
      "execution_count": null,
      "outputs": [
        {
          "output_type": "stream",
          "name": "stdout",
          "text": [
            "Qual é a nota do aluno? 6\n",
            "Aprovado\n"
          ]
        }
      ]
    },
    {
      "cell_type": "markdown",
      "source": [
        "Exercício 6"
      ],
      "metadata": {
        "id": "-ELqbuaWYE3G"
      }
    },
    {
      "cell_type": "code",
      "source": [
        "senha = input(\"Insira a sua senha: \")\n",
        "\n",
        "if senha == \"1234\":\n",
        "  print(\"Acesso permitido\")"
      ],
      "metadata": {
        "colab": {
          "base_uri": "https://localhost:8080/"
        },
        "id": "lwvxmY_fX3ZT",
        "outputId": "83cda40b-94f9-4fb9-9aa7-b0877587af5b"
      },
      "execution_count": null,
      "outputs": [
        {
          "output_type": "stream",
          "name": "stdout",
          "text": [
            "Insira a sua senha: 1234\n",
            "Acesso permitido\n"
          ]
        }
      ]
    },
    {
      "cell_type": "markdown",
      "source": [
        "Exercício 7"
      ],
      "metadata": {
        "id": "_cBesVXbYTbD"
      }
    },
    {
      "cell_type": "code",
      "source": [
        "valor_compra = float(input(\"Insira em R$ o valor da sua compra: \"))\n",
        "\n",
        "if valor_compra > 100.00:\n",
        "  print(\"Você ganhou um desconto!\")"
      ],
      "metadata": {
        "colab": {
          "base_uri": "https://localhost:8080/"
        },
        "id": "5JzPAW-rYPLM",
        "outputId": "a4042880-0566-4308-998a-16013a3107ca"
      },
      "execution_count": null,
      "outputs": [
        {
          "output_type": "stream",
          "name": "stdout",
          "text": [
            "Insira em R$ o valor da sua compra: 101.00\n",
            "Você ganhou um desconto!\n"
          ]
        }
      ]
    },
    {
      "cell_type": "markdown",
      "source": [
        "Exercício 8"
      ],
      "metadata": {
        "id": "mUUvHLBPY3GS"
      }
    },
    {
      "cell_type": "code",
      "source": [
        "aleatorio = int(input(\"Insira um número: \"))\n",
        "\n",
        "if aleatorio > 100:\n",
        "  print(\"Número maior que 100\")"
      ],
      "metadata": {
        "colab": {
          "base_uri": "https://localhost:8080/"
        },
        "id": "wJqud8KBYmId",
        "outputId": "18fdccb1-3ab3-43a0-de85-990fe5f1dbca"
      },
      "execution_count": null,
      "outputs": [
        {
          "output_type": "stream",
          "name": "stdout",
          "text": [
            "Insira um número: 102\n",
            "Número maior que 100\n"
          ]
        }
      ]
    },
    {
      "cell_type": "markdown",
      "source": [
        "Exercício 9"
      ],
      "metadata": {
        "id": "fMZQwLytZc1S"
      }
    },
    {
      "cell_type": "code",
      "source": [
        "velocidade = int(input(\"Informe a sua velocidade: \"))\n",
        "\n",
        "if velocidade > 80:\n",
        "  print(\"Você foi multado!\")"
      ],
      "metadata": {
        "colab": {
          "base_uri": "https://localhost:8080/"
        },
        "id": "HkAvd0RmZZLh",
        "outputId": "410cc03a-34d9-4926-c1b4-2faf148802a9"
      },
      "execution_count": null,
      "outputs": [
        {
          "output_type": "stream",
          "name": "stdout",
          "text": [
            "Informe a sua velocidade: 81\n",
            "Você foi multado!\n"
          ]
        }
      ]
    },
    {
      "cell_type": "markdown",
      "source": [
        "Exercício 10"
      ],
      "metadata": {
        "id": "gt0GqB-RZ90n"
      }
    },
    {
      "cell_type": "code",
      "source": [
        "ano = int(input(\"Informe um ano: \"))\n",
        "\n",
        "if ano % 4 == 0:\n",
        "  print(\"Ano bissexto\")"
      ],
      "metadata": {
        "colab": {
          "base_uri": "https://localhost:8080/"
        },
        "id": "yshOkmJdZzkh",
        "outputId": "cfdc2591-9577-4642-e4bb-152eb3f43d2a"
      },
      "execution_count": null,
      "outputs": [
        {
          "output_type": "stream",
          "name": "stdout",
          "text": [
            "Informe um ano: 2024\n",
            "Ano bissexto\n"
          ]
        }
      ]
    },
    {
      "cell_type": "markdown",
      "source": [
        "Pós-atividade"
      ],
      "metadata": {
        "id": "9UMAN9iHhN2h"
      }
    },
    {
      "cell_type": "code",
      "source": [
        "password = input(\"Type your password: \")\n",
        "\n",
        "if password == \"1234\":\n",
        "  print(\"Access allowed\")\n",
        "else:\n",
        "  print(\"Access denied\")"
      ],
      "metadata": {
        "colab": {
          "base_uri": "https://localhost:8080/"
        },
        "id": "7XoEuutHhP0O",
        "outputId": "2c32d455-4ddf-46df-8efb-3edeb0e22322"
      },
      "execution_count": null,
      "outputs": [
        {
          "output_type": "stream",
          "name": "stdout",
          "text": [
            "Type your password: 123\n",
            "Access denied\n"
          ]
        }
      ]
    },
    {
      "cell_type": "code",
      "source": [
        "week_day = input(\"Tell me the day of the week: \").lower().strip()\n",
        "\n",
        "if week_day == \"monday\" or week_day == \"tuesday\" or week_day == \"wednesday\" or week_day == \"thursday\" or week_day == \"friday\":\n",
        "  print(\"Week day\")\n",
        "elif week_day == \"saturday\" or week_day == \"sunday\":\n",
        "  print(\"Weekend day\")\n",
        "else:\n",
        "  print(\"That's not a valid day\")"
      ],
      "metadata": {
        "colab": {
          "base_uri": "https://localhost:8080/"
        },
        "id": "niHBhY9XhlBB",
        "outputId": "d8ff7184-32ce-4a0e-a8c2-b31e3c8177cd"
      },
      "execution_count": null,
      "outputs": [
        {
          "output_type": "stream",
          "name": "stdout",
          "text": [
            "Tell me the day of the week: Sunday\n",
            "Weekend day\n"
          ]
        }
      ]
    }
  ]
}