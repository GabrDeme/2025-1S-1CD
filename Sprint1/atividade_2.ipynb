{
  "nbformat": 4,
  "nbformat_minor": 0,
  "metadata": {
    "colab": {
      "provenance": []
    },
    "kernelspec": {
      "name": "python3",
      "display_name": "Python 3"
    },
    "language_info": {
      "name": "python"
    }
  },
  "cells": [
    {
      "cell_type": "markdown",
      "source": [
        "Exercício 1"
      ],
      "metadata": {
        "id": "en2YBskFf_en"
      }
    },
    {
      "cell_type": "code",
      "execution_count": null,
      "metadata": {
        "colab": {
          "base_uri": "https://localhost:8080/"
        },
        "id": "z4ifan0kc5Kh",
        "outputId": "f03684a9-dc87-4368-f2f4-4a3e4869897c"
      },
      "outputs": [
        {
          "output_type": "stream",
          "name": "stdout",
          "text": [
            "Resultados \n",
            " Soma: 12 \n",
            " Subtração: 8 \n",
            " Multiplicação: 20 \n",
            " Divisão: 5 \n",
            " Resto da divisão: 0\n"
          ]
        }
      ],
      "source": [
        "a = 10\n",
        "b = 2\n",
        "\n",
        "soma = a + b\n",
        "subtracao = a - b\n",
        "multiplicacao = a * b\n",
        "divisao = a / b\n",
        "resto = a % b\n",
        "\n",
        "print(f\"Resultados \\n Soma: {soma} \\n Subtração: {subtracao} \\n Multiplicação: {multiplicacao} \\n Divisão: {divisao:.0f} \\n Resto da divisão: {resto}\")"
      ]
    },
    {
      "cell_type": "markdown",
      "source": [
        "Exercício 2"
      ],
      "metadata": {
        "id": "L-kC7aahgC7V"
      }
    },
    {
      "cell_type": "code",
      "source": [
        "c = 20\n",
        "d = 10\n",
        "\n",
        "soma = c + d\n",
        "diferenca = c - d\n",
        "print(f\"\\n Soma: {soma} \\n Diferença: {diferenca}\")"
      ],
      "metadata": {
        "colab": {
          "base_uri": "https://localhost:8080/"
        },
        "id": "WoQ9eNAcd2Pz",
        "outputId": "b0ee3842-b6ba-4edd-e169-3dfcbd1a044b"
      },
      "execution_count": null,
      "outputs": [
        {
          "output_type": "stream",
          "name": "stdout",
          "text": [
            "\n",
            " Soma: 30 \n",
            " Diferença: 10\n"
          ]
        }
      ]
    },
    {
      "cell_type": "markdown",
      "source": [
        "Exercício 3"
      ],
      "metadata": {
        "id": "cvA-_1-0gms9"
      }
    },
    {
      "cell_type": "code",
      "source": [
        "divisao_inteira = 20 / 4\n",
        "divisao_real = 53 / 2\n",
        "\n",
        "print(f\"Produto de uma divisão inteira: {divisao_inteira:.0f}\")\n",
        "print(f\"Produto de uma divisão real: {divisao_real:.2f}\")"
      ],
      "metadata": {
        "colab": {
          "base_uri": "https://localhost:8080/"
        },
        "id": "yjGMsq5Qgglh",
        "outputId": "86409bec-e503-473a-8860-d2832d486294"
      },
      "execution_count": null,
      "outputs": [
        {
          "output_type": "stream",
          "name": "stdout",
          "text": [
            "Produto de uma divisão inteira: 5\n",
            "Produto de uma divisão real: 26.50\n"
          ]
        }
      ]
    },
    {
      "cell_type": "markdown",
      "source": [
        "Exercício 4"
      ],
      "metadata": {
        "id": "WgQ2mMfXhP-x"
      }
    },
    {
      "cell_type": "code",
      "source": [
        "num = int(input(\"Escolha um número: \"))\n",
        "if num % 2 == 0:\n",
        "  print(\"O seu número é Par\")\n",
        "else:\n",
        "  print(\"O seu número é Impar\")"
      ],
      "metadata": {
        "colab": {
          "base_uri": "https://localhost:8080/"
        },
        "id": "YRl7R-GkjgIY",
        "outputId": "d11337e5-49e6-43e2-da36-478d69c88308"
      },
      "execution_count": null,
      "outputs": [
        {
          "output_type": "stream",
          "name": "stdout",
          "text": [
            "Escolha um número: 3\n",
            "O seu número é Impar\n"
          ]
        }
      ]
    },
    {
      "cell_type": "markdown",
      "source": [
        "Exercício 5"
      ],
      "metadata": {
        "id": "Kb8U0EEjmVIu"
      }
    },
    {
      "cell_type": "code",
      "source": [
        "potencia = 2 ** 4\n",
        "\n",
        "print(potencia)"
      ],
      "metadata": {
        "colab": {
          "base_uri": "https://localhost:8080/"
        },
        "id": "Q-g8hpchmM1B",
        "outputId": "80e10fb3-8681-440f-b91b-4124ddc8be19"
      },
      "execution_count": null,
      "outputs": [
        {
          "output_type": "stream",
          "name": "stdout",
          "text": [
            "16\n"
          ]
        }
      ]
    },
    {
      "cell_type": "markdown",
      "source": [
        "Exercício 6"
      ],
      "metadata": {
        "id": "hWH1jH1im_i_"
      }
    },
    {
      "cell_type": "code",
      "source": [
        "print(f\"Média dos números 53, 48, 87 é igual a { (53 + 48 + 87) / 3:.1f}\")"
      ],
      "metadata": {
        "colab": {
          "base_uri": "https://localhost:8080/"
        },
        "id": "QZgqpGiOm9AT",
        "outputId": "0a0f24b8-570b-48c1-8aa2-d1719b0cfada"
      },
      "execution_count": null,
      "outputs": [
        {
          "output_type": "stream",
          "name": "stdout",
          "text": [
            "Média dos números 53, 48, 87 é igual a 62.7\n"
          ]
        }
      ]
    },
    {
      "cell_type": "markdown",
      "source": [
        "Exercício 7"
      ],
      "metadata": {
        "id": "o1v8PUf3oU2I"
      }
    },
    {
      "cell_type": "code",
      "source": [
        "g = 15\n",
        "\n",
        "g1 = g + 5\n",
        "print(g1)\n",
        "g2 = g1 * 2\n",
        "print(g2)\n",
        "g3 = g2 - 3\n",
        "print(g3)\n",
        "g4 = g3 / 2\n",
        "print(g4)\n",
        "g5 = g4 % 3\n"
      ],
      "metadata": {
        "colab": {
          "base_uri": "https://localhost:8080/"
        },
        "id": "TIT_E7pPoN95",
        "outputId": "4d04991e-7b02-4471-cbda-d6b886b712fa"
      },
      "execution_count": null,
      "outputs": [
        {
          "output_type": "stream",
          "name": "stdout",
          "text": [
            "20\n",
            "40\n",
            "37\n",
            "18.5\n"
          ]
        }
      ]
    },
    {
      "cell_type": "markdown",
      "source": [
        "Exercício 8"
      ],
      "metadata": {
        "id": "dnx97mXkqWRx"
      }
    },
    {
      "cell_type": "code",
      "source": [
        "h = 10\n",
        "i = 17\n",
        "\n",
        "maior = h > i\n",
        "print(maior)\n",
        "igual = h == i\n",
        "print(igual)\n",
        "menor = h <= i\n",
        "print(menor)"
      ],
      "metadata": {
        "id": "gbOfEjWqpWre",
        "colab": {
          "base_uri": "https://localhost:8080/"
        },
        "outputId": "fa4f6491-9552-4a0f-e005-3c2d857989af"
      },
      "execution_count": null,
      "outputs": [
        {
          "output_type": "stream",
          "name": "stdout",
          "text": [
            "False\n",
            "False\n",
            "True\n"
          ]
        }
      ]
    },
    {
      "cell_type": "markdown",
      "source": [
        "Exercício 9"
      ],
      "metadata": {
        "id": "75p_nRBC396i"
      }
    },
    {
      "cell_type": "code",
      "source": [
        "idade_a = 19\n",
        "idade_b = 17\n",
        "\n",
        "de_maior = idade_a and idade_b >= 18\n",
        "print(de_maior)"
      ],
      "metadata": {
        "colab": {
          "base_uri": "https://localhost:8080/"
        },
        "id": "8IcL4vra3q17",
        "outputId": "317e2c62-1645-409d-eabc-03914c65486c"
      },
      "execution_count": null,
      "outputs": [
        {
          "output_type": "stream",
          "name": "stdout",
          "text": [
            "False\n"
          ]
        }
      ]
    },
    {
      "cell_type": "markdown",
      "source": [
        "Exercício 10"
      ],
      "metadata": {
        "id": "DHMV381Q4eaY"
      }
    },
    {
      "cell_type": "code",
      "source": [
        "palavra = input(\"Escolha um palavra: \")\n",
        "\n",
        "print(\"a\" in palavra)"
      ],
      "metadata": {
        "colab": {
          "base_uri": "https://localhost:8080/"
        },
        "id": "SrCDCtqP4Kt-",
        "outputId": "830508a1-c75c-4d83-bb9b-4c3600b12926"
      },
      "execution_count": null,
      "outputs": [
        {
          "output_type": "stream",
          "name": "stdout",
          "text": [
            "Escolha um palavra: bacon\n",
            "True\n"
          ]
        }
      ]
    },
    {
      "cell_type": "markdown",
      "source": [
        "Exercício 11"
      ],
      "metadata": {
        "id": "ioVI44yi5Us-"
      }
    },
    {
      "cell_type": "code",
      "source": [
        "lista = [\"maçã\", \"banana\", \"laranja\", \"uva\", \"morango\", \"pêra\"]\n",
        "\n",
        "banana = \"banana\" in lista\n",
        "abacaxi = \"abacaxi\" not in lista\n",
        "\n",
        "print(banana, abacaxi)"
      ],
      "metadata": {
        "colab": {
          "base_uri": "https://localhost:8080/"
        },
        "id": "mFXykJAp5qGN",
        "outputId": "9cb0a551-1bcf-4d83-ec96-213c2595cb55"
      },
      "execution_count": null,
      "outputs": [
        {
          "output_type": "stream",
          "name": "stdout",
          "text": [
            "True True\n"
          ]
        }
      ]
    }
  ]
}