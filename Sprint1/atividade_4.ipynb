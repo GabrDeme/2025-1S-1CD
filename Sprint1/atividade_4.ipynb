{
  "nbformat": 4,
  "nbformat_minor": 0,
  "metadata": {
    "colab": {
      "provenance": []
    },
    "kernelspec": {
      "name": "python3",
      "display_name": "Python 3"
    },
    "language_info": {
      "name": "python"
    }
  },
  "cells": [
    {
      "cell_type": "markdown",
      "source": [
        "Exercício 1"
      ],
      "metadata": {
        "id": "EhyeaGMevFAm"
      }
    },
    {
      "cell_type": "code",
      "execution_count": null,
      "metadata": {
        "colab": {
          "base_uri": "https://localhost:8080/"
        },
        "id": "6GdK2SSwuyzc",
        "outputId": "822bb4cb-077f-4a77-b24a-e016913adf14"
      },
      "outputs": [
        {
          "output_type": "stream",
          "name": "stdout",
          "text": [
            "Escolha um número: 1\n",
            "Escolha um segundo número: 1\n",
            "Os números são iguais.\n"
          ]
        }
      ],
      "source": [
        "num1 = int(input(\"Escolha um número: \"))\n",
        "num2 = int(input(\"Escolha um segundo número: \"))\n",
        "\n",
        "if num1 == num2:\n",
        "  print(\"Os números são iguais.\")\n",
        "else:\n",
        "  print(\"Os números são diferentes.\")"
      ]
    },
    {
      "cell_type": "markdown",
      "source": [
        "Exercício 2"
      ],
      "metadata": {
        "id": "lqmg4Ot9v0nY"
      }
    },
    {
      "cell_type": "code",
      "source": [
        "idade = int(input(\"Quantos anos você tem? \"))\n",
        "\n",
        "if idade >= 18:\n",
        "  print(\"Você é maior de idade.\")\n",
        "else:\n",
        "  print(\"Você é menor de idade\")"
      ],
      "metadata": {
        "colab": {
          "base_uri": "https://localhost:8080/"
        },
        "id": "9q_z-KfAvXJm",
        "outputId": "20064f7d-3694-4e17-e397-11e1e3c66a0f"
      },
      "execution_count": null,
      "outputs": [
        {
          "output_type": "stream",
          "name": "stdout",
          "text": [
            "Quantos anos você tem? 17\n",
            "Você é menor de idade\n"
          ]
        }
      ]
    },
    {
      "cell_type": "markdown",
      "source": [
        "Exercício 3"
      ],
      "metadata": {
        "id": "WQEiZXM-wEQ4"
      }
    },
    {
      "cell_type": "code",
      "source": [
        "convite = input(\"Você tem um convite válido? \").strip().lower()\n",
        "\n",
        "if convite == \"sim\":\n",
        "    print(\"Entrada permitida\")\n",
        "else:\n",
        "    print(\"Entrada negada\")"
      ],
      "metadata": {
        "colab": {
          "base_uri": "https://localhost:8080/"
        },
        "id": "fsjj5vv1v8wG",
        "outputId": "e18b13bb-7460-4103-e991-6d5488db1774"
      },
      "execution_count": null,
      "outputs": [
        {
          "output_type": "stream",
          "name": "stdout",
          "text": [
            "Você tem um convite válido? não\n",
            "Entrada negada\n"
          ]
        }
      ]
    },
    {
      "cell_type": "markdown",
      "source": [
        "Exercício 4"
      ],
      "metadata": {
        "id": "Ie_BaYFWwZO2"
      }
    },
    {
      "cell_type": "code",
      "source": [
        "nome = input(\"Qual é o seu nome? \").capitalize()\n",
        "\n",
        "if nome == \"Carlos\":\n",
        "  print(\"Você está na lista\")\n",
        "else:\n",
        "  print(\"Nome não encontrado\")"
      ],
      "metadata": {
        "colab": {
          "base_uri": "https://localhost:8080/"
        },
        "id": "T85WjufFwXoe",
        "outputId": "93e0f324-6e1b-409c-bd49-86e4a09bff98"
      },
      "execution_count": null,
      "outputs": [
        {
          "output_type": "stream",
          "name": "stdout",
          "text": [
            "Qual é o seu nome? carlos\n",
            "Você está na lista\n"
          ]
        }
      ]
    },
    {
      "cell_type": "markdown",
      "source": [
        "Exercício 5"
      ],
      "metadata": {
        "id": "nWblUBiJw6d6"
      }
    },
    {
      "cell_type": "code",
      "source": [
        "valor = float(input(\"Qual é o valor da conta? \"))\n",
        "\n",
        "if valor > 100.00:\n",
        "  print(f\"O valor com a gorjeta é R$ {valor + (valor * 0.10):.2f}\")\n",
        "else:\n",
        "  print(f\"O valor com a gorjeta é R$ {valor + (valor * 0.5):.2f}\")"
      ],
      "metadata": {
        "colab": {
          "base_uri": "https://localhost:8080/"
        },
        "id": "z1pdInxawujZ",
        "outputId": "5869cca7-7a51-4552-9f66-3a9ee4bf07d5"
      },
      "execution_count": null,
      "outputs": [
        {
          "output_type": "stream",
          "name": "stdout",
          "text": [
            "Qual é o valor da conta? 101\n",
            "O valor com a gorjeta é R$ 111.10\n"
          ]
        }
      ]
    },
    {
      "cell_type": "markdown",
      "source": [
        "Exercício 6"
      ],
      "metadata": {
        "id": "2c4UxNDExipW"
      }
    },
    {
      "cell_type": "code",
      "source": [
        "senha_wifi = input(\"Qual é a senha do wi-fi? \")\n",
        "\n",
        "if senha_wifi == \"senha123\":\n",
        "  print(\"Conectado\")\n",
        "else:\n",
        "  print(\"Senha incorreta\")"
      ],
      "metadata": {
        "colab": {
          "base_uri": "https://localhost:8080/"
        },
        "id": "w8SzvYjPxh6N",
        "outputId": "e2a065b2-3622-4dca-f3c8-7a062a642089"
      },
      "execution_count": null,
      "outputs": [
        {
          "output_type": "stream",
          "name": "stdout",
          "text": [
            "Qual é a senha do wi-fi? senha123\n",
            "Conectado\n"
          ]
        }
      ]
    },
    {
      "cell_type": "markdown",
      "source": [
        "Exercício 7"
      ],
      "metadata": {
        "id": "--nkZrqUy_P_"
      }
    },
    {
      "cell_type": "code",
      "source": [
        "print(\"Utilize a tecla 'M' para Manhã e qualquer outra para Tarde!\")\n",
        "horario = input(\"Em que horário do dia estamos? \").upper().strip()\n",
        "\n",
        "if horario == \"M\":\n",
        "  print(\"Bom dia!\")\n",
        "else:\n",
        "  print(\"Boa tarde!\")"
      ],
      "metadata": {
        "colab": {
          "base_uri": "https://localhost:8080/"
        },
        "id": "PghmeM_my9Fn",
        "outputId": "61ef90e4-3d36-42bc-9eaf-9e166bda8c2a"
      },
      "execution_count": null,
      "outputs": [
        {
          "output_type": "stream",
          "name": "stdout",
          "text": [
            "Utilize a tecla 'M' para Manhã e qualquer outra para Tarde!\n",
            "Em que horário do dia estamos? M\n",
            "Bom dia!\n"
          ]
        }
      ]
    },
    {
      "cell_type": "markdown",
      "source": [
        "Exercício 8"
      ],
      "metadata": {
        "id": "AYhWRjul0rdC"
      }
    },
    {
      "cell_type": "code",
      "source": [
        "multiplo = int(input(\"Informe um número inteiro: \"))\n",
        "\n",
        "if multiplo % 5 == 0:\n",
        "  print(\"Múltiplo de 5\")\n",
        "else:\n",
        "  print(\"Não é múltiplo de 5\")"
      ],
      "metadata": {
        "colab": {
          "base_uri": "https://localhost:8080/"
        },
        "id": "ePsv58ukz7al",
        "outputId": "414ce164-679a-4d7d-9ee3-80de93139c51"
      },
      "execution_count": null,
      "outputs": [
        {
          "output_type": "stream",
          "name": "stdout",
          "text": [
            "Informe um número inteiro: 5\n",
            "Múltiplo de 5\n"
          ]
        }
      ]
    },
    {
      "cell_type": "markdown",
      "source": [
        "Exercício 9"
      ],
      "metadata": {
        "id": "Gg_xvwpa1MDP"
      }
    },
    {
      "cell_type": "code",
      "source": [
        "valor_compra = float(input(\"Qual seria o valor da compra? \"))\n",
        "\n",
        "if valor_compra > 150.00:\n",
        "  print(f\"O valor final da compra é R$ {valor_compra - 20.00:.2f}\")\n",
        "else:\n",
        "  print(\"Desconto não aplicável a essa compra!\")"
      ],
      "metadata": {
        "colab": {
          "base_uri": "https://localhost:8080/"
        },
        "id": "xsZZPLBt0ogz",
        "outputId": "a6c1ab1f-29d3-4667-8272-b082b05dc5d2"
      },
      "execution_count": null,
      "outputs": [
        {
          "output_type": "stream",
          "name": "stdout",
          "text": [
            "Qual seria o valor da compra? 151\n",
            "O valor final da compra é R$ 131.00\n"
          ]
        }
      ]
    }
  ]
}